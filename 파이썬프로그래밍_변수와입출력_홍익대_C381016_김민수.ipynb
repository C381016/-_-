{
 "cells": [
  {
   "cell_type": "markdown",
   "metadata": {},
   "source": [
    "# 변수와 입출력\n",
    "### 변수의 선언과 사용"
   ]
  },
  {
   "cell_type": "code",
   "execution_count": 1,
   "metadata": {},
   "outputs": [
    {
     "name": "stdout",
     "output_type": "stream",
     "text": [
      "산업데이터공학\n",
      "1880972619776\n"
     ]
    }
   ],
   "source": [
    "# 변수 var_x에 문자열 데이터 '산업데이터공학'을 저장\n",
    "var_x = '산업데이터공학'\n",
    "\n",
    "# 변수 var_x에 저장된 데이터를 출력\n",
    "print(var_x)\n",
    "\n",
    "#변수 var_x의 메모리 주소를 출력\n",
    "print(id(var_x))\n"
   ]
  },
  {
   "cell_type": "code",
   "execution_count": 2,
   "metadata": {},
   "outputs": [
    {
     "name": "stdout",
     "output_type": "stream",
     "text": [
      "산업데이터공학과\n",
      "1880951363728\n"
     ]
    }
   ],
   "source": [
    "# 변수 var_x를 문자열 데이터 '산업데이터공학과'로 수정\n",
    "var_x = '산업데이터공학과'\n",
    "\n",
    "print(var_x)\n",
    "print(id(var_x))\n"
   ]
  },
  {
   "cell_type": "code",
   "execution_count": 3,
   "metadata": {},
   "outputs": [
    {
     "name": "stdout",
     "output_type": "stream",
     "text": [
      "산업데이터공학과\n",
      "1880951366688\n"
     ]
    }
   ],
   "source": [
    "# 변수 var_y에 문자열 데이터 '산업데이터공학과'를 저장\n",
    "var_y = '산업데이터공학과'\n",
    "\n",
    "print(var_y)\n",
    "print(id(var_y))\n"
   ]
  },
  {
   "cell_type": "markdown",
   "metadata": {},
   "source": [
    "### 현재 사용 중인 변수 확인"
   ]
  },
  {
   "cell_type": "code",
   "execution_count": 4,
   "metadata": {},
   "outputs": [
    {
     "data": {
      "application/json": {
       "cell": {
        "!": "OSMagics",
        "HTML": "Other",
        "SVG": "Other",
        "bash": "Other",
        "capture": "ExecutionMagics",
        "cmd": "Other",
        "code_wrap": "ExecutionMagics",
        "debug": "ExecutionMagics",
        "file": "Other",
        "html": "DisplayMagics",
        "javascript": "DisplayMagics",
        "js": "DisplayMagics",
        "latex": "DisplayMagics",
        "markdown": "DisplayMagics",
        "perl": "Other",
        "prun": "ExecutionMagics",
        "pypy": "Other",
        "python": "Other",
        "python2": "Other",
        "python3": "Other",
        "ruby": "Other",
        "script": "ScriptMagics",
        "sh": "Other",
        "svg": "DisplayMagics",
        "sx": "OSMagics",
        "system": "OSMagics",
        "time": "ExecutionMagics",
        "timeit": "ExecutionMagics",
        "writefile": "OSMagics"
       },
       "line": {
        "alias": "OSMagics",
        "alias_magic": "BasicMagics",
        "autoawait": "AsyncMagics",
        "autocall": "AutoMagics",
        "automagic": "AutoMagics",
        "autosave": "KernelMagics",
        "bookmark": "OSMagics",
        "cd": "OSMagics",
        "clear": "KernelMagics",
        "cls": "KernelMagics",
        "code_wrap": "ExecutionMagics",
        "colors": "BasicMagics",
        "conda": "PackagingMagics",
        "config": "ConfigMagics",
        "connect_info": "KernelMagics",
        "copy": "Other",
        "ddir": "Other",
        "debug": "ExecutionMagics",
        "dhist": "OSMagics",
        "dirs": "OSMagics",
        "doctest_mode": "BasicMagics",
        "echo": "Other",
        "ed": "Other",
        "edit": "KernelMagics",
        "env": "OSMagics",
        "gui": "BasicMagics",
        "hist": "Other",
        "history": "HistoryMagics",
        "killbgscripts": "ScriptMagics",
        "ldir": "Other",
        "less": "KernelMagics",
        "load": "CodeMagics",
        "load_ext": "ExtensionMagics",
        "loadpy": "CodeMagics",
        "logoff": "LoggingMagics",
        "logon": "LoggingMagics",
        "logstart": "LoggingMagics",
        "logstate": "LoggingMagics",
        "logstop": "LoggingMagics",
        "ls": "Other",
        "lsmagic": "BasicMagics",
        "macro": "ExecutionMagics",
        "magic": "BasicMagics",
        "mamba": "PackagingMagics",
        "matplotlib": "PylabMagics",
        "micromamba": "PackagingMagics",
        "mkdir": "Other",
        "more": "KernelMagics",
        "notebook": "BasicMagics",
        "page": "BasicMagics",
        "pastebin": "CodeMagics",
        "pdb": "ExecutionMagics",
        "pdef": "NamespaceMagics",
        "pdoc": "NamespaceMagics",
        "pfile": "NamespaceMagics",
        "pinfo": "NamespaceMagics",
        "pinfo2": "NamespaceMagics",
        "pip": "PackagingMagics",
        "popd": "OSMagics",
        "pprint": "BasicMagics",
        "precision": "BasicMagics",
        "prun": "ExecutionMagics",
        "psearch": "NamespaceMagics",
        "psource": "NamespaceMagics",
        "pushd": "OSMagics",
        "pwd": "OSMagics",
        "pycat": "OSMagics",
        "pylab": "PylabMagics",
        "qtconsole": "KernelMagics",
        "quickref": "BasicMagics",
        "recall": "HistoryMagics",
        "rehashx": "OSMagics",
        "reload_ext": "ExtensionMagics",
        "ren": "Other",
        "rep": "Other",
        "rerun": "HistoryMagics",
        "reset": "NamespaceMagics",
        "reset_selective": "NamespaceMagics",
        "rmdir": "Other",
        "run": "ExecutionMagics",
        "save": "CodeMagics",
        "sc": "OSMagics",
        "set_env": "OSMagics",
        "store": "StoreMagics",
        "sx": "OSMagics",
        "system": "OSMagics",
        "tb": "ExecutionMagics",
        "time": "ExecutionMagics",
        "timeit": "ExecutionMagics",
        "unalias": "OSMagics",
        "unload_ext": "ExtensionMagics",
        "uv": "PackagingMagics",
        "who": "NamespaceMagics",
        "who_ls": "NamespaceMagics",
        "whos": "NamespaceMagics",
        "xdel": "NamespaceMagics",
        "xmode": "BasicMagics"
       }
      },
      "text/plain": [
       "Available line magics:\n",
       "%alias  %alias_magic  %autoawait  %autocall  %automagic  %autosave  %bookmark  %cd  %clear  %cls  %code_wrap  %colors  %conda  %config  %connect_info  %copy  %ddir  %debug  %dhist  %dirs  %doctest_mode  %echo  %ed  %edit  %env  %gui  %hist  %history  %killbgscripts  %ldir  %less  %load  %load_ext  %loadpy  %logoff  %logon  %logstart  %logstate  %logstop  %ls  %lsmagic  %macro  %magic  %mamba  %matplotlib  %micromamba  %mkdir  %more  %notebook  %page  %pastebin  %pdb  %pdef  %pdoc  %pfile  %pinfo  %pinfo2  %pip  %popd  %pprint  %precision  %prun  %psearch  %psource  %pushd  %pwd  %pycat  %pylab  %qtconsole  %quickref  %recall  %rehashx  %reload_ext  %ren  %rep  %rerun  %reset  %reset_selective  %rmdir  %run  %save  %sc  %set_env  %store  %sx  %system  %tb  %time  %timeit  %unalias  %unload_ext  %uv  %who  %who_ls  %whos  %xdel  %xmode\n",
       "\n",
       "Available cell magics:\n",
       "%%!  %%HTML  %%SVG  %%bash  %%capture  %%cmd  %%code_wrap  %%debug  %%file  %%html  %%javascript  %%js  %%latex  %%markdown  %%perl  %%prun  %%pypy  %%python  %%python2  %%python3  %%ruby  %%script  %%sh  %%svg  %%sx  %%system  %%time  %%timeit  %%writefile\n",
       "\n",
       "Automagic is ON, % prefix IS NOT needed for line magics."
      ]
     },
     "execution_count": 4,
     "metadata": {},
     "output_type": "execute_result"
    }
   ],
   "source": [
    "# 매직 명령어 목록 보기\n",
    "%lsmagic"
   ]
  },
  {
   "cell_type": "code",
   "execution_count": 5,
   "metadata": {},
   "outputs": [
    {
     "data": {
      "text/plain": [
       "'c:\\\\Users\\\\Kim Minsoo\\\\Documents\\\\김민수_파이썬'"
      ]
     },
     "execution_count": 5,
     "metadata": {},
     "output_type": "execute_result"
    }
   ],
   "source": [
    "# 현재 디렉토리 확인\n",
    "%pwd"
   ]
  },
  {
   "cell_type": "code",
   "execution_count": 6,
   "metadata": {},
   "outputs": [
    {
     "name": "stdout",
     "output_type": "stream",
     "text": [
      " C ����̺��� �������� �̸��� �����ϴ�.\n",
      " ���� �Ϸ� ��ȣ: F887-89BF\n",
      "\n",
      " c:\\Users\\Kim Minsoo\\Documents\\��μ�_���̽� ���͸�\n",
      "\n",
      "2025-04-01  ���� 08:09    <DIR>          .\n",
      "2025-04-02  ���� 02:05    <DIR>          ..\n",
      "2025-04-01  ���� 08:08            14,587 ���̽����α׷���_�����Ϳ���_ȫ�ʹ�_C381016_��μ�.ipynb\n",
      "2025-04-01  ���� 08:07            28,280 ���̽����α׷���_����������_ȫ�ʹ�_C381016_��μ�.ipynb\n",
      "2025-04-02  ���� 02:16            32,456 ���̽����α׷���_�����������_ȫ�ʹ�_C381016_��μ�.ipynb\n",
      "               3�� ����              75,323 ����Ʈ\n",
      "               2�� ���͸�  179,584,835,584 ����Ʈ ����\n"
     ]
    }
   ],
   "source": [
    "# 현재 파일 목록 확인\n",
    "%ls"
   ]
  },
  {
   "cell_type": "code",
   "execution_count": 7,
   "metadata": {},
   "outputs": [
    {
     "name": "stdout",
     "output_type": "stream",
     "text": [
      "var_x\t var_y\t \n",
      "Variable   Type    Data/Info\n",
      "----------------------------\n",
      "var_x      str     산업데이터공학과\n",
      "var_y      str     산업데이터공학과\n"
     ]
    }
   ],
   "source": [
    "# 현재 커널에서 사용 중인 변수 목록\n",
    "%who\n",
    "\n",
    "# 현재 커널에서 사용 중인 변수 목록, 데이터 타입, 값\n",
    "%whos"
   ]
  },
  {
   "cell_type": "markdown",
   "metadata": {},
   "source": [
    "### 변수의 삭제"
   ]
  },
  {
   "cell_type": "code",
   "execution_count": 8,
   "metadata": {},
   "outputs": [
    {
     "name": "stdout",
     "output_type": "stream",
     "text": [
      "Variable   Type    Data/Info\n",
      "----------------------------\n",
      "var_x      str     산업데이터공학과\n",
      "var_y      str     산업데이터공학과\n",
      "var_z1     int     123\n",
      "var_z2     list    n=5\n"
     ]
    }
   ],
   "source": [
    "var_z1 = 123\n",
    "var_z2 = [1,2,3,4,5]\n",
    "\n",
    "%whos"
   ]
  },
  {
   "cell_type": "code",
   "execution_count": 9,
   "metadata": {},
   "outputs": [
    {
     "name": "stdout",
     "output_type": "stream",
     "text": [
      "Variable   Type    Data/Info\n",
      "----------------------------\n",
      "var_y      str     산업데이터공학과\n",
      "var_z1     int     123\n",
      "var_z2     list    n=5\n"
     ]
    }
   ],
   "source": [
    "# 변수 var_x를 삭제\n",
    "del var_x\n",
    "\n",
    "# 변수 var_x가 삭제되었는지 확인\n",
    "%whos"
   ]
  },
  {
   "cell_type": "code",
   "execution_count": 10,
   "metadata": {},
   "outputs": [
    {
     "name": "stdout",
     "output_type": "stream",
     "text": [
      "Interactive namespace is empty.\n"
     ]
    }
   ],
   "source": [
    "# 나머지 변수들을 삭제\n",
    "del var_y, var_z1, var_z2\n",
    "\n",
    "# 모든 변수가 삭제되었는지 확인\n",
    "%whos"
   ]
  },
  {
   "cell_type": "markdown",
   "metadata": {},
   "source": [
    "### 데이터의 입출력\n",
    "- input() 함수"
   ]
  },
  {
   "cell_type": "code",
   "execution_count": 11,
   "metadata": {},
   "outputs": [],
   "source": [
    "# 사용자로부터 데이터를 입력받아 변수 var_x에 저장\n",
    "var_x = input('데이터를 입력하세요: ')"
   ]
  },
  {
   "cell_type": "code",
   "execution_count": 12,
   "metadata": {},
   "outputs": [
    {
     "name": "stdout",
     "output_type": "stream",
     "text": [
      "var_x = '법학과'\n",
      "<class 'str'>\n"
     ]
    }
   ],
   "source": [
    "# 변수 var_x에 저장된 데이터를 출력\n",
    "print(f'{var_x = }')\n",
    "\n",
    "# 변수 var_x의 데이터 타입을 출력\n",
    "print(f'{type(var_x)}')"
   ]
  },
  {
   "cell_type": "code",
   "execution_count": 13,
   "metadata": {},
   "outputs": [
    {
     "name": "stdout",
     "output_type": "stream",
     "text": [
      "23\n",
      "<class 'int'>\n"
     ]
    }
   ],
   "source": [
    "# 사용자로부터 데이터를 입력받아 정수형으로 변환한 후, 변수 var_y에 저장\n",
    "var_y = int(input('숫자를 입력하세요: '))\n",
    "\n",
    "# 변수 var_y에 저장된 데이터를 출력\n",
    "print(var_y)\n",
    "\n",
    "# 변수 var_y의 데이터 타입을 출력\n",
    "print(type(var_y))"
   ]
  },
  {
   "cell_type": "markdown",
   "metadata": {},
   "source": [
    "### print() 함수"
   ]
  },
  {
   "cell_type": "code",
   "execution_count": 14,
   "metadata": {},
   "outputs": [
    {
     "name": "stdout",
     "output_type": "stream",
     "text": [
      "10\n",
      "10 산업데이터공학과 3.14 True\n",
      "10!산업데이터공학과!3.14!True\n",
      "10!산업데이터공학과!3.14!True\t*************\n"
     ]
    }
   ],
   "source": [
    "print(10)\n",
    "print(10, '산업데이터공학과', 3.14, True)\n",
    "print(10, '산업데이터공학과', 3.14, True, sep='!')\n",
    "print(10, '산업데이터공학과', 3.14, True, sep='!', end='\\t*************\\n')"
   ]
  },
  {
   "cell_type": "markdown",
   "metadata": {},
   "source": [
    "### 이스케이프 문자"
   ]
  },
  {
   "cell_type": "code",
   "execution_count": 15,
   "metadata": {},
   "outputs": [
    {
     "name": "stdout",
     "output_type": "stream",
     "text": [
      "이름: 홍길동\n",
      "학번: 20210000\n",
      "학과: 산업데이터공학과\n"
     ]
    }
   ],
   "source": [
    "# 줄바꿈 적용\n",
    "print('이름: 홍길동\\n학번: 20210000\\n학과: 산업데이터공학과')"
   ]
  },
  {
   "cell_type": "code",
   "execution_count": 16,
   "metadata": {},
   "outputs": [
    {
     "name": "stdout",
     "output_type": "stream",
     "text": [
      "이름\t학번\t\t학과\n",
      "홍길동\t20210000\t\t산업데이터공학과\n",
      "김강\t20210001\t\t경영학과\n"
     ]
    }
   ],
   "source": [
    "# 탭 적용\n",
    "print('이름\\t학번\\t\\t학과')\n",
    "print('홍길동\\t20210000\\t\\t산업데이터공학과')\n",
    "print('김강\\t20210001\\t\\t경영학과')"
   ]
  },
  {
   "cell_type": "markdown",
   "metadata": {},
   "source": [
    "### f-string"
   ]
  },
  {
   "cell_type": "code",
   "execution_count": 17,
   "metadata": {},
   "outputs": [
    {
     "name": "stdout",
     "output_type": "stream",
     "text": [
      "54321\n",
      "----------------------------\n",
      "var_y = 54321\n",
      "----------------------------\n",
      "var_y = 54321\n"
     ]
    }
   ],
   "source": [
    "# 변수 var_y에 정수형 데이터 54321을 저장\n",
    "var_y = 54321\n",
    "\n",
    "# 변수 var_y에 저장된 데이터를 출력\n",
    "print(f'{var_y}', end='\\n----------------------------\\n')\n",
    "\n",
    "# 변수 var_y에 저장된 데이터를 출력\n",
    "print(f'{var_y = }', end='\\n----------------------------\\n')\n",
    "\n",
    "# 변수 var_y에 저장된 데이터를 출력\n",
    "print(f'var_y = {var_y}')\n"
   ]
  },
  {
   "cell_type": "markdown",
   "metadata": {},
   "source": [
    "#### 정수형과 실수형 자리표현"
   ]
  },
  {
   "cell_type": "code",
   "execution_count": 18,
   "metadata": {},
   "outputs": [
    {
     "name": "stdout",
     "output_type": "stream",
     "text": [
      "var_x는 정수형이므로 d를 사용하여야 하고, 54321입니다.\n",
      "var_x를 총 20개의 자리에 표현하면,                54321입니다.\n",
      "var_x를 총 20개의 자리에 왼쪽 정렬하여 표현하면, 54321               입니다.\n",
      "var_y는 실수형이므로 f를 사용하여야 하고, 54321.123457입니다.\n",
      "var_y를 정수만 출력하면 54321입니다.\n",
      "var_y를 소수점 5자리까지 출력하면 54321.12346입니다.\n",
      "var_y를 20자리에 가운데 정렬하여 소수자리리 3자리까지 출력하면      54321.123      입니다.\n"
     ]
    }
   ],
   "source": [
    "var_x = 54321\n",
    "var_y = 54321.123456789\n",
    "\n",
    "print(f'var_x는 정수형이므로 d를 사용하여야 하고, {var_x:d}입니다.')\n",
    "print(f'var_x를 총 20개의 자리에 표현하면, {var_x:20d}입니다.')\n",
    "print(f'var_x를 총 20개의 자리에 왼쪽 정렬하여 표현하면, {var_x:<20d}입니다.')\n",
    "\n",
    "print(f'var_y는 실수형이므로 f를 사용하여야 하고, {var_y:f}입니다.')\n",
    "print(f'var_y를 정수만 출력하면 {var_y:.0f}입니다.')\n",
    "print(f'var_y를 소수점 5자리까지 출력하면 {var_y:.5f}입니다.')\n",
    "print(f'var_y를 20자리에 가운데 정렬하여 소수자리리 3자리까지 출력하면 {var_y:^20.3f}입니다.')"
   ]
  },
  {
   "cell_type": "markdown",
   "metadata": {},
   "source": [
    "# 변수와 입출력 - 응용\n",
    "\n",
    "### 변수의 선언과 사용"
   ]
  },
  {
   "cell_type": "code",
   "execution_count": 19,
   "metadata": {},
   "outputs": [
    {
     "name": "stdout",
     "output_type": "stream",
     "text": [
      "저는 법학과에 다니고 있습니다.\n",
      "변수 var_ x의 메모리 주소 :  1880972973344\n"
     ]
    }
   ],
   "source": [
    "# 변수 var_x에 문자열 데이터 '법학과'를 저장\n",
    "var_x = '법학과'\n",
    "\n",
    "# 변수 var_x에 저장된 데이터 출력\n",
    "print(f'저는 {var_x}에 다니고 있습니다.')\n",
    "\n",
    "# 변수 var_x의 메모리 주소를 출력\n",
    "print('변수 var_ x의 메모리 주소 : ', id(var_x))"
   ]
  },
  {
   "cell_type": "code",
   "execution_count": 20,
   "metadata": {},
   "outputs": [
    {
     "name": "stdout",
     "output_type": "stream",
     "text": [
      "법과대학은 단일학부이므로    법학부   라고 표현하는 것이 알맞습니다.\n",
      "법학부의 메모리 주소는 = 1880972623056\n"
     ]
    }
   ],
   "source": [
    "# 변수 var_x를 문자열 데이터 '법학부부'로 수정\n",
    "var_x = '법학부'\n",
    "\n",
    "print(f'법과대학은 단일학부이므로    {var_x}   라고 표현하는 것이 알맞습니다.')\n",
    "print(f'{var_x}의 메모리 주소는 = {id(var_x)}')"
   ]
  },
  {
   "cell_type": "markdown",
   "metadata": {},
   "source": [
    "### 현재 사용 중인 변수 확인"
   ]
  },
  {
   "cell_type": "code",
   "execution_count": 21,
   "metadata": {},
   "outputs": [
    {
     "name": "stdout",
     "output_type": "stream",
     "text": [
      "현재 디렉토리는\n"
     ]
    },
    {
     "data": {
      "text/plain": [
       "'c:\\\\Users\\\\Kim Minsoo\\\\Documents\\\\김민수_파이썬'"
      ]
     },
     "execution_count": 21,
     "metadata": {},
     "output_type": "execute_result"
    }
   ],
   "source": [
    "# 현재 디렉토리, 파일 목록 확인\n",
    "print('현재 디렉토리는') \n",
    "%pwd"
   ]
  },
  {
   "cell_type": "code",
   "execution_count": 22,
   "metadata": {},
   "outputs": [
    {
     "name": "stdout",
     "output_type": "stream",
     "text": [
      "Variable   Type     Data/Info\n",
      "-----------------------------\n",
      "var_x      str      법학부\n",
      "var_y      float    54321.123456789\n"
     ]
    }
   ],
   "source": [
    "# 현재 커널에서 사용 중인 변수 목록, 데이터 타입, 값\n",
    "%whos"
   ]
  },
  {
   "cell_type": "markdown",
   "metadata": {},
   "source": [
    "### 변수의 삭제"
   ]
  },
  {
   "cell_type": "code",
   "execution_count": 23,
   "metadata": {},
   "outputs": [
    {
     "name": "stdout",
     "output_type": "stream",
     "text": [
      "Variable   Type    Data/Info\n",
      "----------------------------\n",
      "var_x      str     법학부\n",
      "var_y      str     법과대학\n",
      "var_z1     int     23\n",
      "var_z2     list    n=6\n",
      "var_z3     dict    n=3\n"
     ]
    }
   ],
   "source": [
    "var_y = '법과대학' \n",
    "var_z1 = 11*2+1\n",
    "var_z2 = [0, '민수', 2, '파이썬', 4, '모험']\n",
    "var_z3 = {'학년': 3, '학점' : 4.5, '장학금' : '자주'}\n",
    "\n",
    "%whos"
   ]
  },
  {
   "cell_type": "code",
   "execution_count": 24,
   "metadata": {},
   "outputs": [
    {
     "name": "stdout",
     "output_type": "stream",
     "text": [
      "Variable   Type    Data/Info\n",
      "----------------------------\n",
      "var_x      str     법학부\n",
      "var_y      str     법과대학\n",
      "var_z2     list    n=6\n"
     ]
    }
   ],
   "source": [
    "# 변수 var_z1, var_z3을 삭제\n",
    "del var_z3, var_z1\n",
    "\n",
    "# 해당 변수들이 삭제되었는지 확인\n",
    "%whos"
   ]
  },
  {
   "cell_type": "markdown",
   "metadata": {},
   "source": [
    "### 데이터의 입출력\n",
    "- input 함수"
   ]
  },
  {
   "cell_type": "code",
   "execution_count": 25,
   "metadata": {},
   "outputs": [],
   "source": [
    "# 사용자로부터 데이터를 문자열로로 입력 받아 변수 var_x에 저장\n",
    "var_x = input('좋아하는 음식을 문자열로 입력하세요:')"
   ]
  },
  {
   "cell_type": "code",
   "execution_count": 26,
   "metadata": {},
   "outputs": [
    {
     "name": "stdout",
     "output_type": "stream",
     "text": [
      "var_x = '마라탕'\n",
      "<class 'str'>\n",
      "------------------------------\n",
      "Variable   Type    Data/Info\n",
      "----------------------------\n",
      "var_x      str     마라탕\n",
      "var_y      str     법과대학\n",
      "var_z2     list    n=6\n"
     ]
    }
   ],
   "source": [
    "# 변수 var_x에 저장된 데이터를 출력\n",
    "print(f'{var_x = }')\n",
    "\n",
    "# 변수 var_x의 데이터 타입을 출력\n",
    "print(f'{type(var_x)}', end='\\n'+'-'*30+'\\n')\n",
    "\n",
    "%whos"
   ]
  },
  {
   "cell_type": "code",
   "execution_count": 27,
   "metadata": {},
   "outputs": [
    {
     "name": "stdout",
     "output_type": "stream",
     "text": [
      "160.0 cm\n",
      "현재 데이터 타입: <class 'float'>\n"
     ]
    }
   ],
   "source": [
    "# 사용자로부터 데이터를 입력 받아 실수형으로 변환한 후, 변수 var_y에 저장\n",
    "high = float(input('현재 키를 입력하세요: '))\n",
    "\n",
    "# 변수 var_y에 저장된 데이터를 출력\n",
    "print(high,'cm')\n",
    "\n",
    "# 변수 var_y의 데이터 타입을 출력\n",
    "print(f'현재 데이터 타입: {type(high)}')"
   ]
  },
  {
   "cell_type": "markdown",
   "metadata": {},
   "source": [
    "- print 함수"
   ]
  },
  {
   "cell_type": "code",
   "execution_count": 28,
   "metadata": {},
   "outputs": [
    {
     "name": "stdout",
     "output_type": "stream",
     "text": [
      "23|메롱|법학부|메롱|4.47|메롱|False\n",
      "............................................................\n",
      "\n",
      "\n",
      "마라탕\n",
      "육회 먹고싶다! |  라면 먹고싶다! |  초밥 먹고싶다! |  다 먹고싶다!\n"
     ]
    }
   ],
   "source": [
    "print(23, '법학부', 4.47, False, sep='|메롱|', end='\\n'+'...'*20+'\\n\\n\\n')\n",
    "\n",
    "print('마라탕')\n",
    "print('육회','라면', '초밥', '다 먹고싶다!', sep=' 먹고싶다! |  ')"
   ]
  },
  {
   "cell_type": "code",
   "execution_count": 29,
   "metadata": {},
   "outputs": [
    {
     "name": "stdout",
     "output_type": "stream",
     "text": [
      "지금 당장 마라탕 먹고싶다 \n",
      "\n",
      "\n",
      "------------------------------------------------------------\n",
      "마라탕을 지금 먹으면\n"
     ]
    },
    {
     "name": "stdout",
     "output_type": "stream",
     "text": [
      "10kg 찌게 됩니다.\n",
      "\n",
      "\n"
     ]
    }
   ],
   "source": [
    "print(f'지금 당장 {var_x} 먹고싶다','\\n'*3+'-'*60)\n",
    "print(f'{var_x}을 지금 먹으면') \n",
    "\n",
    "# 정수형으로 데이터를 받아 변수 var_z에 저장\n",
    "var_z = int(input('몇 키로가 찔까요?'))\n",
    "# 받은 데이터를 문자열과 함께 출력\n",
    "print(f'{var_z}kg 찌게 됩니다.\\n\\n')"
   ]
  },
  {
   "cell_type": "code",
   "execution_count": 30,
   "metadata": {},
   "outputs": [
    {
     "name": "stdout",
     "output_type": "stream",
     "text": [
      "따라서 마라탕을 먹으면 60.0kg이 됩니다.\n",
      "당신의 bmi는  23.4375  입니다.\n"
     ]
    }
   ],
   "source": [
    "# 변수 var_w에 데이터를 저장\n",
    "var_w = float(input('현재 몸무게는?'))\n",
    "\n",
    "# 변수 var_z와 var_w를 더한 값을 print함수를 통해 출력\n",
    "weight = var_w+var_z\n",
    "print(f'따라서 마라탕을 먹으면 {weight}kg이 됩니다.')\n",
    "\n",
    "# 변수 bmi를 계산 후 print함수를 통해 값을 출력\n",
    "bmi = weight/((high/100)**2)\n",
    "print(f'당신의 bmi는 {bmi:^10.4f}입니다.')"
   ]
  },
  {
   "cell_type": "markdown",
   "metadata": {},
   "source": [
    "- 이스케이프 문자"
   ]
  },
  {
   "cell_type": "code",
   "execution_count": 31,
   "metadata": {},
   "outputs": [
    {
     "name": "stdout",
     "output_type": "stream",
     "text": [
      "노래를 들읍시다!\n",
      "\n",
      "\n",
      "       [ 사랑하기 때문에 ] - 유제하\n",
      "\n",
      "\n",
      "\n",
      "            0:23 ━━❚━━━━━━ 3:09\n",
      "\n",
      "         ⇆ ⠀⠀⠀⠀⠀◃ ❚❚ ▹       ↻\n"
     ]
    }
   ],
   "source": [
    "# 줄바꿈 적용\n",
    "print('노래를 들읍시다!\\n\\n\\n       [ 사랑하기 때문에 ] - 유제하\\n\\n\\n')\n",
    "\n",
    "print('''            0:23 ━━❚━━━━━━ 3:09\\n\n",
    "         ⇆ ⠀⠀⠀⠀⠀◃ ❚❚ ▹       ↻''')"
   ]
  },
  {
   "cell_type": "code",
   "execution_count": 36,
   "metadata": {},
   "outputs": [
    {
     "name": "stdout",
     "output_type": "stream",
     "text": [
      "과목\t\t시간\t강의실 \n",
      "------------------------------------------------------------\n",
      "파이썬프로그래밍\t화123\tT1004-T1005\n",
      "헌법통치구조론\t화789\tR911\n",
      "상법총칙\t\t월234\tR1102\n",
      "친족상속법\t월678\tR616-1\n",
      "물권각론\t\t수678\tR616-1\n",
      "교양일본어\t수34목2\tR312\n"
     ]
    }
   ],
   "source": [
    "# 탭 적용\n",
    "print('과목\\t\\t시간\\t강의실','\\n'+'-'*60)\n",
    "print('파이썬프로그래밍\\t화123\\tT1004-T1005')\n",
    "print('헌법통치구조론\\t화789\\tR911')\n",
    "print('상법총칙\\t\\t월234\\tR1102')\n",
    "print('친족상속법\\t월678\\tR616-1')\n",
    "print('물권각론\\t\\t수678\\tR616-1')\n",
    "print('교양일본어\\t수34목2\\tR312')"
   ]
  },
  {
   "cell_type": "markdown",
   "metadata": {},
   "source": [
    "- f-string"
   ]
  },
  {
   "cell_type": "code",
   "execution_count": 33,
   "metadata": {},
   "outputs": [
    {
     "name": "stdout",
     "output_type": "stream",
     "text": [
      "잎새에 이는 바람에도 나는 괴로워 했다.\n",
      "오늘 밤에도 별이 바람에 스치운다.\n",
      "times = '바람'\n",
      "------------------------------------------------------------\n",
      "심리적 혼란, 시대의 현실 = 바람\n"
     ]
    }
   ],
   "source": [
    "# 변수 에 문자열 데이터 '바람'을 저장\n",
    "times = '바람'\n",
    "\n",
    "# 변수 var_y에 저장된 데이터를 출력\n",
    "print(f'잎새에 이는 {times}에도 나는 괴로워 했다.')\n",
    "print(f'오늘 밤에도 별이 {times}에 스치운다.')\n",
    "\n",
    "# 변수 var_y에 저장된 데이터를 출력\n",
    "print(f'{times = }', end='\\n'+'-'*60+'\\n')\n",
    "\n",
    "# 변수 var_y에 저장된 데이터를 출력\n",
    "print(f'심리적 혼란, 시대의 현실 = {times}')"
   ]
  },
  {
   "cell_type": "markdown",
   "metadata": {},
   "source": [
    "- 정수형과 실수형 자리표현"
   ]
  },
  {
   "cell_type": "code",
   "execution_count": null,
   "metadata": {},
   "outputs": [
    {
     "name": "stdout",
     "output_type": "stream",
     "text": [
      "(1) 오늘의 날짜는 20250401입니다.\n",
      "철수: 오늘이 며칠인가요? =>             20250401이에요!\n",
      "철수: 오늘이 며칠이라구요? =>     2025040120250401라구요!!\n",
      "\n",
      "------------------------------\n",
      "철수: 오늘이 며칠이라구요? => 202504012025040120250401라니까요!!\n",
      "\n",
      "------------------------------\n",
      "금일의 날짜는? 202504012025040120250401       [정답]\n",
      "제 생일은 2003.071600입니다.\n",
      "??: 몇년생이세요? \t저는 2003년생입니다.\n",
      "역술가: 몇년 몇월생이세요?              2003.07입니다.\n",
      "\t\t  축 \n",
      "생일           2003.0716            축하해!\n"
     ]
    }
   ],
   "source": [
    "var_x = 20250401\n",
    "var_y = 2003.0716\n",
    "\n",
    "# 정수형 자리표현\n",
    "# :nd <= n자리에 표현하고자 하는 자릿수 넣기(우측으로 붙여짐)\n",
    "# 왼측으로 붙이고 싶다면 :<nd\n",
    "# 중앙에 정렬하고 싶다면 :^nd\n",
    "print(f'(1) 오늘의 날짜는 {var_x:d}입니다.')\n",
    "print(f'철수: 오늘이 며칠인가요? => {var_x:20d}이에요!') # 20자리에 숫자표현\n",
    "\n",
    "var_x = 2025040120250401\n",
    "print(f'철수: 오늘이 며칠이라구요? => {var_x:20d}라구요!!', end='\\n\\n'+'-'*30+'\\n')\n",
    "\n",
    "var_x = 202504012025040120250401   # 20자리가 넘는 숫자를 :20d로 입력해보자 => 20자리를 넘어 데이터가 그대로 출력됨\n",
    "print(f'철수: 오늘이 며칠이라구요? => {var_x:20d}라니까요!!', end='\\n\\n'+'-'*30+'\\n')\n",
    "# 데이터를 왼측으로 붙여 출력해보자\n",
    "print(f'금일의 날짜는? {var_x:<30d} [정답]')\n",
    "\n",
    "# 실수형 자리표현현\n",
    "# var_y는 실수형이므로 f를 사용한다\n",
    "print(f'제 생일은 {var_y:f}입니다.')\n",
    "# 소수점자리를 표현해보자\n",
    "print(f'??: 몇년생이세요? \\t저는 {var_y:.0f}년생입니다.') # 정수형으로 표현\n",
    "print(f'역술가: 몇년 몇월생이세요? {var_y:20.2f}입니다.') # 소수점 둘째자리까지 20자리로 표현\n",
    "print(f'\\t\\t  축 \\n생일 {var_y:^30.4f} 축하해!') # 30자리의 중앙에 정렬하여 소수점 4번째자리까지 표현"
   ]
  }
 ],
 "metadata": {
  "kernelspec": {
   "display_name": "base",
   "language": "python",
   "name": "python3"
  },
  "language_info": {
   "codemirror_mode": {
    "name": "ipython",
    "version": 3
   },
   "file_extension": ".py",
   "mimetype": "text/x-python",
   "name": "python",
   "nbconvert_exporter": "python",
   "pygments_lexer": "ipython3",
   "version": "3.12.9"
  }
 },
 "nbformat": 4,
 "nbformat_minor": 2
}
