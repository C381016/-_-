{
 "cells": [
  {
   "cell_type": "markdown",
   "metadata": {},
   "source": [
    "# 데이터 유형\n",
    "### 파이썬 데이터 유형(type)\n",
    "\n",
    "- 숫자(Number)\n",
    "- 문자열(String)\n",
    "- 리스트(List)\n",
    "- 튜플(tuple)\n",
    "- 딕셔너리(Dictionary)\n",
    "- 집합(Set)\n",
    "- 불린(Boolean)\n",
    "- None"
   ]
  },
  {
   "cell_type": "markdown",
   "metadata": {},
   "source": [
    "#### 데이터 유형의 확인\n",
    "- 변수에 데이터를 배정하고 유형 확인"
   ]
  },
  {
   "cell_type": "code",
   "execution_count": 225,
   "metadata": {},
   "outputs": [
    {
     "name": "stdout",
     "output_type": "stream",
     "text": [
      "x_value = 12345\n",
      "type(x_value) = <class 'int'>\n"
     ]
    }
   ],
   "source": [
    "# x_value에 정수 12345를 할당 \n",
    "x_value = 12345\n",
    "\n",
    "# x_value의 값과 자료형을 출력\n",
    "print(f'{x_value = }\\n{type(x_value) = }')\n",
    "\n",
    "# x_value의 유형은 클래스(class) 'int'임. 즉, 객체(object)임임"
   ]
  },
  {
   "cell_type": "code",
   "execution_count": 226,
   "metadata": {},
   "outputs": [
    {
     "name": "stdout",
     "output_type": "stream",
     "text": [
      "x_str ='abcde'\n",
      "type(x_str) = <class 'str'>\n"
     ]
    }
   ],
   "source": [
    "# x_str에 문자열 'abcde'를 할당\n",
    "x_str = 'abcde'\n",
    "\n",
    "# x_str의 값과 자료형을 출력\n",
    "print(f'{x_str =}\\n{type(x_str) = }')"
   ]
  },
  {
   "cell_type": "code",
   "execution_count": 227,
   "metadata": {},
   "outputs": [
    {
     "name": "stdout",
     "output_type": "stream",
     "text": [
      "x_list = ['abcde', 12345]\n",
      "type(x_list) = <class 'list'>\n"
     ]
    }
   ],
   "source": [
    "# x_list에 x_str과 x_value를 원소로 갖는 리스트를 할당\n",
    "x_list = [x_str, x_value]\n",
    "\n",
    "# x_list의 값과 자료형을 출력\n",
    "print(f'{x_list = }\\n{type(x_list) = }')"
   ]
  },
  {
   "cell_type": "code",
   "execution_count": 228,
   "metadata": {},
   "outputs": [
    {
     "name": "stdout",
     "output_type": "stream",
     "text": [
      "x_tuple = ('abcde', 12345)\n",
      "type(x_tuple) = <class 'tuple'>\n"
     ]
    }
   ],
   "source": [
    "# x_tuple에 x_str과 x_value를 원소로 갖는 튜플을 할당\n",
    "x_tuple = (x_str, x_value)\n",
    "\n",
    "\n",
    "# x_tuple의 값과 자료형을 출력\n",
    "print(f'{x_tuple = }\\n{type(x_tuple) = }')"
   ]
  },
  {
   "cell_type": "code",
   "execution_count": 229,
   "metadata": {},
   "outputs": [
    {
     "name": "stdout",
     "output_type": "stream",
     "text": [
      "x_dict = {'name': 'Minsoo Kim', 'id': 67890}\n",
      "type(x_dict) = <class 'dict'>\n"
     ]
    }
   ],
   "source": [
    "# x_dict에 key가 'name'과 'id'이고 value가 'Minsoo Kim'과 67890인 딕셔너리를 할당\n",
    "x_dict = {'name':'Minsoo Kim', 'id':67890}\n",
    "\n",
    "# x_dict의 값과 자료형을 출력\n",
    "print(f'{x_dict = }\\n{type(x_dict) = }')"
   ]
  },
  {
   "cell_type": "code",
   "execution_count": 230,
   "metadata": {},
   "outputs": [
    {
     "name": "stdout",
     "output_type": "stream",
     "text": [
      "x_none = None\n",
      "type(x_none) = <class 'NoneType'>\n"
     ]
    }
   ],
   "source": [
    "# x_none에 None을 할당\n",
    "x_none = None\n",
    "\n",
    "# x_none의 값과 자료형을 출력\n",
    "print(f'{x_none = }\\n{type(x_none) = }')"
   ]
  },
  {
   "cell_type": "markdown",
   "metadata": {},
   "source": [
    "### 변수는 객체\n",
    "- 객체의 속성과 메소드를 출력"
   ]
  },
  {
   "cell_type": "code",
   "execution_count": 231,
   "metadata": {},
   "outputs": [
    {
     "name": "stdout",
     "output_type": "stream",
     "text": [
      "['__abs__', '__add__', '__and__', '__bool__', '__ceil__', '__class__', '__delattr__', '__dir__', '__divmod__', '__doc__', '__eq__', '__float__', '__floor__', '__floordiv__', '__format__', '__ge__', '__getattribute__', '__getnewargs__', '__getstate__', '__gt__', '__hash__', '__index__', '__init__', '__init_subclass__', '__int__', '__invert__', '__le__', '__lshift__', '__lt__', '__mod__', '__mul__', '__ne__', '__neg__', '__new__', '__or__', '__pos__', '__pow__', '__radd__', '__rand__', '__rdivmod__', '__reduce__', '__reduce_ex__', '__repr__', '__rfloordiv__', '__rlshift__', '__rmod__', '__rmul__', '__ror__', '__round__', '__rpow__', '__rrshift__', '__rshift__', '__rsub__', '__rtruediv__', '__rxor__', '__setattr__', '__sizeof__', '__str__', '__sub__', '__subclasshook__', '__truediv__', '__trunc__', '__xor__', 'as_integer_ratio', 'bit_count', 'bit_length', 'conjugate', 'denominator', 'from_bytes', 'imag', 'is_integer', 'numerator', 'real', 'to_bytes']\n"
     ]
    }
   ],
   "source": [
    "# x_value의 속성과 메소드를 출력\n",
    "print(dir(x_value))"
   ]
  },
  {
   "cell_type": "markdown",
   "metadata": {},
   "source": [
    "- 객체의 속성과 메서드는 .속성 또는 .메서드()로 호출 가능"
   ]
  },
  {
   "cell_type": "code",
   "execution_count": 232,
   "metadata": {},
   "outputs": [
    {
     "name": "stdout",
     "output_type": "stream",
     "text": [
      "x_value.real = 12345\n",
      "x_value.bit_length() = 14\n"
     ]
    }
   ],
   "source": [
    "# x_value의 실수부(속성)를 출력\n",
    "print(f'{x_value.real = }')\n",
    "\n",
    "# x_value의 비트 수를 계산(메서드)하여 출력\n",
    "print(f'{x_value.bit_length() = }')"
   ]
  },
  {
   "cell_type": "markdown",
   "metadata": {},
   "source": [
    "### mutable과 immutable\n",
    "- mutable: 원소의 수정 가능한 자료형 (리스트, 딕셔너리)\n",
    "- immutable: 원소의 수정이 불가능한 자료형 (문자열, 튜플)\n",
    "\n",
    "#### mutable: 리스트"
   ]
  },
  {
   "cell_type": "code",
   "execution_count": 233,
   "metadata": {},
   "outputs": [
    {
     "name": "stdout",
     "output_type": "stream",
     "text": [
      "Before: x_list = ['abcde', 12345]\n",
      "After : x_list = ['abcde', 'fghij']\n"
     ]
    }
   ],
   "source": [
    "x_list = ['abcde', 12345]\n",
    "\n",
    "# 원소 변경 전 x_list의 값을 출력\n",
    "print(f'Before: {x_list = }')\n",
    "\n",
    "# 인덱스 1 원소를 'fghij'로 변경\n",
    "x_list[1] = 'fghij'\n",
    "\n",
    "# 원소 변경 후 x_list의 값을 출력\n",
    "print(f'After : {x_list = }')"
   ]
  },
  {
   "cell_type": "markdown",
   "metadata": {},
   "source": [
    "#### mutable: 딕셔너리"
   ]
  },
  {
   "cell_type": "code",
   "execution_count": 234,
   "metadata": {},
   "outputs": [
    {
     "name": "stdout",
     "output_type": "stream",
     "text": [
      "x_dict = {'name': 'Minsoo Kim', 'id': 67890}\n",
      "After : x_dict = {'name': 'mikasa akerman', 'id': 67890}\n"
     ]
    }
   ],
   "source": [
    "x_dict = {'name':'Minsoo Kim','id':67890}\n",
    "\n",
    "# 원소 변경 전 x_dict의 값을 출력\n",
    "print(f'{x_dict = }')\n",
    "\n",
    "# key가 'name'인 원소를 'mikasa akerman'으로 변경\n",
    "x_dict['name'] = 'mikasa akerman'\n",
    "\n",
    "# 원소 변경 후 x_dict의 값을 출력\n",
    "print(f'After : {x_dict = }')"
   ]
  },
  {
   "cell_type": "markdown",
   "metadata": {},
   "source": [
    "#### immutable: 문자열 -> 원소 바꾸기 불가"
   ]
  },
  {
   "cell_type": "code",
   "execution_count": 235,
   "metadata": {},
   "outputs": [
    {
     "name": "stdout",
     "output_type": "stream",
     "text": [
      "Before: x_str = 'abcde'\n",
      "Error :'str' object does not support item assignment\n",
      "After: x_str = 'abcde'\n"
     ]
    }
   ],
   "source": [
    "x_str = 'abcde'\n",
    "\n",
    "# 원소 변경 전 x_tuple의 값을 출력\n",
    "print(f'Before: {x_str = }')\n",
    "\n",
    "# try 블록 안의 코드를 실행하다가 에러가 발생하면 except 블록의 코드를 실행\n",
    "try:\n",
    "    # 인덱스 1 원소를 'fghij'로 변경. 튜플은 immutable 자료형이므로 에러 발생\n",
    "    x_str[1] = '2'\n",
    "except TypeError as e:\n",
    "    print(f'Error :{e}')\n",
    "\n",
    "# 원소 변경 후 x_tuple의 값을 출력\n",
    "print(f'After: {x_str = }')"
   ]
  },
  {
   "cell_type": "markdown",
   "metadata": {},
   "source": [
    "#### immutable: 튜플 -> 원소 바꾸기 불가"
   ]
  },
  {
   "cell_type": "code",
   "execution_count": 236,
   "metadata": {},
   "outputs": [
    {
     "name": "stdout",
     "output_type": "stream",
     "text": [
      "Before: x_tuple = ('abcde', 12345)\n",
      "Error :'tuple' object does not support item assignment\n",
      "After: x_tuple = ('abcde', 12345)\n"
     ]
    }
   ],
   "source": [
    "x_tuple = ('abcde', 12345)\n",
    "\n",
    "# 원소 변경 전 x_tuple의 값을 출력\n",
    "print(f'Before: {x_tuple = }')\n",
    "\n",
    "# try 블록 안의 코드를 실행하다가 에러가 발생하면 except 블록의 코드를 실행\n",
    "try:\n",
    "    # 인덱스 1 원소를 'fghij'로 변경. 튜플은 immutable 자료형이므로 에러 발생\n",
    "    x_tuple[1] = 'fghij'\n",
    "except TypeError as e:\n",
    "    print(f'Error :{e}')\n",
    "\n",
    "# 원소 변경 후 x_tuple의 값을 출력\n",
    "print(f'After: {x_tuple = }')"
   ]
  },
  {
   "cell_type": "markdown",
   "metadata": {},
   "source": [
    "### 자료형 변환\n",
    "#### 단일 자료형 변환 함수\n",
    "- int(): 정수형으로 변환\n",
    "- float(): 실수형으로 변환\n",
    "- str(): 문자열로 변환"
   ]
  },
  {
   "cell_type": "code",
   "execution_count": 237,
   "metadata": {},
   "outputs": [
    {
     "name": "stdout",
     "output_type": "stream",
     "text": [
      "12345는 <class 'int'>\n",
      "------------------------------\n",
      "12345.0는 <class 'float'>\n",
      "------------------------------\n",
      "12345는 <class 'str'>\n",
      "------------------------------\n",
      "True는 <class 'bool'>\n"
     ]
    }
   ],
   "source": [
    "# var_x에 정수 12345를 할당 \n",
    "var_x = 12345\n",
    "\n",
    "# var_x의 값과 자료형을 출력\n",
    "# 마지막(end=)에 줄바꿈('\\n')과 구분선('-' 30개) 그리고 줄바꿈('\\n')을 추가\n",
    "print(f'{var_x}는 {type(var_x)}', end='\\n'+'-'*30+'\\n')\n",
    "\n",
    "# var_x의 값을 실수형으로 변환하여 var_y에 할당\n",
    "var_y = float(var_x)\n",
    "\n",
    "# var_y의 값과 자료형을 출력\n",
    "print(f'{var_y}는 {type(var_y)}', end='\\n'+'-'*30+'\\n')\n",
    "\n",
    "#var_x의 값을 문자열로 변환하여 var_y에 할당\n",
    "var_y = str(var_x)\n",
    "\n",
    "# var_y의 값과 자료형을 출력\n",
    "print(f'{var_y}는 {type(var_y)}', end='\\n'+'-'*30+'\\n')\n",
    "\n",
    "\n",
    "# var_x의 값을 불리언으로 변환하여 var_y에 할당\n",
    "# 정수 12345는 0이 아니므로 True\n",
    "var_y = bool(var_x)\n",
    "\n",
    "# var_y의 값과 자료형을 출력\n",
    "print(f'{var_y}는 {type(var_y)}')"
   ]
  },
  {
   "cell_type": "markdown",
   "metadata": {},
   "source": [
    "#### iterable 자료형 변환 함수\n",
    "- list(): 리스트로 변환\n",
    "- tuple(): 튜플로 변환\n",
    "- dict(): 딕셔너리로 변환\n",
    "- set(): 집합으로 변환\n",
    "\n",
    "- iterable 자료형은 반복 가능한 자료형 (리스트, 튜블, 딕셔너리, 집합)\n",
    "\n",
    "##### range 함수\n",
    "- range 함수는 연속된 정수를 생성하는 함수로서 iterable 자료형을 반환"
   ]
  },
  {
   "cell_type": "code",
   "execution_count": 238,
   "metadata": {},
   "outputs": [
    {
     "name": "stdout",
     "output_type": "stream",
     "text": [
      "range(-10, 0, 2)는 <class 'range'>\n",
      "------------------------------\n",
      "[-10, -8, -6, -4, -2]는 <class 'list'>\n",
      "------------------------------\n",
      "(-10, -8, -6, -4, -2)는 <class 'tuple'>\n",
      "------------------------------\n",
      "{-10, -8, -6, -4, -2}는 <class 'set'>\n",
      "------------------------------\n"
     ]
    }
   ],
   "source": [
    "# var_x에 -10부터 0 전까지 2씩 증가하는 range 객체를 할당\n",
    "var_x = range(-10, 0, 2)\n",
    "\n",
    "# var_x의 값과 자료형을 출력\n",
    "print(f'{var_x}는 {type(var_x)}', end='\\n'+'-'*30+'\\n')\n",
    "\n",
    "# var_y에 var_x의 값을 리스트로 변환하여 할당\n",
    "var_y = list(var_x)\n",
    "\n",
    "# var_y의 값과 자료형을 출력\n",
    "print(f'{var_y}는 {type(var_y)}', end='\\n'+'-'*30+'\\n')\n",
    "\n",
    "# var_y에 var_x의 값을 튜플로 변환하여 할당\n",
    "var_y = tuple(var_x)\n",
    "\n",
    "# var_y의 값과 자료형을 출력\n",
    "print(f'{var_y}는 {type(var_y)}', end='\\n'+'-'*30+'\\n')\n",
    "\n",
    "\n",
    "# var_y에 var_x의 값을 집합으로 변환하여 할당\n",
    "var_y = set(var_x)\n",
    "\n",
    "# var_y의 값과 자료형을 출력\n",
    "print(f'{var_y}는 {type(var_y)}', end='\\n'+'-'*30+'\\n')"
   ]
  },
  {
   "cell_type": "code",
   "execution_count": 239,
   "metadata": {},
   "outputs": [
    {
     "name": "stdout",
     "output_type": "stream",
     "text": [
      "abcdab는 <class 'str'>\n",
      "------------------------------\n",
      "['a', 'b', 'c', 'd', 'a', 'b']는 <class 'list'>\n",
      "------------------------------\n",
      "('a', 'b', 'c', 'd', 'a', 'b')는 <class 'tuple'>\n",
      "------------------------------\n",
      "{'d', 'c', 'b', 'a'}는 <class 'set'>\n",
      "------------------------------\n"
     ]
    }
   ],
   "source": [
    "# var_x에 문자열 'abcdab'를 할당. 문자열은 iterable 자료형임\n",
    "var_x = \"abcdab\"\n",
    "\n",
    "# var_x의 값과 자료형을 출력\n",
    "print(f'{var_x}는 {type(var_x)}', end='\\n'+'-'*30+'\\n')\n",
    "\n",
    "# var_y에 var_x의 값을 리스트로 변환하여 할당\n",
    "var_y = list(var_x)\n",
    "print(f'{var_y}는 {type(var_y)}', end='\\n'+'-'*30+'\\n')\n",
    "\n",
    "# var_y에 var_X의 값을 튜플로 변환하여 할당\n",
    "var_y = tuple(var_x)\n",
    "print(f'{var_y}는 {type(var_y)}', end='\\n'+'-'*30+'\\n')\n",
    "\n",
    "# var_y에 var_x의 값을 집합으로 변환하여 할당\n",
    "# 집합은 중복을 허용하지 않으므로 'abcd'만 남음음\n",
    "var_y = set(var_x)\n",
    "print(f'{var_y}는 {type(var_y)}', end='\\n'+'-'*30+'\\n')"
   ]
  },
  {
   "cell_type": "markdown",
   "metadata": {},
   "source": [
    "# 데이터 유형 - 응용\n",
    "### 데이터 유형의 확인"
   ]
  },
  {
   "cell_type": "code",
   "execution_count": 240,
   "metadata": {},
   "outputs": [],
   "source": [
    "\n",
    "# 프린트 함수 없이\n",
    "# f스트링 없이"
   ]
  },
  {
   "cell_type": "code",
   "execution_count": 241,
   "metadata": {},
   "outputs": [
    {
     "name": "stdout",
     "output_type": "stream",
     "text": [
      "123\n",
      "제가 좋아하는 숫자는 123 입니다\n",
      "123.456 [0, 1, 2] (3, 4, 5) {'숫자': 1, '이름': '민수'} None\n",
      "123 123 123.456 123.456 None None\n"
     ]
    }
   ],
   "source": [
    "x_str = '확인'                   # 문자열\n",
    "x_int = 123                      # 정수형\n",
    "x_float = 123.456                # 실수형\n",
    "x_list = [0, 1, 2]               # 리스트\n",
    "x_tuple = (3, 4, 5)              # 튜플\n",
    "x_dict = {'숫자':1,'이름':'민수'} # 딕셔너리\n",
    "x_none = None                    # None\n",
    "\n",
    "# print 함수만으로 출력\n",
    "print(x_int)\n",
    "\n",
    "print('제가 좋아하는 숫자는', x_int, '입니다') # 문자열과 함께 출력\n",
    "print(x_float, x_list, x_tuple, x_dict, x_none) # 여러 변수를 출력\n",
    "print(123, x_int, 123.456, x_float, 'None', x_none) # 다양한 자료형을 함께 력력"
   ]
  },
  {
   "cell_type": "code",
   "execution_count": 242,
   "metadata": {},
   "outputs": [
    {
     "name": "stdout",
     "output_type": "stream",
     "text": [
      "Variable        Type        Data/Info\n",
      "-------------------------------------\n",
      "date            range       range(4, 31, 7)\n",
      "sum             float       974.2257085678\n",
      "var_x           str         abcdab\n",
      "var_y           set         {'d', 'c', 'b', 'a'}\n",
      "var_z           range       range(6, 31, 7)\n",
      "x               float       78.91234\n",
      "x_bool          bool        True\n",
      "x_coding        str         python\n",
      "x_count         int         2\n",
      "x_dict          dict        n=2\n",
      "x_float         float       123.456\n",
      "x_index         int         1\n",
      "x_int           int         123\n",
      "x_list          list        n=3\n",
      "x_none          NoneType    None\n",
      "x_obj           str         banana\n",
      "x_phone         tuple       n=5\n",
      "x_str           str         확인\n",
      "x_tuple         tuple       n=3\n",
      "x_value         int         12345\n",
      "x_value_dict    dict        n=3\n",
      "x_value_list    list        n=6\n",
      "x_value_str     str         Hello, Python!\n",
      "x_value_tuple   tuple       n=4\n",
      "y               float       12.34567\n",
      "z               int         0\n",
      "\n",
      "\n",
      "\n",
      "x_str = '확인'\n",
      "type(x_str) = <class 'str'>\n",
      "x_list = [0, 1, 2]\n",
      "type(x_list) = <class 'list'>\n"
     ]
    }
   ],
   "source": [
    "# %whos를 통해 자료형 확인\n",
    "%whos\n",
    "print('\\n\\n')\n",
    "\n",
    "# x_str의 값과 자료형을 f-string을 사용하여 출력\n",
    "print(f'{x_str = }\\n{type(x_str) = }') \n",
    "# 변수 x_str의 유형은 클래스 'str'임, 즉 객체임\n",
    "\n",
    "# x_list의 값과 자료형을 f-string을 사용하여여 출력\n",
    "print(f'{x_list = }\\n{type(x_list) = }')\n",
    "# x_list는 클래스 'list' 유형임, 이 또한 객체임\n"
   ]
  },
  {
   "cell_type": "code",
   "execution_count": 243,
   "metadata": {},
   "outputs": [],
   "source": [
    "### 더 응용하기기"
   ]
  },
  {
   "cell_type": "markdown",
   "metadata": {},
   "source": [
    "### 변수는 객체\n",
    "- 객체 속성과 메서드"
   ]
  },
  {
   "cell_type": "code",
   "execution_count": 244,
   "metadata": {},
   "outputs": [
    {
     "name": "stdout",
     "output_type": "stream",
     "text": [
      "x_phone의 속성, 메소드 = ['__abs__', '__add__', '__and__', '__bool__', '__ceil__', '__class__', '__delattr__', '__dir__', '__divmod__', '__doc__', '__eq__', '__float__', '__floor__', '__floordiv__', '__format__', '__ge__', '__getattribute__', '__getnewargs__', '__getstate__', '__gt__', '__hash__', '__index__', '__init__', '__init_subclass__', '__int__', '__invert__', '__le__', '__lshift__', '__lt__', '__mod__', '__mul__', '__ne__', '__neg__', '__new__', '__or__', '__pos__', '__pow__', '__radd__', '__rand__', '__rdivmod__', '__reduce__', '__reduce_ex__', '__repr__', '__rfloordiv__', '__rlshift__', '__rmod__', '__rmul__', '__ror__', '__round__', '__rpow__', '__rrshift__', '__rshift__', '__rsub__', '__rtruediv__', '__rxor__', '__setattr__', '__sizeof__', '__str__', '__sub__', '__subclasshook__', '__truediv__', '__trunc__', '__xor__', 'as_integer_ratio', 'bit_count', 'bit_length', 'conjugate', 'denominator', 'from_bytes', 'imag', 'is_integer', 'numerator', 'real', 'to_bytes']\n"
     ]
    }
   ],
   "source": [
    "# 객체 = 물건\n",
    "# 속성 = 물건의 상태\n",
    "# 메서드 = 물건의 동작작\n",
    "\n",
    "x_phone = ('iphone6s', 'iphoneX', 'iphone13mini','iphoneX', 'iphoneXS')\n",
    "\n",
    "# x_phone의 속성과 메소드를 출력\n",
    "print(f'x_phone의 속성, 메소드 =', dir(x_value))"
   ]
  },
  {
   "cell_type": "code",
   "execution_count": 245,
   "metadata": {},
   "outputs": [
    {
     "ename": "AttributeError",
     "evalue": "'tuple' object has no attribute 'bit_length'",
     "output_type": "error",
     "traceback": [
      "\u001b[31m---------------------------------------------------------------------------\u001b[39m",
      "\u001b[31mAttributeError\u001b[39m                            Traceback (most recent call last)",
      "\u001b[36mCell\u001b[39m\u001b[36m \u001b[39m\u001b[32mIn[245]\u001b[39m\u001b[32m, line 2\u001b[39m\n\u001b[32m      1\u001b[39m \u001b[38;5;66;03m# x_phone 의 비트 수를 계산(메서드)하여 출력\u001b[39;00m\n\u001b[32m----> \u001b[39m\u001b[32m2\u001b[39m \u001b[38;5;28mprint\u001b[39m(\u001b[33mf\u001b[39m\u001b[33m'\u001b[39m\u001b[38;5;132;01m{\u001b[39;00m\u001b[43mx_phone\u001b[49m\u001b[43m.\u001b[49m\u001b[43mbit_length\u001b[49m()\u001b[38;5;250m \u001b[39m\u001b[38;5;132;01m= }\u001b[39;00m\u001b[33m'\u001b[39m)\n\u001b[32m      4\u001b[39m \u001b[38;5;66;03m# 해당 객체의 메소드가 아닌 메소드는 출력되지 않는다\u001b[39;00m\n\u001b[32m      5\u001b[39m \u001b[38;5;66;03m# AttributeError가 뜬다\u001b[39;00m\n",
      "\u001b[31mAttributeError\u001b[39m: 'tuple' object has no attribute 'bit_length'"
     ]
    }
   ],
   "source": [
    "# x_phone 의 비트 수를 계산(메서드)하여 출력\n",
    "print(f'{x_phone.bit_length() = }')\n",
    "\n",
    "# 해당 객체의 메소드가 아닌 메소드는 출력되지 않는다\n",
    "# AttributeError가 뜬다"
   ]
  },
  {
   "cell_type": "code",
   "execution_count": null,
   "metadata": {},
   "outputs": [
    {
     "name": "stdout",
     "output_type": "stream",
     "text": [
      "1\n",
      "2\n"
     ]
    }
   ],
   "source": [
    "# \n",
    "x_index = x_phone.index('iphoneX')\n",
    "print(x_index)\n",
    "# 튜플에서 특정 값이 처음 나타나는 인덱스를 반환하여 출력\n",
    "\n",
    "\n",
    "x_count = x_phone.count('iphoneX')\n",
    "print(x_count)\n",
    "# 튜플 내에서 특정 값이 등장하는 횟수를 출력"
   ]
  },
  {
   "cell_type": "markdown",
   "metadata": {},
   "source": [
    "### mutable과 immutable\n",
    "#### mutable: 리스트"
   ]
  },
  {
   "cell_type": "code",
   "execution_count": null,
   "metadata": {},
   "outputs": [
    {
     "name": "stdout",
     "output_type": "stream",
     "text": [
      "Before: x_list = [312.9, '주피터노트북', 'python', ('iphone6s', 'iphoneX', 'iphone13mini', 'iphoneX', 'iphoneXS')]\n",
      "\n",
      "\n",
      "원소 변경 후 => After : x_list = [312.9, '주피터노트북', 'python', 'python']\n",
      "원소 역순 정렬 =>  ['python', 'python', '주피터노트북', 312.9]\n",
      "\n",
      " ['python', '주피터노트북', 312.9]\n"
     ]
    }
   ],
   "source": [
    "x_coding = \"python\"\n",
    "x_list = [312.9, '주피터노트북', x_coding, x_phone]\n",
    "\n",
    "# 원소 변경 전 x_list의 값을 출력\n",
    "print(f'Before: {x_list = }')\n",
    "\n",
    "# 인덱스 1 원소를 변수 x_value로 변경\n",
    "x_list[3] = x_coding\n",
    "\n",
    "# 원소 변경 후 x_list의 값을 출력\n",
    "print(f'\\n\\n원소 변경 후 => After : {x_list = }')\n",
    "\n",
    "# reverse를 통해 원소 역순 정렬 후 출력\n",
    "x_list.reverse()\n",
    "print(f'원소 역순 정렬 => ', x_list)\n",
    "\n",
    "# 원소 삭제\n",
    "x_list.remove('python')\n",
    "print('\\n', x_list)"
   ]
  },
  {
   "cell_type": "markdown",
   "metadata": {},
   "source": [
    "#### mutable: 딕셔너리"
   ]
  },
  {
   "cell_type": "code",
   "execution_count": null,
   "metadata": {},
   "outputs": [
    {
     "name": "stdout",
     "output_type": "stream",
     "text": [
      "Before : x_dict = {'class': 'Python Programming', 'program': 'visual studio code', 'date': 20250408}\n",
      "\n",
      "\n",
      "After : x_dict = {'class': 'Python Programming', 'program': 'python', 'date': 20250408}\n"
     ]
    }
   ],
   "source": [
    "x_dict = {'class':'Python Programming','program': 'visual studio code', 'date': 20250408}\n",
    "\n",
    "# 원소 변경 전 x_dict의 값을 출력\n",
    "print(f'Before : {x_dict = }')\n",
    "\n",
    "# key가 'program'인 원소를 변수 x_coding 으로 변경\n",
    "x_dict['program'] = x_coding\n",
    "\n",
    "# 원소 변경 후 x_dict의 값을 출력\n",
    "print(f'\\n\\nAfter : {x_dict = }')\n",
    "\n",
    "\n",
    "# x_dict.reverse()는 AttrebuteError가 뜬다\n",
    "# 딕셔너리는 역순 정렬이 되지 않는다"
   ]
  },
  {
   "cell_type": "code",
   "execution_count": null,
   "metadata": {},
   "outputs": [
    {
     "name": "stdout",
     "output_type": "stream",
     "text": [
      "Before : x_dict = {'class': 'Python Programming', 'program': 'python', 'date': 20250408}\n",
      "\n",
      "\n",
      "After : x_dict = {'class': 'Python Programming', 'program': ['python', '주피터노트북', 312.9], 'date': 20250408}\n"
     ]
    }
   ],
   "source": [
    "# 원소 변경 전 x_dict의 값을 출력\n",
    "print(f'Before : {x_dict = }')\n",
    "\n",
    "# key가 'program'인 원소를 변수 리스트 x_list로 변경\n",
    "x_dict['program'] = x_list\n",
    "\n",
    "# 원소 변경 후 x_dict의 값을 출력\n",
    "print(f'\\n\\nAfter : {x_dict = }')"
   ]
  },
  {
   "cell_type": "markdown",
   "metadata": {},
   "source": [
    "#### immutable: 문자, 튜플 -> 원소 바꾸기 불가능"
   ]
  },
  {
   "cell_type": "code",
   "execution_count": null,
   "metadata": {},
   "outputs": [
    {
     "name": "stdout",
     "output_type": "stream",
     "text": [
      "Before: x_str = '꺾이지 않는 마음'\n",
      "Error :'str' object does not support item assignment\n",
      "After: x_str = '꺾이지 않는 마음'\n",
      "\n",
      "\n",
      "Before: x_tuple = ('커플', ['python', '주피터노트북', 312.9])\n",
      "Error :'tuple' object does not support item assignment\n",
      "After: x_tuple = ('커플', ['python', '주피터노트북', 312.9])\n"
     ]
    }
   ],
   "source": [
    "# 문자열, 튜플은 원소 바꾸기 불가능\n",
    "\n",
    "\n",
    "x_str = '꺾이지 않는 마음' # 문자열\n",
    "\n",
    "# 원소 변경 전 x_tuple의 값을 출력\n",
    "print(f'Before: {x_str = }')\n",
    "\n",
    "# try 블록 안의 코드를 실행하다가 에러가 발생하면 except 블록의 코드를 실행\n",
    "try:\n",
    "    # 인덱스 1 원소를 'fghij'로 변경. 튜플은 immutable 자료형이므로 에러 발생\n",
    "    x_str[0] = '꺾이는 마음'\n",
    "except TypeError as e:\n",
    "    print(f'Error :{e}')\n",
    "\n",
    "# 원소 변경 후 x_tuple의 값을 출력\n",
    "print(f'After: {x_str = }')\n",
    "\n",
    "# ----------------------------------------------------------------\n",
    "x_tuple = ('커플', x_list) # 튜플\n",
    "\n",
    "# 원소 변경 전 x_tuple의 값을 출력\n",
    "print(f'\\n\\nBefore: {x_tuple = }')\n",
    "\n",
    "# try 블록 안의 코드를 실행하다가 에러가 발생하면 except 블록의 코드를 실행\n",
    "try:\n",
    "    # 인덱스 1 원소를 변수 x_coding 으로 변경. 튜플은 immutable 자료형이므로 에러 발생\n",
    "    x_tuple[1] = x_coding\n",
    "except TypeError as e:\n",
    "    print(f'Error :{e}')\n",
    "\n",
    "# 원소 변경 후 x_tuple의 값을 출력\n",
    "print(f'After: {x_tuple = }')"
   ]
  },
  {
   "cell_type": "code",
   "execution_count": null,
   "metadata": {},
   "outputs": [
    {
     "name": "stdout",
     "output_type": "stream",
     "text": [
      "Error: 'str' object doesn't support item deletion\n",
      "Error: 'tuple' object doesn't support item deletion\n"
     ]
    }
   ],
   "source": [
    "# 문자열 원소 삭제 불가\n",
    "try:\n",
    "    del x_str[0]  # 문자열은 불변이므로 원소를 삭제할 수 없음\n",
    "except TypeError as e:\n",
    "    print(f'Error: {e}')\n",
    "\n",
    "# 튜플 원소 삭제 불가\n",
    "try:\n",
    "    del x_tuple[0]  # 튜플은 불변이므로 원소를 삭제할 수 없음\n",
    "except TypeError as e:\n",
    "    print(f'Error: {e}')"
   ]
  },
  {
   "cell_type": "markdown",
   "metadata": {},
   "source": [
    "#### immutable: 불리언 -> 원소 재할당 가능"
   ]
  },
  {
   "cell_type": "code",
   "execution_count": null,
   "metadata": {},
   "outputs": [
    {
     "name": "stdout",
     "output_type": "stream",
     "text": [
      "Before: x_bool = False\n",
      "Error :'bool' object does not support item assignment\n",
      "After: x_bool = False\n",
      "\n",
      "------------------------------------------------------------\n",
      "After: x_bool = True\n"
     ]
    }
   ],
   "source": [
    "# 초기 boolean 값 정의\n",
    "x_bool = False\n",
    "\n",
    "# 원소 변경 전 x_bool의 값을 출력\n",
    "print(f'Before: {x_bool = }')\n",
    "\n",
    "# try 블록 안의 코드를 실행하다가 에러가 발생하면 except 블록의 코드를 실행\n",
    "try:\n",
    "    # boolean 값 변경 시도\n",
    "    x_bool[0] = True  # 에러 발생\n",
    "except TypeError as e:\n",
    "    print(f'Error :{e}')\n",
    "\n",
    "# 원소 변경 후 x_bool의 값을 출력\n",
    "print(f'After: {x_bool = }\\n\\n'+'-'*60)\n",
    "# -------------------값 변경은 불가--------------------\n",
    "\n",
    "try:\n",
    "    # boolean 값 재할당 시도\n",
    "    x_bool = True  # 에러 발생하지 않음\n",
    "except TypeError as e:\n",
    "    print(f'Error :{e}')\n",
    "\n",
    "# 원소 변경 후 x_bool의 값을 출력\n",
    "print(f'After: {x_bool = }')\n",
    "# ------------------값 재할당은 가능-------------------"
   ]
  },
  {
   "cell_type": "markdown",
   "metadata": {},
   "source": [
    "### 자료형 변환\n",
    "#### 단일 자료형 변환 함수"
   ]
  },
  {
   "cell_type": "code",
   "execution_count": null,
   "metadata": {},
   "outputs": [
    {
     "name": "stdout",
     "output_type": "stream",
     "text": [
      "78.91234는 <class 'float'>\n",
      "12.34567은 <class 'float'>\n",
      "0은 <class 'int'> \n",
      "------------------------------------------------------------\n",
      "\n",
      "90.34567\n",
      "90\n",
      "78.0 0000 \n",
      "------------------------------------------------------------\n",
      "\n",
      "두 변수의 합은 =  91.25801\n",
      "974.2257085678은 <class 'float'>\n",
      "\n",
      "실수형 sum의 소수점 자리를 길게 표현하자면 \n",
      " >>>> 974.2257085677999839390395209193229675292969\n",
      "sum을 정수로 변환하면 \n",
      " >>>> 974 \n",
      "------------------------------------------------------------\n",
      "\n",
      "자료형으로 변환한 974.2257085678은 <class 'str'>\n"
     ]
    }
   ],
   "source": [
    "x = 78.91234 # 실수\n",
    "y = 12.34567 # 실수\n",
    "z = 0000 # 정수\n",
    "\n",
    "# x,y,z의 자료형 출력력\n",
    "print(f'''{x}는 {type(x)}\n",
    "{y}은 {type(y)}\n",
    "{z}은 {type(z)}''','\\n'+'-'*60+'\\n')\n",
    "\n",
    "print(int(x) + y) # 실수 x를 정수로 변환\n",
    "print(int(x) + int(y)) # 실수 x와 y를 정수로 변환\n",
    "print(int(x) + float(z),f'{str(z)}'*4,'\\n'+'-'*60+'\\n') # 실수 x를 정수로, 정수 z를 실수와 문자열로 변환\n",
    "\n",
    "# x, y 두 실수를 곱한 변수 sum 생성\n",
    "print(f'두 변수의 합은 = ', x+y)\n",
    "sum = x * y\n",
    "# sum 자료형 출력\n",
    "print(f'{sum}은 {type(sum)}\\n') \n",
    "\n",
    "\n",
    "print(f'실수형 sum의 소수점 자리를 길게 표현하자면 \\n >>>> {sum:.40f}') # 실수+실수 > 소수점 40자리 표현\n",
    "print(f'sum을 정수로 변환하면 \\n >>>> {int(sum)}','\\n'+'-'*60+'\\n') # 정수 변환 후 출력\n",
    "print(f'자료형으로 변환한 {str(sum)}은 {type(str(sum))}') # 문자열로 변환 후 자료형 출력"
   ]
  },
  {
   "cell_type": "code",
   "execution_count": null,
   "metadata": {},
   "outputs": [
    {
     "name": "stdout",
     "output_type": "stream",
     "text": [
      "var_x의 값은 0이므로 = False\n",
      "False는 <class 'bool'> \n",
      "------------------------------------------------------------\n",
      "\n",
      "var_y의 값은 0이 아니므로 = True\n",
      "True는 <class 'bool'>\n"
     ]
    }
   ],
   "source": [
    "# 불리언의 값이 0이면 False, 0이 아니면 True\n",
    "\n",
    "# z 의 값을 불리언으로 변환하여 var_x에 할당\n",
    "var_x = bool(z)\n",
    "print(f'var_x의 값은 0이므로 = {var_x}')\n",
    "\n",
    "# var_x의 값과 자료형을 출력\n",
    "print(f'{var_x}는 {type(var_x)}','\\n'+'-'*60+'\\n')\n",
    "\n",
    "# sum 의 값을 불리언으로 변환하여 var_y에 할당\n",
    "var_y = bool(sum)\n",
    "print(f'var_y의 값은 0이 아니므로 = {var_y}')\n",
    "\n",
    "# var_x의 값과 자료형을 출력\n",
    "print(f'{var_y}는 {type(var_y)}')"
   ]
  },
  {
   "cell_type": "markdown",
   "metadata": {},
   "source": [
    "#### iterable 자료형 변환 함수\n",
    "##### range 함수"
   ]
  },
  {
   "cell_type": "code",
   "execution_count": 302,
   "metadata": {},
   "outputs": [
    {
     "name": "stdout",
     "output_type": "stream",
     "text": [
      "range(6, 31, 7)는 <class 'range'>\n",
      "------------------------------\n",
      "5월에 파이썬프로그래밍 수업을 하는 날짜는 [6, 13, 20, 27]일입니다.\n",
      "\n",
      "5월 6일은 공휴일이므로 5월의 수업일은 [13, 20, 27]일입니다.\n",
      "\n",
      "[13, 20, 27]의 자료형은 <class 'list'>\n",
      "------------------------------\n",
      "6월의 보강일자가 추가되었습니다. [13, 20, 27, 6.3]\n"
     ]
    }
   ],
   "source": [
    "# date에 4부터 31 전까지 7씩 증가하는 range 객체를 할당\n",
    "date = range(6, 31, 7)\n",
    "\n",
    "# date의 값과 자료형을 출력\n",
    "print(f'{date}는 {type(date)}', end='\\n'+'-'*30+'\\n')\n",
    "\n",
    "# 리스트 변환 함수 \n",
    "# var_y에 date의 값을 리스트로 변환하여 할당\n",
    "var_y = list(date)\n",
    "print(f'5월에 파이썬프로그래밍 수업을 하는 날짜는 {var_y}일입니다.\\n')\n",
    "\n",
    "# 리스트 원소  6 삭제\n",
    "var_y.remove(6)\n",
    "print(f'5월 6일은 공휴일이므로 5월의 수업일은 {var_y}일입니다.\\n')\n",
    "\n",
    "# var_y의 값과 자료형을 출력\n",
    "print(f'{var_y}의 자료형은 {type(var_y)}', end='\\n'+'-'*30+'\\n')\n",
    "\n",
    "# 리스트에 원소 추가\n",
    "var_y = var_y + [6.3]\n",
    "print(f'6월의 보강일자가 추가되었습니다. {var_y}')"
   ]
  },
  {
   "cell_type": "code",
   "execution_count": 303,
   "metadata": {},
   "outputs": [
    {
     "name": "stdout",
     "output_type": "stream",
     "text": [
      "(6, 13, 20, 27)\n",
      "Error :'tuple' object doesn't support item deletion\n",
      "튜플에서는 공휴일인 6일에 휴강할 수 없습니다.\n",
      "\n",
      "(6, 13, 20, 27)의 자료형은 <class 'tuple'>\n"
     ]
    }
   ],
   "source": [
    "# 튜플 변환 함수 tuple()\n",
    "# var_y에 date의 값을 튜플로 변환하여 할당\n",
    "var_y = tuple(date)\n",
    "print(var_y)\n",
    "\n",
    "# try 블록 안의 코드를 실행하다가 에러가 발생하면 except 블록의 코드를 실행\n",
    "try:\n",
    "    # 인덱스 원소 6을 삭제. 튜플은 immutable 자료형이므로 에러 발생\n",
    "    del var_y[6]\n",
    "except TypeError as e:\n",
    "    print(f'''Error :{e}\n",
    "튜플에서는 공휴일인 6일에 휴강할 수 없습니다.\\n''')\n",
    "\n",
    "# var_y의 값과 자료형을 출력\n",
    "print(f'{var_y}의 자료형은 {type(var_y)}')"
   ]
  },
  {
   "cell_type": "code",
   "execution_count": 305,
   "metadata": {},
   "outputs": [
    {
     "name": "stdout",
     "output_type": "stream",
     "text": [
      "{27, 20, 13, 6}\n",
      "Error :'set' object doesn't support item deletion\n",
      "집합에서는 공휴일인 6일에 휴강할 수 없습니다.\n",
      "\n",
      "{27, 20, 13, 6}는 <class 'set'>\n"
     ]
    }
   ],
   "source": [
    "# 집합 변환 함수\n",
    "# var_y에 date의 값을 집합으로 변환하여 할당\n",
    "var_y = set(date)\n",
    "print(var_y)\n",
    "\n",
    "# try 블록 안의 코드를 실행하다가 에러가 발생하면 except 블록의 코드를 실행\n",
    "try:\n",
    "    # 인덱스 원소 6을 삭제. 튜플은 immutable 자료형이므로 에러 발생\n",
    "    del var_y[6]\n",
    "except TypeError as e:\n",
    "    print(f'''Error :{e}\n",
    "집합에서는 공휴일인 6일에 휴강할 수 없습니다.\\n''')\n",
    "\n",
    "# var_y의 값과 자료형을 출력\n",
    "print(f'{var_y}는 {type(var_y)}')"
   ]
  }
 ],
 "metadata": {
  "kernelspec": {
   "display_name": "base",
   "language": "python",
   "name": "python3"
  },
  "language_info": {
   "codemirror_mode": {
    "name": "ipython",
    "version": 3
   },
   "file_extension": ".py",
   "mimetype": "text/x-python",
   "name": "python",
   "nbconvert_exporter": "python",
   "pygments_lexer": "ipython3",
   "version": "3.12.9"
  }
 },
 "nbformat": 4,
 "nbformat_minor": 2
}
