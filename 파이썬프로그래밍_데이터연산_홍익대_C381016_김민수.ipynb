{
 "cells": [
  {
   "cell_type": "markdown",
   "metadata": {},
   "source": [
    "# 데이터의 연산\n",
    "### 연산자\n",
    "- 연산자는 데이터를 처리하는 기호\n",
    "- 연산자를 사용한 문장을 표현식(expression)이라고 함\n",
    "\n",
    "### 연산\n",
    "- 연산(operation)이란 연산자를 이용하여 데이터를 처리하는 것\n",
    "\n",
    "#### 산술연산\n",
    "- 산술연산자(Arithmetic Operator)는 숫자 데이터를 처리하는 연산자로서 값을 반환\n",
    "  - +: 덧셈, -: 뺄셈, *: 곱셈, /: 나눗셈\n",
    "  - //: 몫, %: 나머지\n",
    "  - **: 거듭제곱\n",
    "- 산술연산자는 숫자형 데이터에만 사용가능"
   ]
  },
  {
   "cell_type": "code",
   "execution_count": 1,
   "metadata": {},
   "outputs": [
    {
     "name": "stdout",
     "output_type": "stream",
     "text": [
      "2+3 = 5\n",
      "2.0+3 = 5.0\n",
      "2.0+3.0 = 5.0\n",
      "'2'+'3' = '23'\n",
      "unsupported operand type(s) for +: 'int' and 'str'\n"
     ]
    }
   ],
   "source": [
    "print(f'{2+3 = }')  # 정수 + 정수 = 정수\n",
    "print(f'{2.0+3 = }')  # 실수 + 정수 = 실수\n",
    "print(f'{2.0+3.0 = }')  # 실수 + 실수 = 실수\n",
    "print(f'{'2'+'3' = }')  # 문자열 + 문자열 = 문자열\n",
    "\n",
    "# 에러 발생\n",
    "try:\n",
    "    print(f'{2+'3' = }')  # 정수 + 문자열 = 에러\n",
    "except Exception as e:\n",
    "    print(e)"
   ]
  },
  {
   "cell_type": "code",
   "execution_count": 47,
   "metadata": {},
   "outputs": [
    {
     "name": "stdout",
     "output_type": "stream",
     "text": [
      "2-3 = -1\n",
      "2.0-3 = -1.0\n",
      "2.0-3.0 = -1.0\n",
      "2*3 = 6\n",
      "2.0*3 = 6.0\n",
      "2.0*3.0 = 6.0\n",
      "2/3 = 0.6666666666666666\n",
      "2.0/3 = 0.6666666666666666\n",
      "2.0/3.0 = 0.6666666666666666\n"
     ]
    }
   ],
   "source": [
    "print(f'{2-3 = }')  # 정수 - 정수 = 실수\n",
    "print(f'{2.0-3 = }')  # 실수 - 정수 = 실수\n",
    "print(f'{2.0-3.0 = }')  # 실수 - 실수 = 실수\n",
    "print(f'{2*3 = }')  # 정수 * 정수 = 정수\n",
    "print(f'{2.0*3 = }')  # 실수 * 정수 = 실수\n",
    "print(f'{2.0*3.0 = }')  # 실수 * 실수 = 실수\n",
    "print(f'{2/3 = }')  # 정수 / 정수 = 실수\n",
    "print(f'{2.0/3 = }')  # 실수 / 정수 = 실수\n",
    "print(f'{2.0/3.0 = }')  # 실수 / 실수 = 실수"
   ]
  },
  {
   "cell_type": "code",
   "execution_count": 48,
   "metadata": {},
   "outputs": [
    {
     "name": "stdout",
     "output_type": "stream",
     "text": [
      "20//3 = 6\n",
      "20%3 = 2\n"
     ]
    }
   ],
   "source": [
    "# 몫\n",
    "print(f'{20//3 = }')\n",
    "\n",
    "# 나머지\n",
    "print(f'{20%3 = }')"
   ]
  },
  {
   "cell_type": "code",
   "execution_count": 50,
   "metadata": {},
   "outputs": [
    {
     "name": "stdout",
     "output_type": "stream",
     "text": [
      "2**3 = 8\n"
     ]
    }
   ],
   "source": [
    "# 거듭제곱\n",
    "print(f'{2**3 = }')"
   ]
  },
  {
   "cell_type": "code",
   "execution_count": 51,
   "metadata": {},
   "outputs": [
    {
     "name": "stdout",
     "output_type": "stream",
     "text": [
      "var_x + var_x = 'AbcAbc'\n",
      "var_y + var_y = [100, 2, 3, 100, 2, 3]\n",
      "var_x * 3 = 'AbcAbcAbc'\n",
      "var_y * 3 = [100, 2, 3, 100, 2, 3, 100, 2, 3]\n"
     ]
    }
   ],
   "source": [
    "var_x = 'Abc'\n",
    "var_y = [100, 2, 3]\n",
    "\n",
    "# 문자열과 문자열의 합\n",
    "print(f'{var_x + var_x = }')\n",
    "\n",
    "# 리스트와 리스트의 합\n",
    "print(f'{var_y + var_y = }')\n",
    "\n",
    "# 문자열과 정수의 곱\n",
    "print(f'{var_x * 3 = }')\n",
    "\n",
    "# 리스트와 정수의 곱\n",
    "print(f'{var_y * 3 = }')"
   ]
  },
  {
   "cell_type": "markdown",
   "metadata": {},
   "source": [
    "#### 비교 연산\n",
    "- 관계연산자(relational operator)는 두 개의 피연산자를 비교하여 관계를 확인하는 연산자로서 True 또는 False를 반환\n",
    "   - ==: 같다, !=: 같지 않다\n",
    "   - >, <: 크다, 작다\n",
    "   - >=, <=: 크거나 같다, 작거나 같다"
   ]
  },
  {
   "cell_type": "code",
   "execution_count": 53,
   "metadata": {},
   "outputs": [
    {
     "name": "stdout",
     "output_type": "stream",
     "text": [
      "2==3 = False\n",
      "2!=3 = True\n",
      "2>3 = False\n",
      "2<3 = True\n",
      "2>=3 = False\n",
      "2<=3 = True\n"
     ]
    }
   ],
   "source": [
    "print(f'{2==3 = }')\n",
    "print(f'{2!=3 = }')\n",
    "print(f'{2>3 = }')\n",
    "print(f'{2<3 = }')\n",
    "print(f'{2>=3 = }')\n",
    "print(f'{2<=3 = }')"
   ]
  },
  {
   "cell_type": "code",
   "execution_count": 54,
   "metadata": {},
   "outputs": [
    {
     "name": "stdout",
     "output_type": "stream",
     "text": [
      "(var_y == [1, 2, 3]) = True\n",
      "(var_y == (1, 2, 3)) = False\n",
      "(var_y == [1, 2]) = False\n",
      "(var_y != [1, 2]) = True\n",
      "(var_y > [1, 2]) = True\n",
      "(var_y < [1, 2]) = False\n"
     ]
    }
   ],
   "source": [
    "# 변수 var_y에 리스트 [1, 2, 3]을 할당\n",
    "var_y = [1, 2, 3]\n",
    "\n",
    "print(f'{(var_y == [1, 2, 3]) = }') # var_y와 [1, 2, 3]이 같은지 비교\n",
    "print(f'{(var_y == (1, 2, 3)) = }') # var_y와 (1, 2, 3)이 같은지 비교\n",
    "print(f'{(var_y == [1, 2]) = }') # var_y와 [1, 2,]가 같은지 비교\n",
    "print(f'{(var_y != [1, 2]) = }') # var_y와 [1, 2]가 다른지 비교\n",
    "print(f'{(var_y > [1, 2]) = }') # var_y가 [1, 2]보다 큰지 비교\n",
    "print(f'{(var_y < [1, 2]) = }') # var_y와 [1, 2]보다 작은지 비교\n"
   ]
  },
  {
   "cell_type": "markdown",
   "metadata": {},
   "source": [
    "#### 논리 연산\n",
    "- 논리연산자(Logical Operators)는 논리적인 명제를 판단하는 연산자로서 True 또는 False를 반환\n",
    "    - and: 논리곱, 둘다 참일 때만 참\n",
    "    - or: 논리합, 둘 중 하나만 참이어도 참\n",
    "    - nat: 논리부정, 참이면 거짓, 거짓이면 참"
   ]
  },
  {
   "cell_type": "code",
   "execution_count": 55,
   "metadata": {},
   "outputs": [
    {
     "data": {
      "text/plain": [
       "True"
      ]
     },
     "execution_count": 55,
     "metadata": {},
     "output_type": "execute_result"
    }
   ],
   "source": [
    "# True와 True를 and 연산\n",
    "True and True"
   ]
  },
  {
   "cell_type": "code",
   "execution_count": 56,
   "metadata": {},
   "outputs": [
    {
     "name": "stdout",
     "output_type": "stream",
     "text": [
      "var_y = False\n",
      "(var_x and var_y) = False\n",
      "(var_x or var_y) = True\n",
      "(not var_x) = False\n"
     ]
    }
   ],
   "source": [
    "# 변수 var_x에 불리언 True를 할당\n",
    "var_x = True\n",
    "\n",
    "# 변수 var_y에 10 < 20의 결과를 할당\n",
    "var_y = (10 > 20)\n",
    "\n",
    "print(f'{var_y = }')\n",
    "print(f'{(var_x and var_y) = }')  # var_x와 var_y의 논리곱을 출력\n",
    "print(f'{(var_x or var_y) = }')  # var_x와 var_y의 논리합을 출력\n",
    "print(f'{(not var_x) = }') # var_x의 논리부정을 출력"
   ]
  },
  {
   "cell_type": "code",
   "execution_count": 57,
   "metadata": {},
   "outputs": [
    {
     "name": "stdout",
     "output_type": "stream",
     "text": [
      "(2==3) and (2!=3) = False\n"
     ]
    }
   ],
   "source": [
    "# 관계연산자와 논리연산자를 함께 사용\n",
    "print(f'{(2==3) and (2!=3) = }')"
   ]
  },
  {
   "cell_type": "markdown",
   "metadata": {},
   "source": [
    "#### 멤버십 연산\n",
    "- 멤버십 연산자(Membership Operator)는 데이터가 특정 데이터 집합에 포함되어 있는지를 확인하는 연산자로서 True 또는 False를 반환\n",
    "    - in: 포함되어 있으면 참\n",
    "    - not in: 포함되어 있지 않으면 참"
   ]
  },
  {
   "cell_type": "code",
   "execution_count": 58,
   "metadata": {},
   "outputs": [
    {
     "name": "stdout",
     "output_type": "stream",
     "text": [
      "(1 in var_y) = True\n",
      "('1' in var_y) = False\n",
      "(4 in var_y) = False\n",
      "(1 not in var_y) = False\n",
      "(4 not in var_y) = True\n"
     ]
    }
   ],
   "source": [
    "# 변수 var_y에 리스트 [1, 2, 3]을 할당\n",
    "var_y = [1, 2, 3]\n",
    "\n",
    "print(f'{(1 in var_y) = }') # 1이 var_y에 포함되어 있는지 확인\n",
    "print(f'{('1' in var_y) = }') # 문자열 1이 var_y에 포함되어 있는지 확인\n",
    "print(f'{(4 in var_y) = }') # 4가 var_y에 포함되어 있는지 확인\n",
    "print(f'{(1 not in var_y) = }') # 1이 var_y에 포함되어 있지 않은지 확인\n",
    "print(f'{(4 not in var_y) = }') # 4rk var_y에 포함되어 있지 않은은지 확인"
   ]
  },
  {
   "cell_type": "markdown",
   "metadata": {},
   "source": [
    "#### 식별 연산\n",
    "- 식별 연산자(Identity Operator)는 두 개의 데이터가 동일한 객체인지(동일한 주소를 갖는지)를 확인하는 연산자로서 True 또는 False를 반환\n",
    "    - is: 동일한 객체면 참\n",
    "    - is not: 동일한 객체가 아니면 참"
   ]
  },
  {
   "cell_type": "code",
   "execution_count": 59,
   "metadata": {},
   "outputs": [
    {
     "name": "stdout",
     "output_type": "stream",
     "text": [
      "(var_x == 10) = True\n",
      "(var_x is 10) = True\n"
     ]
    },
    {
     "name": "stderr",
     "output_type": "stream",
     "text": [
      "<>:8: SyntaxWarning: \"is\" with 'int' literal. Did you mean \"==\"?\n",
      "<>:8: SyntaxWarning: \"is\" with 'int' literal. Did you mean \"==\"?\n",
      "C:\\Users\\Kim Minsoo\\AppData\\Local\\Temp\\ipykernel_10400\\1189903471.py:8: SyntaxWarning: \"is\" with 'int' literal. Did you mean \"==\"?\n",
      "  print(f'{(var_x is 10) = }')\n"
     ]
    }
   ],
   "source": [
    "# 변수 var_x에 정수 10을 할당\n",
    "var_x = 10\n",
    "\n",
    "# var_x가 10과 값이 같은지 확인\n",
    "print(f'{(var_x == 10) = }')\n",
    "\n",
    "# var_x가 10과 주소가 같은지 확인 -> 경고 발생\n",
    "print(f'{(var_x is 10) = }')"
   ]
  },
  {
   "cell_type": "code",
   "execution_count": 60,
   "metadata": {},
   "outputs": [
    {
     "name": "stdout",
     "output_type": "stream",
     "text": [
      "(var_x is var_y) = False\n",
      "(var_x is var_z) = True\n",
      "(var_x is not var_y) = True\n",
      "(var_x is not var_z) = False\n"
     ]
    }
   ],
   "source": [
    "var_x = 10  # 변수 var_x에 정수 10을 할당\n",
    "var_y = 10.0  # 변수 var_y에 실수 10.0를 할당\n",
    "var_z = var_x  # 변수 var_z에 var_x를 할당\n",
    "\n",
    "print(f'{(var_x is var_y) = }')  # var_x와 var_y의 주소가 같은지 확인\n",
    "print(f'{(var_x is var_z) = }')  # var_x와 var_z의 주소가 같은지 확인\n",
    "print(f'{(var_x is not var_y) = }')  # var_x와 var_y의 주소가 다른지 확인\n",
    "print(f'{(var_x is not var_z) = }')  # var_x와 var_z의 주소가 다른지 확인"
   ]
  },
  {
   "cell_type": "markdown",
   "metadata": {},
   "source": [
    "#### 복합 대입 연산\n",
    "- 복합 대입 연산자(Compound Assignment Operator)는 연산과 대입을 동시에 수행하는 연산자\n",
    "    - x += a  :  x = x + a\n",
    "    - x -= a  :  x = x - a\n",
    "    - x *= a  :  x = x * a\n",
    "    - x /= a  :  x = x / a\n",
    "    - x //= a  :  x = x // a\n",
    "    - x %= a  :  x = x % a\n",
    "    - x **= a  :  x = x ** a"
   ]
  },
  {
   "cell_type": "code",
   "execution_count": 76,
   "metadata": {},
   "outputs": [
    {
     "name": "stdout",
     "output_type": "stream",
     "text": [
      "2\n"
     ]
    }
   ],
   "source": [
    "var_x = 1\n",
    "\n",
    "# var_x = var_x + 1\n",
    "var_x += 1 \n",
    "\n",
    "print(var_x)"
   ]
  },
  {
   "cell_type": "code",
   "execution_count": 62,
   "metadata": {},
   "outputs": [
    {
     "name": "stdout",
     "output_type": "stream",
     "text": [
      "11\n",
      "10\n",
      "20\n",
      "10.0\n",
      "5.0\n",
      "1.0\n",
      "1.0\n"
     ]
    }
   ],
   "source": [
    "var_x = 1\n",
    "\n",
    "# ; 세미콜론으로 한 줄에 여러 개의 명령어를 작성 가능\n",
    "var_x += 10; print(var_x)   # 더하기\n",
    "var_x -= 1; print(var_x)    # 빼기\n",
    "var_x *= 2; print(var_x)    # 곱하기\n",
    "var_x /= 2; print(var_x)    # 나누기\n",
    "var_x //= 2; print(var_x)   # 몫\n",
    "var_x %= 2; print(var_x)    # 나머지\n",
    "var_x **= 2; print(var_x)   # 거듭제곱"
   ]
  },
  {
   "cell_type": "markdown",
   "metadata": {},
   "source": [
    "### 연산의 중첩\n",
    "- 여러 연산을 조합 및 중첩하여 수행할 수 있음\n",
    "\n",
    "#### 연산의 우선순위\n",
    "- 연산자 우선순위에 따라 연산이 수행됨\n",
    "- 연산자 우선순위는 수학에서와 동일\n",
    "    - (), **, *, /, //, %, +, -, ==, !=, >, <, >=, <=, not, and, or\n",
    "    - 가능하면, 괄호(())를 사용하여 연산의 우선순위를 명확히 하는 것이 좋음"
   ]
  },
  {
   "cell_type": "code",
   "execution_count": null,
   "metadata": {},
   "outputs": [
    {
     "name": "stdout",
     "output_type": "stream",
     "text": [
      "13\n",
      "256\n",
      "True\n",
      "False\n",
      "False\n"
     ]
    }
   ],
   "source": [
    "print(2**3+5)    # 2의 3제곱에 5를 더한 결과 출력\n",
    "print(2**(3+5))  # 2의 3+5제곱을 출력\n",
    "print(2+3<=4*5)  # 2+3이 4*5보다 작거나 같은지를 출력\n",
    "print(not 2+3<=4*5) # 2+3이 4*5보다 작거나 같지 않은지를 출력\n",
    "print(not ((2+3)<=(4*5))) # 2+3이 4*5보다 작거나 같지 않은지를 출력"
   ]
  },
  {
   "cell_type": "markdown",
   "metadata": {},
   "source": [
    "# 데이터의 연산 - 응용\n",
    "#### 산술연산"
   ]
  },
  {
   "cell_type": "code",
   "execution_count": 40,
   "metadata": {},
   "outputs": [
    {
     "name": "stdout",
     "output_type": "stream",
     "text": [
      "주당 근무 시간 : 16시간\n",
      "1개월 근무 시간 : 64시간\n",
      "주휴 제외 월급 : 641920원\n",
      "주휴수당 : 32096.0원\n",
      "\n",
      "총 급여는 674016.0원입니다.\n",
      "\n",
      "소득세로 공제되는 금액은 22242.528원입니다. \n",
      "------------------------------------------------------------\n",
      "\n",
      "최종적으로 이번 달 받게 될 급여는 651773원입니다.\n"
     ]
    }
   ],
   "source": [
    "# 월급을 계산해보자.\n",
    "# 기본 시급\n",
    "wage = 10030\n",
    "\n",
    "# 주당 근무 시간\n",
    "hours = 16\n",
    "print(f'주당 근무 시간 : {hours}시간') \n",
    "\n",
    "# 1개월 근무시간\n",
    "month = hours*4 # 정수*정수 = 정수\n",
    "print(f'1개월 근무 시간 : {month}시간') \n",
    "\n",
    "# 월급 계산\n",
    "month_wages = month * wage\n",
    "print(f'주휴 제외 월급 : {month_wages}원') # 정수*정수 = 정수\n",
    "\n",
    "# 주휴수당 계산\n",
    "# (소정근무시간 / 40) * 8 * (시급)\n",
    "allowance =  (hours / 40) * 8 * wage \n",
    "# 16 (정수) / 40 (정수) = 0.4 (실수) \n",
    "# 0.4 (실수) * 8 * 10030 (정수) = 32096.0 (실수)\n",
    "print(f'주휴수당 : {allowance}원\\n') # 실수로 계산되어 나온다\n",
    "\n",
    "# 총 급여 계산\n",
    "all = month_wages + allowance\n",
    "print(f'총 급여는 {all}원입니다.\\n')\n",
    "\n",
    "# 소득세 공제 3.3%\n",
    "tax = all * 0.033 # 총 급여(실수) * 소득세율(실수) = 소득세액(실수)\n",
    "print(f'소득세로 공제되는 금액은 {tax:.3f}원입니다.','\\n'+'-'*60+'\\n')\n",
    "\n",
    "# 최종 급여\n",
    "final = all - tax # 총급여(실수) - 소득세액(실수) = 최종 급여(실수)\n",
    "# 정수로 변환한 후 최종 급여 출력\n",
    "print(f'최종적으로 이번 달 받게 될 급여는 {int(final)}원입니다.') "
   ]
  },
  {
   "cell_type": "code",
   "execution_count": null,
   "metadata": {},
   "outputs": [
    {
     "name": "stdout",
     "output_type": "stream",
     "text": [
      "옷 26500원어치를 사기 위해 30000원을 지불했다.\n",
      "\n",
      "[ 지갑에 남은 화폐 ]\n",
      "5000원 0장\n",
      "1000원 3장\n",
      "500원 1개 \n",
      "------------------------------------------------------------\n",
      "거스름돈: 3100원\n"
     ]
    }
   ],
   "source": [
    "# 거스름돈 계산 \n",
    "price = 26500 # 가격\n",
    "payment = 30000 # 지불 금액\n",
    "change = payment - price\n",
    "print(f'옷 {price}원어치를 사기 위해 {payment}원을 지불했다.\\n')\n",
    "\n",
    "# 거스름돈을 5000원, 1000원, 500원, 100원 동전으로 나누기\n",
    "won_5000 = change // 5000\n",
    "change %= 5000  # 남은 금액\n",
    "\n",
    "won_1000 = change // 1000\n",
    "change %= 1000\n",
    "\n",
    "won_500 = change // 500\n",
    "change %= 500\n",
    "\n",
    "# 결과 출력\n",
    "print('[ 지갑에 남은 화폐 ]')\n",
    "print(f'5000원 {won_5000}장')\n",
    "print(f'1000원 {won_1000}장')\n",
    "print(f'500원 {won_500}개','\\n'+'-'*60)\n",
    "print(f'거스름돈: {won_5000 + won_1000*1000 + won_500*100}원')"
   ]
  },
  {
   "cell_type": "code",
   "execution_count": null,
   "metadata": {},
   "outputs": [
    {
     "name": "stdout",
     "output_type": "stream",
     "text": [
      "지갑에 있었던 화폐 = [1000, 1000, 1000, 500]\n",
      "\n",
      "용돈 봉투를 받았다 \n",
      "pin_money = [50000, 10000]\n",
      "\n",
      "현재 수중에 있는 화폐 = [1000, 1000, 1000, 500, 50000, 10000]\n"
     ]
    }
   ],
   "source": [
    "# 지갑 리스트 생성\n",
    "wallet = [1000, 1000, 1000, 500]\n",
    "print(f'지갑에 있었던 화폐 = {wallet}\\n')\n",
    "\n",
    "# 용돈 50000원, 10000원이 든 6만원짜리 봉투를 받았다\n",
    "pin_money = [50000, 10000]\n",
    "print(f'용돈 봉투를 받았다 \\n{pin_money = }\\n')\n",
    "\n",
    "# 리스트끼리 더하기기\n",
    "print(f'현재 수중에 있는 화폐 = {wallet + pin_money}')"
   ]
  },
  {
   "cell_type": "markdown",
   "metadata": {},
   "source": [
    "#### 비교 연산"
   ]
  },
  {
   "cell_type": "code",
   "execution_count": 5,
   "metadata": {},
   "outputs": [
    {
     "name": "stdout",
     "output_type": "stream",
     "text": [
      "(3.5 <= grade < 4.0) = True\n",
      "(4.0 <= grade < 4.5) = False\n",
      "협동 장학금에 선발되셨습니다.\n",
      "자주 장학금에 선발되셨습니다.\n"
     ]
    }
   ],
   "source": [
    "# 변수 grade에에 학점을 할당\n",
    "grade = 3.85\n",
    "print(f'{(3.5 <= grade < 4.0) = }') # 학점이 3.5과 같거나 크고 4.0보다 작은지 비교\n",
    "print(f'{(4.0 <= grade < 4.5) = }') # 학점이 4.0과 같거나 크고 4.5보다 작은지 비교\n",
    "\n",
    "if 3.5 <= grade < 4.0:\n",
    "    print('협동 장학금에 선발되셨습니다.') # 3.5과 같거나 크고 4.0보다 작으므로 출력\n",
    "\n",
    "elif 4.0 <= grade < 4.5:\n",
    "    print('자주 장학금에 선발되셨습니다.') \n",
    "\n",
    "grade = 4.27 # 4.27로 학점 재할당\n",
    "if 3.5 <= grade <= 4.0:\n",
    "    print('협동 장학금에 선발되셨습니다.')\n",
    "\n",
    "elif 4.0 <= grade <= 4.5:\n",
    "    print('자주 장학금에 선발되셨습니다.') # 4.0과 같거나 크고 4.5보다 작으므로 출력\n"
   ]
  },
  {
   "cell_type": "code",
   "execution_count": 11,
   "metadata": {},
   "outputs": [
    {
     "name": "stdout",
     "output_type": "stream",
     "text": [
      "(var_y == {'내가그린':'기린그림','잘기린':'그린기림'}) = True\n",
      "(var_y == ['내가그린','기린그림','잘기린','그린기림']) = False\n",
      "(var_y == ('내가그린','기린그림','잘기린','그린기림')) = False\n",
      "(var_y == {'내가그린':'기린그림','잘그린':'기린그림'}) = False\n",
      "(var_y != {'내가그린':'기린그림','잘그린':'기린그림'}) = True\n"
     ]
    }
   ],
   "source": [
    "var_y = {'내가그린':'기린그림', '잘기린':'그린기림'}\n",
    "\n",
    "print(f'{(var_y == {'내가그린':'기린그림','잘기린':'그린기림'}) = }') # var_y와 같은지 \n",
    "print(f'{(var_y == ['내가그린','기린그림','잘기린','그린기림']) = }') # var_y와 같은지 \n",
    "print(f'{(var_y == ('내가그린','기린그림','잘기린','그린기림')) = }') # var_y와 같은지\n",
    "print(f'{(var_y == {'내가그린':'기린그림','잘그린':'기린그림'}) = }') # var_y와 같은지 \n",
    "print(f'{(var_y != {'내가그린':'기린그림','잘그린':'기린그림'}) = }') # var_y와 다른지"
   ]
  },
  {
   "cell_type": "markdown",
   "metadata": {},
   "source": [
    "#### 논리 연산"
   ]
  },
  {
   "cell_type": "code",
   "execution_count": 25,
   "metadata": {},
   "outputs": [
    {
     "name": "stdout",
     "output_type": "stream",
     "text": [
      "l 0 l l\n",
      "(gender == 'female' and age != 20) = False\n",
      "(job != '변호사' or residence == '종로구') = True\n",
      "(age >= 25 and job == '학생') = False\n",
      "(not gender or residence != '용산구') = True\n"
     ]
    }
   ],
   "source": [
    "gender = input('성별을 입력하세요. (female/male)')\n",
    "age = int(input('나이를 입력하세요.'))\n",
    "job = input('직업을 입력하세요.')\n",
    "residence = input('거주지를 입력하세요 Ex) 마포구')\n",
    "\n",
    "# 신상 여부 판단\n",
    "print(gender, age, job, residence)\n",
    "print(f'{(gender == 'female' and age != 20) = }')\n",
    "print(f'{(job != '변호사' or residence == '종로구') = }')\n",
    "print(f'{(age >= 25 and job == '학생') = }')\n",
    "print(f'{(not gender or residence != '용산구') = }')"
   ]
  },
  {
   "cell_type": "markdown",
   "metadata": {},
   "source": [
    "#### 멤버십 연산"
   ]
  },
  {
   "cell_type": "code",
   "execution_count": 52,
   "metadata": {},
   "outputs": [
    {
     "name": "stdout",
     "output_type": "stream",
     "text": [
      "(10 in mynumber and 10 in lottonumber ) = False\n",
      "(14 in mynumber and 14 in lottonumber) = True\n",
      "(25 in mynumber and 25 in lottonumber ) = False\n",
      "(28 in mynumber and 28 in lottonumber ) = False\n",
      "(30 in mynumber and 30 in lottonumber ) = True\n",
      "(41 in mynumber and 41 in lottonumber ) = True\n",
      "('추기번호 13' in mynumber and '추가번호 16' in lottonumber ) = False\n",
      "\n",
      "5등 당첨되셨습니다!\n"
     ]
    }
   ],
   "source": [
    "lottonumber = [4, 14, 23, 27, 30, 41, '추가번호 16'] # 로또번호\n",
    "mynumber = [10, 14, 25, 28, 30, 41, '추가번호 13'] # 내가 뽑은 번호\n",
    "\n",
    "print(f'{(10 in mynumber and 10 in lottonumber ) = }') # 10이 mynumber와 lottonumber에 있는지 확인\n",
    "print(f'{(14 in mynumber and 14 in lottonumber) = }') # 14가 mynumber와 lottonumber에 있는지 확인\n",
    "print(f'{(25 in mynumber and 25 in lottonumber ) = }') # 25가 mynumber와 lottonumber에 있는지 확인\n",
    "print(f'{(28 in mynumber and 28 in lottonumber ) = }') # 28이 mynumber와 lottonumber에 있는지 확인\n",
    "print(f'{(30 in mynumber and 30 in lottonumber ) = }') # 30이 mynumber와 lottonumber에 있는지 확인\n",
    "print(f'{(41 in mynumber and 41 in lottonumber ) = }') # 41이 mynumber와 lottonumber에 있는지 확인\n",
    "print(f'{('추기번호 13' in mynumber and '추가번호 16' in lottonumber ) = }\\n') # 10이 mynumber와 lottonumber에 있는지 확인\n",
    "\n",
    "print('5등 당첨되셨습니다!')"
   ]
  },
  {
   "cell_type": "code",
   "execution_count": 50,
   "metadata": {},
   "outputs": [
    {
     "name": "stdout",
     "output_type": "stream",
     "text": [
      "(12 in x) = True\n",
      "(40 not in x) = True\n",
      "(7 not in x or '백이십' in x) = False\n",
      "(60 in x and 18 not in x) = True\n",
      "(10 not in x or 12 == '십이') = True\n",
      "(7 != '팔' and '백' in x) = False\n"
     ]
    }
   ],
   "source": [
    "# 멤버십 연산자와 논리 연산자, 관계연산자 함께 쓰기\n",
    "x = {12:'십이', 7:'칠', 100:'백', 60:'육십'}\n",
    "print(f'{(12 in x) = }')\n",
    "print(f'{(40 not in x) = }')\n",
    "print(f'{(7 not in x or '백이십' in x) = }')\n",
    "print(f'{(60 in x and 18 not in x) = }')\n",
    "\n",
    "print(f'{(10 not in x or 12 == '십이') = }')\n",
    "print(f'{(7 != '팔' and '백' in x) = }')"
   ]
  },
  {
   "cell_type": "markdown",
   "metadata": {},
   "source": [
    "#### 식별 연산"
   ]
  },
  {
   "cell_type": "code",
   "execution_count": 57,
   "metadata": {},
   "outputs": [
    {
     "name": "stdout",
     "output_type": "stream",
     "text": [
      "(var_x is (3, 7, 10)) = False\n"
     ]
    },
    {
     "name": "stderr",
     "output_type": "stream",
     "text": [
      "<>:4: SyntaxWarning: \"is\" with 'tuple' literal. Did you mean \"==\"?\n",
      "<>:4: SyntaxWarning: \"is\" with 'tuple' literal. Did you mean \"==\"?\n",
      "C:\\Users\\Kim Minsoo\\AppData\\Local\\Temp\\ipykernel_1996\\108892926.py:4: SyntaxWarning: \"is\" with 'tuple' literal. Did you mean \"==\"?\n",
      "  print(f'{(var_x is (3, 7, 10)) = }')\n"
     ]
    }
   ],
   "source": [
    "var_x = (3, 7, 10)\n",
    "\n",
    "# var_x가 (3, 7, 10)과 주소가 같은지 확인 -> 경고 발생\n",
    "print(f'{(var_x is (3, 7, 10)) = }')\n"
   ]
  },
  {
   "cell_type": "code",
   "execution_count": 59,
   "metadata": {},
   "outputs": [
    {
     "name": "stdout",
     "output_type": "stream",
     "text": [
      "(var_x is var_y) = True\n",
      "(var_x is var_z) = False\n"
     ]
    }
   ],
   "source": [
    "var_z = [3, 7, 10]\n",
    "var_y = var_x # var_y에 var_x를 할당\n",
    "\n",
    "print(f'{(var_x is var_y) = }') # var_x가 var_y와 주소가 같은지 확인\n",
    "print(f'{(var_x is var_z) = }') # var_x가 var_z와 주소가 같은지 확인\n"
   ]
  },
  {
   "cell_type": "code",
   "execution_count": null,
   "metadata": {},
   "outputs": [
    {
     "name": "stdout",
     "output_type": "stream",
     "text": [
      "암호가 아닙니다. 입장할 수 없습니다.\n",
      "적절한 암호입니다. 입장하셔도 됩니다.\n"
     ]
    }
   ],
   "source": [
    "number = input('암호를 입력하세요') # input함수를 통해 number에 데이터 할당\n",
    "code = '김민수바보'\n",
    "\n",
    "# if문으로 code와 입력한 데이터의 주소가 다른지 식별\n",
    "if number is not code:\n",
    "    print('암호가 아닙니다. 입장할 수 없습니다.') # 뭘 쓰든지 주소 다름\n",
    "\n",
    "# code에 number을 할당 후 주소가 같은지 식별\n",
    "code = number\n",
    "if number is code:\n",
    "    print('적절한 암호입니다. 입장하셔도 됩니다.') # 뭘 써도 주소가 동일함\n"
   ]
  },
  {
   "cell_type": "markdown",
   "metadata": {},
   "source": [
    "#### 복합 대입 연산"
   ]
  },
  {
   "cell_type": "code",
   "execution_count": 134,
   "metadata": {},
   "outputs": [
    {
     "name": "stdout",
     "output_type": "stream",
     "text": [
      "현재 담은 사과는 5개 입니다.\n",
      "현재 담은 사과는 10개 입니다.\n",
      "현재 담은 사과는 9개 입니다.\n",
      "[ 담은 사과의 가격은 13500원 입니다. ]\n",
      "사과 1개당 가격은 1500.0원 입니다.\n",
      "\n",
      "천원, 오백원짜리로 계산하려면 1000원짜리 13장과,\n",
      "500원짜리 1.0개가 필요합니다.\n"
     ]
    }
   ],
   "source": [
    "apple = 5 ; print(f'현재 담은 사과는 {apple}개 입니다.') # 사과 개수 할당\n",
    "apple += 5 ; print(f'현재 담은 사과는 {apple}개 입니다.') # 사과 개수를 더하기\n",
    "apple -= 1 ; print(f'현재 담은 사과는 {apple}개 입니다.') # 사과 개수를 빼기\n",
    "apple *= 1500 ; print(f'[ 담은 사과의 가격은 {apple}원 입니다. ]') # 가격을 곱하여 가격을 대입\n",
    "apple /= 9 ; print(f'사과 1개당 가격은 {apple}원 입니다.\\n') # 개수로 나누어 개당 가격 대입입\n",
    "\n",
    "apple = 13500 # 총 가격 재할당\n",
    "# 1000으로 나눈 몫은 필요한 1000원의 장수 \n",
    "apple //= 1000 ; print(f'천원, 오백원짜리로 계산하려면 1000원짜리 {apple}장과,')\n",
    "apple = 13500 # 총 가격 재할당\n",
    "# 1000으로 나눈 나머지를 500원으로 나눈 몫은 필요한 500원의 개수\n",
    "apple %= 1000 ; apple /= 500 ; print(f'500원짜리 {apple}개가 필요합니다.')  "
   ]
  },
  {
   "cell_type": "markdown",
   "metadata": {},
   "source": [
    "#### 연산의 중첩 -  우선순위"
   ]
  },
  {
   "cell_type": "code",
   "execution_count": 107,
   "metadata": {},
   "outputs": [
    {
     "name": "stdout",
     "output_type": "stream",
     "text": [
      "352\n",
      "360000000\n",
      "(3*x**2)+(5*x)+2 >= 3*x**(2+5)*(x+2) = False\n"
     ]
    }
   ],
   "source": [
    "x = int(input('숫자를 입력하세요'))\n",
    "\n",
    "y = (3*x**2)+(5*x)+2 ; print(y)\n",
    "y = 3*x**(2+5)*(x+2) ; print(y) \n",
    "\n",
    "\n",
    "print(f'{(3*x**2)+(5*x)+2 >= 3*x**(2+5)*(x+2) = }')"
   ]
  }
 ],
 "metadata": {
  "kernelspec": {
   "display_name": "base",
   "language": "python",
   "name": "python3"
  },
  "language_info": {
   "codemirror_mode": {
    "name": "ipython",
    "version": 3
   },
   "file_extension": ".py",
   "mimetype": "text/x-python",
   "name": "python",
   "nbconvert_exporter": "python",
   "pygments_lexer": "ipython3",
   "version": "3.12.9"
  }
 },
 "nbformat": 4,
 "nbformat_minor": 2
}
