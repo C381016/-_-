{
 "cells": [
  {
   "cell_type": "markdown",
   "id": "daa14269",
   "metadata": {},
   "source": [
    "# **C381016 김민수**"
   ]
  },
  {
   "cell_type": "markdown",
   "id": "a34a288b",
   "metadata": {},
   "source": [
    "# **함수**\n",
    "\n",
    "#### 함수와 람다함수\n",
    "\n",
    "## **함수**\n",
    "- 함수는 인수를 입력으로 받아 실행문(코드블럭)을 실행하고 출력(return)하는 하나의 실행 모듈 \n",
    "\n",
    "### **함수의 정의**"
   ]
  },
  {
   "cell_type": "code",
   "execution_count": null,
   "id": "c192e124",
   "metadata": {},
   "outputs": [],
   "source": [
    "def 함수명(매개변수1, 매개변수2=디폴트값, ...):\n",
    "    실행문1\n",
    "    실행문2\n",
    "    ...\n",
    "    return 반환값"
   ]
  },
  {
   "cell_type": "markdown",
   "id": "57497770",
   "metadata": {},
   "source": [
    "- 함수는 def 키워드로 정의하며, 함수명과 매개변수를 괄호()로 묶어서 정의함\n",
    "    - 매개변수(parameter)는 함수에 입력으로 전달된 값을 받는 변수\n",
    "    - 인수(arguments)는 함수를 호출할 때 전달하는 입력 값을 의미\n",
    "- 함수의 실행문은 *코드블럭으로 작성하여 indent로 구분함*\n",
    "- 함수의 실행 결과는 return 키워드로 반환함\n",
    "    - 반환값은 하나인 경우는 반환값 데이터 유형으로, 둘 이상인 경우는 튜플로 반환함\n",
    "    - return은 생략 가능하며, 생략할 경우 None을 반환함\n",
    "\n",
    "#### **함수명 작성법**\n",
    "- 함수명만으로도 함수의 기능을 유추할 수 있도록 명확하게 표현하는 것이 좋음\n",
    "    - 동사+명사 형태로 작성하는 것이 좋음\n",
    "- 과거에는 함수명을 snake_case로 작성하였으나 최근에는 camelCase로 작성하는 추세임 \n"
   ]
  },
  {
   "cell_type": "code",
   "execution_count": null,
   "id": "12cdf2e8",
   "metadata": {},
   "outputs": [],
   "source": [
    "# cacSumProduct 함수명, a,b는 parameter(매개변수)\n",
    "def calcSumProduct(a,b=10):\n",
    "    \n",
    "    # 들여쓰기로 실행문의 코드블록을 지정\n",
    "    plus = a+b\n",
    "    multiple = a*b\n",
    "\n",
    "    # return으로 함수의 결과값을 반환\n",
    "    return plus, multiple"
   ]
  },
  {
   "cell_type": "markdown",
   "id": "593fa22b",
   "metadata": {},
   "source": [
    "##### **함수의 호출**"
   ]
  },
  {
   "cell_type": "code",
   "execution_count": null,
   "id": "00e6d7fa",
   "metadata": {},
   "outputs": [],
   "source": [
    "# 반환값이 없거나 반환값을 바로 사용\n",
    "함수명(인수1, 인수2, ...)\n",
    "\n",
    "# 반환값을 변수에 저장하여 활용\n",
    "변수명 = 함수명(인수1, 인수2, ...)\n",
    "\n",
    "# 반환값이 여러 개인 경우 튜플로 반환됨\n",
    "변수1, 변수2, ... = 함수명(인수1, 인수2, ...)"
   ]
  },
  {
   "cell_type": "markdown",
   "id": "054d488b",
   "metadata": {},
   "source": [
    "- 함수를 호출할 때는 함수명(인수들)으로 호출함\n",
    "    - 인수가 정의된 순서대로 값이 전달됨\n",
    "    - 인수가 많거나 순서에 관계없이 호출할 경우에는 매개변수=인수로 지정함\n",
    "    - 디폴트값이 설정된 매개젼수는 인수를 생략할 수 있으며, 디폴트값이 적용됨\n",
    "- 함수의 반환값은 변수에 저장하여 활용할 수 있음\n",
    "    - 반환값이 여러 개인 경우 튜플로 반환됨 "
   ]
  },
  {
   "cell_type": "code",
   "execution_count": null,
   "id": "0365fa11",
   "metadata": {},
   "outputs": [
    {
     "name": "stdout",
     "output_type": "stream",
     "text": [
      "sum = 10, product = 21\n"
     ]
    }
   ],
   "source": [
    "# 인자를 순서대로 전달하여 함수 호출\n",
    "sum, product = calcSumProduct(3, 7)\n",
    "\n",
    "print(f'{sum = }, {product = }')"
   ]
  },
  {
   "cell_type": "code",
   "execution_count": null,
   "id": "d38900bd",
   "metadata": {},
   "outputs": [
    {
     "name": "stdout",
     "output_type": "stream",
     "text": [
      "sum = 13, product = 30\n"
     ]
    }
   ],
   "source": [
    "# 인자의 디폴트값을 사용하여 함수 호출\n",
    "sum, product = calcSumProduct(3)\n",
    "\n",
    "print(f'{sum = }, {product = }')"
   ]
  },
  {
   "cell_type": "code",
   "execution_count": null,
   "id": "b1f03475",
   "metadata": {},
   "outputs": [
    {
     "name": "stdout",
     "output_type": "stream",
     "text": [
      "sum = 10, product = 21\n"
     ]
    }
   ],
   "source": [
    "# 인자의 이름을 지정하여 함수 호출\n",
    "sum, product = calcSumProduct(b=3, a=7)\n",
    "\n",
    "print(f'{sum = }, {product = }')"
   ]
  },
  {
   "cell_type": "markdown",
   "id": "17019ea5",
   "metadata": {},
   "source": [
    "#### **함수 주석**\n",
    "- 함수 주석(Fuction Annotation)은 파이썬 3.0부터 지원하는 기능으로 *함수의 매개변수와 반환값에 대한 정보를 제공*하는 기능\n",
    "    - 함수에 대한 정보: *함수명 바로 아래에 작은 따옴표 3개(''' ''') 또는 이중따옴표 3개(\"\"\" \"\"\")로 감싸서 기술*\n",
    "    - 함수의 매개변수에 대한 정보: *매개변수명 뒤에 콜론(:)을 붙이고 자료형을 기술*\n",
    "    - 함수의 반환값에 대한 정보: *함수명 앞에 화살표(->)를 붙이고 자료형을 기술* "
   ]
  },
  {
   "cell_type": "code",
   "execution_count": null,
   "id": "17538939",
   "metadata": {},
   "outputs": [],
   "source": [
    "# a와 b는 int형으로 지정, 반환값은 int형\n",
    "def calcSumProduct(a: int, b: int = 10) -> int:\n",
    "    # 함수에 대한 설명을 작성\n",
    "    \"\"\"calcSumProduct 함수는 a와 b를 더한 값과 곱한 갑을 튜플로 반환하는 함수이다.\"\"\"\n",
    "\n",
    "    # f-string을 이용하여 a와 b의 값을 출력\n",
    "    print(f'{a = }, {b = }')\n",
    "    plus = a+b\n",
    "    multiple = a*b\n",
    "    return plus, multiple "
   ]
  },
  {
   "cell_type": "markdown",
   "id": "778638eb",
   "metadata": {},
   "source": [
    "- 함수의 정보를 확인할 때에는 help(함수명)으로 확인함 "
   ]
  },
  {
   "cell_type": "code",
   "execution_count": null,
   "id": "9c984f74",
   "metadata": {},
   "outputs": [
    {
     "name": "stdout",
     "output_type": "stream",
     "text": [
      "Help on function calcSumProduct in module __main__:\n",
      "\n",
      "calcSumProduct(a: int, b: int = 10) -> int\n",
      "    calcSumProduct 함수는 a와 b를 더한 값과 곱한 갑을 튜플로 반환하는 함수이다.\n",
      "\n"
     ]
    }
   ],
   "source": [
    "# 함수의 설명을 출력\n",
    "help(calcSumProduct)"
   ]
  },
  {
   "cell_type": "markdown",
   "id": "058eb682",
   "metadata": {},
   "source": [
    "### **인수의 개수가 정해지지 않은 함수**\n",
    "- *args: 튜플로 인수를 받음\n",
    "- **kwargs: 딕셔너리로 인수를 받음\n",
    "\n",
    "##### ***args의 활용** "
   ]
  },
  {
   "cell_type": "code",
   "execution_count": null,
   "id": "7e703bb5",
   "metadata": {},
   "outputs": [
    {
     "name": "stdout",
     "output_type": "stream",
     "text": [
      "inputs = (1, 2, 3)\n",
      "sum = np.int64(6), product = np.int64(6)\n",
      "\n",
      "inputs = (1, 2, 3, 4, 5, 6, 7, 8)\n",
      "sum = np.int64(36), product = np.int64(40320)\n"
     ]
    }
   ],
   "source": [
    "# 계산을 위해 numpy 모듈을 np로 import\n",
    "import numpy as np\n",
    "\n",
    "# calcSumProduct2 함수명, inputs는 크기가 정해지지 않은 parameter(매개변수)\n",
    "def calcSumProduct2(*inputs):\n",
    "    \"\"\" calcSumProduct2 함수는 입력의 합과 곱을 튜플로 반환하는 함수이다.\"\"\"\n",
    "\n",
    "    # f-sting을 이용하여 inputs의 값을 출력\n",
    "    print(f'{inputs = }')\n",
    "\n",
    "    # numpy 모듈을 이용하여 inputs의 합과 곱을 계산\n",
    "    plus = np.sum(inputs)\n",
    "    multiple = np.prod(inputs)\n",
    "\n",
    "    # plus와 multiple을 튜플로 반환\n",
    "    return plus, multiple\n",
    "\n",
    "# 인수와 1,2,3에 대한 함수를 적용하여 결과를 sum, priduct에 저장\n",
    "sum, product = calcSumProduct2(1,2,3)\n",
    "\n",
    "# sum과 product를 출력\n",
    "print(f'{sum = }, {product = }\\n')\n",
    "\n",
    "# 인수 1,2,3,4,5,6,7,8에 대한 함수를 적용하여 결과를 sum, product에 저장\n",
    "sum, product = calcSumProduct2(1,2,3,4,5,6,7,8)\n",
    "\n",
    "# sum과 product를 출력\n",
    "print(f'{sum = }, {product = }')"
   ]
  },
  {
   "cell_type": "markdown",
   "id": "d2d79691",
   "metadata": {},
   "source": [
    "#### ****kwags의 활용** "
   ]
  },
  {
   "cell_type": "code",
   "execution_count": null,
   "id": "dbc2c08c",
   "metadata": {},
   "outputs": [
    {
     "name": "stdout",
     "output_type": "stream",
     "text": [
      "inputs = {'a': 1, 'b': 2}\n",
      "sum = 3, product = 2\n",
      "\n",
      "inputs = {'a': 1, 'b': 2, 'c': 3, 'd': 4}\n",
      "sum = 10, product = 24\n",
      "\n"
     ]
    }
   ],
   "source": [
    "import numpy as np\n",
    "\n",
    "# calcSumProduct2 함수명, inputs는 크기가 정해지지 않은 parameters\n",
    "def calcSumProduct2(**inputs):\n",
    "    \"\"\"calcSumProduct2 함수는 입력의 합과 곱을 튜플로 반환하는 함수이다.\"\"\"\n",
    "\n",
    "    # f-sring을 이용하여 inputs의 값을 출력\n",
    "    print(f'{inputs = }')\n",
    "\n",
    "    # plus에 0을, multiple에 1을 초기값으로 할당\n",
    "    plus = 0\n",
    "    multiple = 1\n",
    "\n",
    "    # inputs가 딕셔너리 이므로 key와 value를 반복하여 _, value에 할당\n",
    "    for _, value in inputs.items():\n",
    "        # plus에 value를 더하여 plus를 갱신\n",
    "        plus += value\n",
    "        multiple *= value\n",
    "\n",
    "    # plus와 multiple을 튜플로 반환\n",
    "    return plus, multiple\n",
    "\n",
    "# 인수 a=1, b=2에 대한 함수를 적용하여 결과를 sum, product에 저장\n",
    "sum, product = calcSumProduct2(a=1, b=2)\n",
    "print(f'{sum = }, {product = }\\n')\n",
    "\n",
    "# 인수 a=1, b=2, c=3, d=4 에 대한 함수를 적용하여 결과를 sum, product에 저장\n",
    "sum, product = calcSumProduct2(a=1, b=2, c=3, d=4)\n",
    "print(f'{sum = }, {product = }\\n')"
   ]
  },
  {
   "cell_type": "markdown",
   "id": "f3cdd31d",
   "metadata": {},
   "source": [
    "## **지역변수와 전역변수**\n",
    "-  지역변수(local variable): 함수 내에서 선언된 변수\n",
    "    - 함수 실행시 생성되고 함수 종료시 소명됨 -> 메모리 관리에 효율적임\n",
    "- 전역변수(global variable): 함수 외부에서 선언된 변수\n",
    "    - 함수 외부에서 선언되어 프로그램이 종료될 때까지 유지됨 -> 메모리 관리에 비효율적임\n",
    "    - 전역변수를 함수 내에서 선언하려면 global 전역변수명으로 선언해야 함 \n",
    "\n",
    "#### **함수 내에서 전역변수의 사용**\n",
    "- 전역변수를 그냥 사용하면 됨  "
   ]
  },
  {
   "cell_type": "code",
   "execution_count": null,
   "id": "1ec6afec",
   "metadata": {},
   "outputs": [
    {
     "name": "stdout",
     "output_type": "stream",
     "text": [
      "var_global = '전역 변수'\n",
      "var_local = '인자는 지역 변수'\n",
      "var_global = '전역 변수'\n",
      "name 'var_local' is not defined\n"
     ]
    }
   ],
   "source": [
    "# var_global은 전역변수\n",
    "var_global = '전역 변수'\n",
    "\n",
    "# useGlobalVariable 함수명, var_local은 매개변수(지역 변수)\n",
    "def useGlobalVariable(var_local):\n",
    "\n",
    "    # 전역변수와 지역변수를 출력\n",
    "    print(f'{var_global = }')\n",
    "    print(f'{var_local = }')\n",
    "\n",
    "# useGlobalVariable 함수 호출, '인자는 지역 변수'는 인자\n",
    "useGlobalVariable('인자는 지역 변수')\n",
    "\n",
    "# 전역변수를 출력 -> 값이 변하지 않음\n",
    "print(f'{var_global = }')\n",
    "\n",
    "# 지역변수를 출력 -> 함수 내에서만 사용되는 변수로서 함수 외부에서는 사용 불가\n",
    "try:\n",
    "    print(f'{var_local = }')\n",
    "except NameError as e:\n",
    "    print(e)"
   ]
  },
  {
   "cell_type": "markdown",
   "id": "e9990374",
   "metadata": {},
   "source": [
    "### **함수 내에서 전역변수의 변경**\n",
    "- 함수 내에서 전역변수의 변경은 안됨. 전역변수가 아닌 지역변수로 생성됨 "
   ]
  },
  {
   "cell_type": "code",
   "execution_count": null,
   "id": "9973a2c4",
   "metadata": {},
   "outputs": [
    {
     "name": "stdout",
     "output_type": "stream",
     "text": [
      "var_global = '전역 변수가 아닌 지역변수임'\n",
      "var_local = '인자는 지역 변수'\n",
      "var_global = '전역 변수'\n"
     ]
    }
   ],
   "source": [
    "var_global = '전역 변수'\n",
    "\n",
    "def useGlobalVariable(var_local):\n",
    "\n",
    "\n",
    "    # var_global을 변경하면, 전역변수가 아닌 지역변수로 생성하여 사용됨\n",
    "    # 즉, 변수명은 동일하나 서로 다른 변수임\n",
    "    var_global = '전역 변수가 아닌 지역변수임'\n",
    "    print(f'{var_global = }')\n",
    "    print(f'{var_local = }')\n",
    "\n",
    "# useGlobalVariable 함수 호출, '인자는 지역 변수'는 인자\n",
    "useGlobalVariable('인자는 지역 변수')\n",
    "\n",
    "# 전역변수를 출력 -> 값이 변하지 않음\n",
    "print(f'{var_global = }')"
   ]
  },
  {
   "cell_type": "markdown",
   "id": "a819b37b",
   "metadata": {},
   "source": [
    "### **함수 내에서 전역변수를 변경하는 방법**\n",
    "- global 전역변수명으로 선언해야 함 "
   ]
  },
  {
   "cell_type": "code",
   "execution_count": null,
   "id": "463fb5d9",
   "metadata": {},
   "outputs": [
    {
     "name": "stdout",
     "output_type": "stream",
     "text": [
      "var_global = '전역 변수'\n",
      "var_local = '인자는 지역 변수'\n",
      "var_global = '이제는 전역 변수임'\n"
     ]
    }
   ],
   "source": [
    "var_global = '전역 변수'\n",
    "\n",
    "def useGlobalVariable(var_local):\n",
    "\n",
    "    # var_global이 전역변수임을 명시\n",
    "    global var_global\n",
    "\n",
    "    # 전역변수와 지역변수를 출력\n",
    "    print(f'{var_global = }')\n",
    "    print(f'{var_local = }')\n",
    "\n",
    "    # var_global은 이제 전역변수이므로 전역변수의 값이 변경됨\n",
    "    var_global = '이제는 전역 변수임'\n",
    "\n",
    "# useGlobalVariable 함수 호출, '인자는 지역 변수'는 인자\n",
    "useGlobalVariable('인자는 지역 변수')\n",
    "\n",
    "# 전역변수를 출력 -> 값이 변경됨\n",
    "print(f'{var_global = }')\n"
   ]
  },
  {
   "cell_type": "markdown",
   "id": "8d928d7b",
   "metadata": {},
   "source": [
    "## **람다함수**\n",
    "- 람다함수는 일반 함수를 가볍게 만들어 사용하기 위한 함수\n",
    "- 람다함수(lambda function) = 람다표현식(lambda expression) = 익명함수(anonymous function)\n",
    "\n",
    "#### **람다함수 정의** "
   ]
  },
  {
   "cell_type": "code",
   "execution_count": null,
   "id": "d626134c",
   "metadata": {},
   "outputs": [],
   "source": [
    "# 일반함수의 정의\n",
    "def 함수명(매개변수):\n",
    "    return 표현식\n",
    "\n",
    "# 함수명이 없는 람다함수\n",
    "lambda 매개변수: 표현식\n",
    "\n",
    "# 함수명이 있는 람다함수\n",
    "함수명 = lambda 매개변수: 표현식식"
   ]
  },
  {
   "cell_type": "markdown",
   "id": "e21e844c",
   "metadata": {},
   "source": [
    "- 일반 함수 정의 "
   ]
  },
  {
   "cell_type": "code",
   "execution_count": null,
   "id": "cf6e11e5",
   "metadata": {},
   "outputs": [
    {
     "data": {
      "text/plain": [
       "15"
      ]
     },
     "execution_count": 11,
     "metadata": {},
     "output_type": "execute_result"
    }
   ],
   "source": [
    "# x를 매개변수로 하여 10을 더하는 함수정의\n",
    "def addTen(x):\n",
    "    return x+10\n",
    "\n",
    "# 일반 함수 호출\n",
    "addTen(5)"
   ]
  },
  {
   "cell_type": "markdown",
   "id": "2385295c",
   "metadata": {},
   "source": [
    " - 함수명이 없는 람다함수 "
   ]
  },
  {
   "cell_type": "code",
   "execution_count": null,
   "id": "7a88b3c4",
   "metadata": {},
   "outputs": [
    {
     "data": {
      "text/plain": [
       "<function __main__.<lambda>(x)>"
      ]
     },
     "execution_count": 12,
     "metadata": {},
     "output_type": "execute_result"
    }
   ],
   "source": [
    "# x를 매개변수로 하여 10을 더하는 함수를 lambda로 정의\n",
    "lambda x: x+10"
   ]
  },
  {
   "cell_type": "code",
   "execution_count": null,
   "id": "31ad203b",
   "metadata": {},
   "outputs": [
    {
     "data": {
      "text/plain": [
       "15"
      ]
     },
     "execution_count": 13,
     "metadata": {},
     "output_type": "execute_result"
    }
   ],
   "source": [
    "# lambda 함수 호출 -> 함수명이 없으므로 함수를 호출할 수 없어 정의하여 바로 호출\n",
    "(lambda x: x+10)(5)"
   ]
  },
  {
   "cell_type": "markdown",
   "id": "d55fdc7b",
   "metadata": {},
   "source": [
    "- 함수명이 있는 람다함수 "
   ]
  },
  {
   "cell_type": "code",
   "execution_count": null,
   "id": "08cf397c",
   "metadata": {},
   "outputs": [
    {
     "data": {
      "text/plain": [
       "15"
      ]
     },
     "execution_count": 14,
     "metadata": {},
     "output_type": "execute_result"
    }
   ],
   "source": [
    "# x를 입력받아 x+10을 반환하는 람다함수를 addTen으로 명명\n",
    "addTen = lambda x: x + 10\n",
    "\n",
    "# addTen 함수 호출\n",
    "addTen(5)"
   ]
  },
  {
   "cell_type": "markdown",
   "id": "fc4c92d2",
   "metadata": {},
   "source": [
    "#### **람다함수 응용**\n",
    "##### 람다함수에 외부 변수의 사용\n",
    "- 람다함수 내부에서는 새로운 변수를 생성할 수 없으나 외부 변수는 사용가능 "
   ]
  },
  {
   "cell_type": "code",
   "execution_count": null,
   "id": "ed8c6349",
   "metadata": {},
   "outputs": [
    {
     "data": {
      "text/plain": [
       "115"
      ]
     },
     "execution_count": 15,
     "metadata": {},
     "output_type": "execute_result"
    }
   ],
   "source": [
    "# 외부변수\n",
    "y = 100\n",
    "\n",
    "# 외부변수를 참조하는 람다함수\n",
    "(lambda x: x+y+10)(5)"
   ]
  },
  {
   "cell_type": "markdown",
   "id": "eabe199f",
   "metadata": {},
   "source": [
    "##### 람다함수에 조건부 표현식 사용 "
   ]
  },
  {
   "cell_type": "code",
   "execution_count": null,
   "id": "22396036",
   "metadata": {},
   "outputs": [
    {
     "data": {
      "text/plain": [
       "8"
      ]
     },
     "execution_count": 16,
     "metadata": {},
     "output_type": "execute_result"
    }
   ],
   "source": [
    "# x가 3의 배수이면 '(3의 배수) '+str(x)를 반환하고, 아니면 x를 반환하는 람다함수\n",
    "(lambda x: '(3의배수)'+str(x) if x%3==0 else x)(8)"
   ]
  },
  {
   "cell_type": "code",
   "execution_count": null,
   "id": "dabf8733",
   "metadata": {},
   "outputs": [
    {
     "data": {
      "text/plain": [
       "'(3의 배수) 9'"
      ]
     },
     "execution_count": 17,
     "metadata": {},
     "output_type": "execute_result"
    }
   ],
   "source": [
    "# x가 3의 배수이면 '(3의 배수) '+str(x)를 반환하고,\n",
    "# x를 3으로 나눈 나머지가 1이면 float(x)를 반환하고,\n",
    "# 모두 해당이 안 되면 x를 반환하는 람다함수\n",
    "(lambda x: '(3의 배수) '+str(x) if x%3==0 else float(x) if x%3==1 else x)(9)"
   ]
  },
  {
   "cell_type": "code",
   "execution_count": null,
   "id": "4e4c4bc7",
   "metadata": {},
   "outputs": [
    {
     "data": {
      "text/plain": [
       "7.0"
      ]
     },
     "execution_count": 18,
     "metadata": {},
     "output_type": "execute_result"
    }
   ],
   "source": [
    "(lambda x: '(3의 배수) '+str(x) if x%3==0 else float(x) if x%3==1 else x)(7)"
   ]
  },
  {
   "cell_type": "code",
   "execution_count": null,
   "id": "0f9a7660",
   "metadata": {},
   "outputs": [
    {
     "data": {
      "text/plain": [
       "5"
      ]
     },
     "execution_count": 19,
     "metadata": {},
     "output_type": "execute_result"
    }
   ],
   "source": [
    "(lambda x: '(3의 배수) '+str(x) if x%3==0 else float(x) if x%3==1 else x)(5)"
   ]
  },
  {
   "cell_type": "markdown",
   "id": "520446ec",
   "metadata": {},
   "source": [
    "##### 람다함수에 인자 여러개 넣기 "
   ]
  },
  {
   "cell_type": "code",
   "execution_count": null,
   "id": "9d1d40bd",
   "metadata": {},
   "outputs": [
    {
     "data": {
      "text/plain": [
       "3"
      ]
     },
     "execution_count": 20,
     "metadata": {},
     "output_type": "execute_result"
    }
   ],
   "source": [
    "# x가 3의 배수이면 x를, 아니면 x+y를 반환하는 람다함수\n",
    "(lambda x,y: x if x%3==0 else x+y)(3,4)"
   ]
  },
  {
   "cell_type": "code",
   "execution_count": null,
   "id": "afda99c1",
   "metadata": {},
   "outputs": [
    {
     "data": {
      "text/plain": [
       "6"
      ]
     },
     "execution_count": 21,
     "metadata": {},
     "output_type": "execute_result"
    }
   ],
   "source": [
    "(lambda x,y: x if x%3==0 else x+y)(2,4)"
   ]
  },
  {
   "cell_type": "markdown",
   "id": "d0cd115f",
   "metadata": {},
   "source": [
    "#### **람다함수의 활용**\n",
    "- 람다함수는 짧은 코드로 함수를 정의하여 사용하기 때문에 *간단한 함수를 정의하여 다른 함수의 인수로 사용할 때 유용함*\n",
    "##### map 함수에 적용\n",
    "- map 함수는 iterable 객테의 원소를 지정된 함수로 처리해주는 함수\n",
    "- map(함수명, iterable 객체)\n",
    "    - map 함수의 결과는 map 객체로 반환됨 -> 값을 확인하기 위해서는 list() 함수로 변환하여 사용함 "
   ]
  },
  {
   "cell_type": "code",
   "execution_count": null,
   "id": "ac1c342a",
   "metadata": {},
   "outputs": [
    {
     "data": {
      "text/plain": [
       "[11, 12, 13]"
      ]
     },
     "execution_count": 22,
     "metadata": {},
     "output_type": "execute_result"
    }
   ],
   "source": [
    "# [1,2,3]의 원소를 x에 할당하여 x+10을 반환하는 람다함수를 호출하여 list로 변환\n",
    "list(map(lambda x: x+10, [1,2,3]))"
   ]
  },
  {
   "cell_type": "code",
   "execution_count": null,
   "id": "711877ed",
   "metadata": {},
   "outputs": [
    {
     "data": {
      "text/plain": [
       "['(3의 배수) 0', 1, 2, '(3의 배수) 3', 4, 5, '(3의 배수) 6', 7, 8, '(3의 배수) 9']"
      ]
     },
     "execution_count": 23,
     "metadata": {},
     "output_type": "execute_result"
    }
   ],
   "source": [
    "# range(10)의 원소를 x에 할당하여 x가 3의 배수이면 '(3의 배수) '+str(x)를 반환하고,\n",
    "# 아니면 x를 반환하는 람다함수를 호출하여 list로 변환\n",
    "ldMultiple3 = lambda x: '(3의 배수) '+str(x) if x%3==0 else x\n",
    "list(map(ldMultiple3, range(10)))"
   ]
  },
  {
   "cell_type": "code",
   "execution_count": null,
   "id": "0e3c04eb",
   "metadata": {},
   "outputs": [
    {
     "data": {
      "text/plain": [
       "['(3의 배수) 0', 1.0, 2, '(3의 배수) 3', 4.0, 5, '(3의 배수) 6', 7.0, 8, '(3의 배수) 9']"
      ]
     },
     "execution_count": 24,
     "metadata": {},
     "output_type": "execute_result"
    }
   ],
   "source": [
    "# range(10)의 원소를 x에 할당하여 x가 3의 배수이면 '(3의 배수) '+str(x)를 반환하고,\n",
    "# x를 3으로 나눈 나머지가 1이면 float(x)를 반환하고,\n",
    "# 모두 해당이 안 되면 x를 반환하는 람다함수를 호출하여 list로 변환\n",
    "ldMultiple3f = lambda x: '(3의 배수) '+str(x) if x%3==0 else float(x) if x%3==1 else x\n",
    "list(map(ldMultiple3f, range(10)))"
   ]
  },
  {
   "cell_type": "code",
   "execution_count": null,
   "id": "5c1fad0b",
   "metadata": {},
   "outputs": [
    {
     "data": {
      "text/plain": [
       "[0, 101, 102, 3, 104, 105, 6, 107, 108, 9]"
      ]
     },
     "execution_count": 25,
     "metadata": {},
     "output_type": "execute_result"
    }
   ],
   "source": [
    "# range(10)의 원소를 x에 할당하고, [100]*10의 원소를 y에 할당하여\n",
    "# x가 3의 배수이면 x를, 아니면 x+y를 반환하는 람다함수를 호출하여 list로 변환\n",
    "ldMultiple3a = lambda x, y: x if x%3==0 else x+y\n",
    "list(map(ldMultiple3a, range(10), [100]*10))"
   ]
  },
  {
   "cell_type": "markdown",
   "id": "5ab04bd2",
   "metadata": {},
   "source": [
    "# **응용 - 함수**"
   ]
  },
  {
   "cell_type": "markdown",
   "id": "e222b0d2",
   "metadata": {},
   "source": [
    "# **함수**"
   ]
  },
  {
   "cell_type": "markdown",
   "id": "6425b0bf",
   "metadata": {},
   "source": [
    "def 함수명(매개변수1, 매개변수2=디폴트값, ...):\n",
    "    실행문1\n",
    "    실행문2\n",
    "    ...\n",
    "    return 반환값"
   ]
  },
  {
   "cell_type": "markdown",
   "id": "2ebbd9ec",
   "metadata": {},
   "source": [
    "#### **함수명 작성법** "
   ]
  },
  {
   "cell_type": "code",
   "execution_count": 22,
   "id": "5e50404e",
   "metadata": {},
   "outputs": [],
   "source": [
    "# dividenum은 함수명, a,b는 parameter(매개변수)\n",
    "def dividenum(a=100, b=50):\n",
    "    \n",
    "    # 들여쓰기로 실행문의 코드블록을 지정\n",
    "    quotient = a//b # 몫\n",
    "    remainder = a%b # 나머지\n",
    "\n",
    "    # return으로 함수의 결과값을 반환\n",
    "    return quotient, remainder"
   ]
  },
  {
   "cell_type": "markdown",
   "id": "c5d49019",
   "metadata": {},
   "source": [
    "##### **함수의 호출**"
   ]
  },
  {
   "cell_type": "code",
   "execution_count": 23,
   "id": "b129142f",
   "metadata": {},
   "outputs": [
    {
     "name": "stdout",
     "output_type": "stream",
     "text": [
      "quotient = 5, remainder = 0\n"
     ]
    }
   ],
   "source": [
    "# 인자를 순서대로 전달하여 함수 호출\n",
    "quotient, remainder = dividenum(100, 20)\n",
    "\n",
    "print(f'{quotient = }, {remainder = }')"
   ]
  },
  {
   "cell_type": "code",
   "execution_count": 24,
   "id": "149f25fd",
   "metadata": {},
   "outputs": [
    {
     "name": "stdout",
     "output_type": "stream",
     "text": [
      "quotient = 2, remainder = 0\n"
     ]
    }
   ],
   "source": [
    "# 인자의 디폴트값을 사용하여 함수 호출\n",
    "quotient, remainder = dividenum() # 아무것도 넣지 않아도 디폴트값 반환환\n",
    "\n",
    "print(f'{quotient = }, {remainder = }')"
   ]
  },
  {
   "cell_type": "code",
   "execution_count": 25,
   "id": "1e946f32",
   "metadata": {},
   "outputs": [
    {
     "name": "stdout",
     "output_type": "stream",
     "text": [
      "quotient = 4, remainder = 0\n"
     ]
    }
   ],
   "source": [
    "# 인자의 이름을 지정하여 함수 호출\n",
    "quotient, remainder = dividenum(b=25, a=100)\n",
    "\n",
    "print(f'{quotient = }, {remainder = }')"
   ]
  },
  {
   "cell_type": "code",
   "execution_count": null,
   "id": "b45c5f97",
   "metadata": {},
   "outputs": [
    {
     "name": "stdout",
     "output_type": "stream",
     "text": [
      "quotient = 1, remainder = 0\n"
     ]
    }
   ],
   "source": [
    "# 인자의 이름을 하나만 지정하여 함수 호출\n",
    "quotient, remainder = dividenum(b=100)\n",
    "\n",
    "print(f'{quotient = }, {remainder = }')"
   ]
  },
  {
   "cell_type": "markdown",
   "id": "35c62201",
   "metadata": {},
   "source": [
    "#### **함수 주석**\n",
    "- 함수에 대한 정보: *함수명 바로 아래에 작은 따옴표 3개(''' ''') 또는 이중따옴표 3개(\"\"\" \"\"\")로 감싸서 기술*\n",
    "- 함수의 매개변수에 대한 정보: *매개변수명 뒤에 콜론(:)을 붙이고 자료형을 기술*\n",
    "- 함수의 반환값에 대한 정보: *함수명 앞에 화살표(->)를 붙이고 자료형을 기술* "
   ]
  },
  {
   "cell_type": "code",
   "execution_count": 42,
   "id": "9fc78070",
   "metadata": {},
   "outputs": [],
   "source": [
    "# a는 int형, b는 float형, 따라서 모든 결과값은 실수형 출력력\n",
    "def dividenum(a: int, b: float = 20) -> list:\n",
    "    # 함수 설명\n",
    "    \"\"\"dividenum 함수는 a와 b를 나눈 몫과 나머지를 리스트로 반환하는 함수이다.\"\"\"\n",
    "\n",
    "    # a와 b의 값 출력\n",
    "    print(f'{a = }, {b = }')\n",
    "    quotient = a//b\n",
    "    remainder = a%b\n",
    "    return [quotient, remainder] "
   ]
  },
  {
   "cell_type": "code",
   "execution_count": 43,
   "id": "31b48c25",
   "metadata": {},
   "outputs": [
    {
     "name": "stdout",
     "output_type": "stream",
     "text": [
      "Help on function dividenum in module __main__:\n",
      "\n",
      "dividenum(a: int, b: float = 20) -> list\n",
      "    dividenum 함수는 a와 b를 나눈 몫과 나머지를 리스트로 반환하는 함수이다.\n",
      "\n"
     ]
    }
   ],
   "source": [
    "# 함수 설명 출력\n",
    "help(dividenum)"
   ]
  },
  {
   "cell_type": "markdown",
   "id": "b98bd6eb",
   "metadata": {},
   "source": [
    "### **인수의 개수가 정해지지 않은 함수**\n",
    "- *args: 튜플로 인수를 받음\n",
    "- **kwargs: 딕셔너리로 인수를 받음\n",
    "\n",
    "##### ***args의 활용** "
   ]
  },
  {
   "cell_type": "code",
   "execution_count": 56,
   "id": "5c6478d8",
   "metadata": {},
   "outputs": [
    {
     "name": "stdout",
     "output_type": "stream",
     "text": [
      "num = (100, 10)\n",
      "quotient = 10.0, remainder = 0.0\n",
      "\n"
     ]
    }
   ],
   "source": [
    "# 계산을 위해 numpy 모듈 import\n",
    "import numpy as np\n",
    "\n",
    "# 함수명: dividenum2 \n",
    "# 미정 매개변수: num\n",
    "def dividenum2(*num):\n",
    "    \"\"\"dividenum2 함수는 a와 b를 나눈 몫과 나머지를 튜플로 반환하는 함수이다.\"\"\"\n",
    "\n",
    "    a, b = num\n",
    "\n",
    "    # num 값 출력\n",
    "    print(f'{num = }')\n",
    "\n",
    "    # numpy 모듈로 몫과 나머지 계산, 실수형으로 변환환\n",
    "    quotient = float(np.floor_divide(a, b))\n",
    "    remainder = float(np.remainder(a, b))\n",
    "\n",
    "    # 튜플로 반환\n",
    "    return quotient, remainder\n",
    "\n",
    "# 인수 적용하여 결과를 매개변수에 저장\n",
    "quotient, remainder = dividenum2(100, 10)\n",
    "\n",
    "# 매개변수 출력\n",
    "print(f'{quotient = }, {remainder = }\\n')"
   ]
  },
  {
   "cell_type": "code",
   "execution_count": null,
   "id": "7b902c4e",
   "metadata": {},
   "outputs": [
    {
     "name": "stdout",
     "output_type": "stream",
     "text": [
      "too many values to unpack (expected 2)\n"
     ]
    }
   ],
   "source": [
    "try:\n",
    "    # 인수 적용하여 결과를 매개변수에 저장\n",
    "    quotient, remainder = dividenum2(100, 2, 5, 1)\n",
    "\n",
    "    # 매개변수 출력\n",
    "    print(f'{quotient = }, {remainder = }\\n')\n",
    "\n",
    "except ValueError as e:\n",
    "    print(e)\n",
    "\n",
    "# 이 함수는 2개의 인자만 받음 (몫, 나머지 연산)"
   ]
  },
  {
   "cell_type": "code",
   "execution_count": null,
   "id": "5cb77f40",
   "metadata": {},
   "outputs": [],
   "source": [
    "# 연속 계산 가능한 함수 \n",
    "def dividenum3(*num):\n",
    "    \"\"\"2개 이상의 숫자를 순차적으로 나누며 몫과 나머지를 반환하는 함수\"\"\"\n",
    "    print(f'{num = }')\n",
    "\n",
    "    # 몫의 최종 결과\n",
    "    quotient = num[0]\n",
    "    for i in range(1, len(num)):\n",
    "        quotient = float(np.floor_divide(quotient, num[i])) # 실수형 반환\n",
    "    \n",
    "    # 첫 번째 나눗셈 기준\n",
    "    # 실수형 반환\n",
    "    remainder = float(np.remainder(num[0], num[1])) \n",
    "\n",
    "    return quotient, remainder\n"
   ]
  },
  {
   "cell_type": "code",
   "execution_count": 77,
   "id": "aae7f271",
   "metadata": {},
   "outputs": [
    {
     "name": "stdout",
     "output_type": "stream",
     "text": [
      "num = (100, 2, 5, 10)\n",
      "quotient = 1.0, remainder = 0.0\n"
     ]
    }
   ],
   "source": [
    "# 인수 100, 2, 5, 10에 대한 함수를 적용, 결과를 매개변수에 저장\n",
    "quotient, remainder = dividenum3(100, 2, 5 ,10)\n",
    "\n",
    "# 매개변수 출력\n",
    "print(f'{quotient = }, {remainder = }')"
   ]
  },
  {
   "cell_type": "markdown",
   "id": "9c72d354",
   "metadata": {},
   "source": [
    "#### ****kwags의 활용** "
   ]
  },
  {
   "cell_type": "code",
   "execution_count": null,
   "id": "c1f73926",
   "metadata": {},
   "outputs": [
    {
     "name": "stdout",
     "output_type": "stream",
     "text": [
      "a = 100, b = 10\n",
      "quotient = 10.0, remainder = 0.0\n",
      "\n"
     ]
    }
   ],
   "source": [
    "import numpy as np\n",
    "\n",
    "def dividenum(**kwargs):\n",
    "    \"\"\"a를 b로 나눈 몫과 나머지를 float형으로 반환하는 함수\"\"\"\n",
    "\n",
    "    # 딕셔너리로 받아서 a,b가 key:value로 묶여있음\n",
    "    # get()을 통해 값 꺼내주기\n",
    "    a = kwargs.get('a')\n",
    "    b = kwargs.get('b')\n",
    "    \n",
    "    # 매개변수 출력\n",
    "    print(f'{a = }, {b = }')\n",
    "\n",
    "    quotient = float(np.floor_divide(a, b))\n",
    "    remainder = float(np.remainder(a, b))\n",
    "    \n",
    "    # 매개변수 반환\n",
    "    return quotient, remainder\n",
    "\n",
    "\n",
    "# 인수 적용하여 결과를 매개변수에 저장\n",
    "quotient, remainder = dividenum(a=100, b=10) # 키워드로만 받음\n",
    "\n",
    "# 매개변수 출력\n",
    "print(f'{quotient = }, {remainder = }\\n')\n"
   ]
  },
  {
   "cell_type": "markdown",
   "id": "9097ecc0",
   "metadata": {},
   "source": [
    "## **지역변수와 전역변수**\n",
    "    \n",
    "#### **함수 내에서 전역변수의 사용**"
   ]
  },
  {
   "cell_type": "code",
   "execution_count": null,
   "id": "7e8c08b0",
   "metadata": {},
   "outputs": [
    {
     "name": "stdout",
     "output_type": "stream",
     "text": [
      "inside = '안에는 선언 안 하면 무조건 지역 변수'\n",
      "outside = '지역변수가 됨'\n",
      "name 'inside' is not defined\n",
      "outside = '전역 변수'\n"
     ]
    }
   ],
   "source": [
    "# outside는 전역변수\n",
    "outside = '전역 변수'\n",
    "\n",
    "# outsidefunc() 함수, inside는는 매개변수(지역 변수)\n",
    "def outsidefunc(inside):\n",
    "\n",
    "    # 전역변수와 지역변수를 출력\n",
    "    outside = '지역변수가 됨' \n",
    "    print(f'{inside = }')\n",
    "    print(f'{outside = }')\n",
    "    \n",
    "# useGlobalVariable 함수 호출\n",
    "outsidefunc('안에는 선언 안 하면 무조건 지역 변수')\n",
    "\n",
    "# 지역변수를 출력 -> 함수 외부에서 사용 불가\n",
    "try:\n",
    "    print(f'{inside = }')\n",
    "except NameError as e:\n",
    "    print(e)\n",
    "\n",
    "# 전역변수는 변하지 않음 \n",
    "print(f'{outside = }')"
   ]
  },
  {
   "cell_type": "markdown",
   "id": "0b379578",
   "metadata": {},
   "source": [
    "### **함수 내에서 전역변수 변경하는 방법**"
   ]
  },
  {
   "cell_type": "code",
   "execution_count": null,
   "id": "6c9477cf",
   "metadata": {},
   "outputs": [
    {
     "name": "stdout",
     "output_type": "stream",
     "text": [
      "var_global = '전역 변수가 아닌 지역변수임'\n",
      "var_local = '난 대표 지역변수?'\n",
      "outside = '전역 변수를 변경하고 싶어'\n"
     ]
    }
   ],
   "source": [
    "outside = '전역 변수를 변경하고 싶어'\n",
    "\n",
    "def outsidefunc(inside):\n",
    "\n",
    "    # 함수 내에서 var_global을 변경하면, 지역변수로 사용됨\n",
    "    # 전역함수 변경 불가.\n",
    "    outside = '난 전역변수랑 똑같이 생긴 지역변수임'\n",
    "    print(f'{outside = }')\n",
    "    print(f'{inside = }')\n",
    "\n",
    "# outsidefunc 함수 호출\n",
    "outsidefunc('난 대표 지역변수?')\n",
    "\n",
    "# 전역변수 값 변경 실패\n",
    "print(f'{outside = }')"
   ]
  },
  {
   "cell_type": "code",
   "execution_count": null,
   "id": "960815b8",
   "metadata": {},
   "outputs": [
    {
     "name": "stdout",
     "output_type": "stream",
     "text": [
      "outside = '전역변수 변경 시도'\n",
      "inside = '인자는 지역 변수'\n",
      "outside = '전역변수 변경 성공'\n"
     ]
    }
   ],
   "source": [
    "# 함수 내에서 전역변수를 변경하려면 전역변수 선언을 해야 됨\n",
    "# 선언 안 하면 지역변수로 취급.\n",
    "outside = '전역변수 변경 시도'\n",
    "\n",
    "def outsidefunc(inside):\n",
    "\n",
    "    # 전역변수 선언\n",
    "    global outside\n",
    "\n",
    "    # 전역변수와 지역변수 출력\n",
    "    print(f'{outside = }') # 전역변수로 출력됨됨\n",
    "    print(f'{inside = }')\n",
    "\n",
    "    # 이제 함수 내에서 전역변수라서 전역변수 값 변경 가능능\n",
    "    outside = '전역변수 변경 성공'\n",
    "\n",
    "# outsidefunc 함수 호출\n",
    "outsidefunc('인자는 지역 변수')\n",
    "\n",
    "# 전역변수 값이 변경돼서 출력됨됨\n",
    "print(f'{outside = }')\n"
   ]
  },
  {
   "cell_type": "code",
   "execution_count": 116,
   "id": "3d135bd1",
   "metadata": {},
   "outputs": [
    {
     "name": "stdout",
     "output_type": "stream",
     "text": [
      "비번은 6자리 이상으로 설정해야하므로 [000000]으로 임시비번을 지정\n",
      "비번은 [123456]\n"
     ]
    }
   ],
   "source": [
    "# 전역변수 선언해서 조건문으로 함수 정의하기\n",
    "out = '0000' # 문자열 값의 전역변수\n",
    "\n",
    "def passwordchange(inn):\n",
    "    global out # 전역변수 선언\n",
    "    if len(inn) < 6: # 입력받은 인자의 길이가 6 미만이면 전역변수 출력\n",
    "        inn = out\n",
    "        print(f'비번은 6자리 이상으로 설정해야하므로 [{out}00]으로 임시비번을 지정')\n",
    "    else: \n",
    "        print(f'비번은 [{inn}]') # 입력받은 인자 길이가 6 이상이면 지역변수 출력\n",
    "\n",
    "\n",
    "passwordchange('1234') # 길이가 6 미만이므로 전역변수 + 00 출력\n",
    "passwordchange('123456') # 길이가 6 이상이므로 지역변수 출력\n"
   ]
  },
  {
   "cell_type": "markdown",
   "id": "7e9f1ff2",
   "metadata": {},
   "source": [
    "## **람다함수**"
   ]
  },
  {
   "cell_type": "markdown",
   "id": "330e3b3d",
   "metadata": {},
   "source": [
    "- 일반 함수 정의 "
   ]
  },
  {
   "cell_type": "code",
   "execution_count": 119,
   "id": "4f1fb067",
   "metadata": {},
   "outputs": [
    {
     "data": {
      "text/plain": [
       "36"
      ]
     },
     "execution_count": 119,
     "metadata": {},
     "output_type": "execute_result"
    }
   ],
   "source": [
    "# -3을 중근으로 갖는 2차방정식의 함수정의\n",
    "def func2(x):\n",
    "    return x**2+x*6+9\n",
    "\n",
    "# 함수 호출\n",
    "func2(3)"
   ]
  },
  {
   "cell_type": "markdown",
   "id": "907dc1e9",
   "metadata": {},
   "source": [
    " - 함수명이 없는 람다함수 "
   ]
  },
  {
   "cell_type": "code",
   "execution_count": null,
   "id": "f6714c6e",
   "metadata": {},
   "outputs": [
    {
     "data": {
      "text/plain": [
       "36"
      ]
     },
     "execution_count": 118,
     "metadata": {},
     "output_type": "execute_result"
    }
   ],
   "source": [
    "# -3을 중근으로 갖는 2차방정식의 함수를 lambda로 정의\n",
    "lambda x: x**2+x*6+9\n",
    "\n",
    "# 함수명이 없어서 함수 호출 불가, 정의해서 바로 호출\n",
    "(lambda x: x**2+x*6+9)(3)"
   ]
  },
  {
   "cell_type": "markdown",
   "id": "2dd39dd7",
   "metadata": {},
   "source": [
    "- 함수명이 있는 람다함수 "
   ]
  },
  {
   "cell_type": "code",
   "execution_count": 117,
   "id": "7a233f12",
   "metadata": {},
   "outputs": [
    {
     "data": {
      "text/plain": [
       "36"
      ]
     },
     "execution_count": 117,
     "metadata": {},
     "output_type": "execute_result"
    }
   ],
   "source": [
    "# -3을 중근으로 갖는 2차방정식의 함수를 func2로 이름 지어줌\n",
    "func2 = lambda x: x**2+x*6+9\n",
    "\n",
    "# 함수 호출\n",
    "func2(3)"
   ]
  },
  {
   "cell_type": "markdown",
   "id": "7ae31159",
   "metadata": {},
   "source": [
    "#### **람다함수 응용**\n",
    "##### 람다함수에 외부 변수의 사용"
   ]
  },
  {
   "cell_type": "code",
   "execution_count": 124,
   "id": "9bb9c3f1",
   "metadata": {},
   "outputs": [
    {
     "name": "stdout",
     "output_type": "stream",
     "text": [
      "인사가 짧다?\n",
      "어 그래 안녕?\n"
     ]
    }
   ],
   "source": [
    "# 외부변수\n",
    "a = '안녕'\n",
    "\n",
    "# 외부변수를 참조하는 람다함수\n",
    "# 외부변수의 길이가 4 이하이면 실행, 4 이상이면 입력된 인자 호출\n",
    "(lambda b: print(f'인사가 짧다?') if len(a) < 4 else print(f'{b}'))('어 그래 안녕?')\n",
    "\n",
    "a = '안녕하세요'\n",
    "\n",
    "(lambda b: print(f'인사가 짧다?') if len(a) < 4 else print(f'{b}'))('어 그래 안녕?')"
   ]
  },
  {
   "cell_type": "markdown",
   "id": "d4950b21",
   "metadata": {},
   "source": [
    "##### 람다함수에 조건부 표현식 사용 "
   ]
  },
  {
   "cell_type": "code",
   "execution_count": 152,
   "id": "afb2f1bc",
   "metadata": {},
   "outputs": [
    {
     "name": "stdout",
     "output_type": "stream",
     "text": [
      "김민수는바보다716\n"
     ]
    }
   ],
   "source": [
    "# 비번에 들어 있는 문자를 입력하면 비번 출력하는 함수\n",
    "pw = '김민수는바보다716'\n",
    "(lambda a: print(pw) if a in pw else print('일치하는 문자가 없음'))('김민수')"
   ]
  },
  {
   "cell_type": "code",
   "execution_count": 154,
   "id": "03f2e372",
   "metadata": {},
   "outputs": [
    {
     "name": "stdout",
     "output_type": "stream",
     "text": [
      "일치하는 문자가 없음\n"
     ]
    }
   ],
   "source": [
    "(lambda a: print(pw) if a in pw else print('일치하는 문자가 없음'))('김만수')"
   ]
  },
  {
   "cell_type": "code",
   "execution_count": 175,
   "id": "c5c41db1",
   "metadata": {},
   "outputs": [
    {
     "data": {
      "text/plain": [
       "'바보'"
      ]
     },
     "execution_count": 175,
     "metadata": {},
     "output_type": "execute_result"
    }
   ],
   "source": [
    "# 리스트에 없는 문자를 입력하면 리스트에 추가\n",
    "# 입력한 문자가 2글자이면 입력한 문자 출력\n",
    "# 모두 아니면 리스트의 마지막 인덱스 문자 출력\n",
    "pwrc = ['김민수', '바보', '안녕', '바보야']\n",
    "(lambda a: pwrc.append(a) if a not in pwrc else a if len(a)==2 else pwrc[3])('바보')\n",
    "# 2글자 문자라서 입력한 인자 출력"
   ]
  },
  {
   "cell_type": "code",
   "execution_count": 176,
   "id": "bef2911a",
   "metadata": {},
   "outputs": [
    {
     "name": "stdout",
     "output_type": "stream",
     "text": [
      "['김민수', '바보', '안녕', '바보야', '나 바보아니다']\n"
     ]
    }
   ],
   "source": [
    "(lambda a: pwrc.append(a) if a not in pwrc else a if len(a)==2 else pwrc[3])('나 바보아니다')\n",
    "print(pwrc) # 리스트에 없는 문자 입력해서 리스트에 추가됨"
   ]
  },
  {
   "cell_type": "code",
   "execution_count": 178,
   "id": "2ffd14d4",
   "metadata": {},
   "outputs": [
    {
     "data": {
      "text/plain": [
       "'바보야'"
      ]
     },
     "execution_count": 178,
     "metadata": {},
     "output_type": "execute_result"
    }
   ],
   "source": [
    "(lambda a: pwrc.append(a) if a not in pwrc else a if len(a)==2 else pwrc[3])('김민수는')\n",
    "# 모두 해당하지 않는 문자라서 리스트 마지막 문자 출력"
   ]
  },
  {
   "cell_type": "markdown",
   "id": "d4fc3faf",
   "metadata": {},
   "source": [
    "##### 람다함수에 인자 여러개 넣기 "
   ]
  },
  {
   "cell_type": "code",
   "execution_count": 139,
   "id": "d1996454",
   "metadata": {},
   "outputs": [
    {
     "data": {
      "text/plain": [
       "5"
      ]
     },
     "execution_count": 139,
     "metadata": {},
     "output_type": "execute_result"
    }
   ],
   "source": [
    "# a가 가장 큰 수면 a에서 b+c를, \n",
    "# 그게 아니면 b+c에서 a를 빼는 람다함수\n",
    "(lambda a,b,c: a-(b+c) if max(a,b,c) == a else (b+c)-a)(10,2,3) "
   ]
  },
  {
   "cell_type": "code",
   "execution_count": 142,
   "id": "b00fd870",
   "metadata": {},
   "outputs": [
    {
     "data": {
      "text/plain": [
       "1"
      ]
     },
     "execution_count": 142,
     "metadata": {},
     "output_type": "execute_result"
    }
   ],
   "source": [
    "# 인자가 5개인 조건부 단순 계산식\n",
    "(lambda a,b,c,d,e: int(a*b/c/d/e) if a > (b+c+d+e) else a*b*c/d/e)(100,1,10,5,2)"
   ]
  },
  {
   "cell_type": "markdown",
   "id": "0efeb76b",
   "metadata": {},
   "source": [
    "#### **람다함수의 활용**\n",
    "\n",
    "##### map 함수에 적용"
   ]
  },
  {
   "cell_type": "code",
   "execution_count": 170,
   "id": "6332d6f0",
   "metadata": {},
   "outputs": [
    {
     "data": {
      "text/plain": [
       "(<function __main__.<lambda>(x)>, [0, 3, 6, 9, 12])"
      ]
     },
     "execution_count": 170,
     "metadata": {},
     "output_type": "execute_result"
    }
   ],
   "source": [
    "# map()사용하지 않으면 함수 모습 그대로 출력  \n",
    "lambda x: (x-6)**2, [0,3,6,9,12]"
   ]
  },
  {
   "cell_type": "code",
   "execution_count": null,
   "id": "ef281671",
   "metadata": {},
   "outputs": [
    {
     "data": {
      "text/plain": [
       "(36, 9, 0, 9, 36)"
      ]
     },
     "execution_count": 171,
     "metadata": {},
     "output_type": "execute_result"
    }
   ],
   "source": [
    "# map()사용해서 []안의 숫자를 x에 할당해 값을 반환하는 람다함수 호출, 튜플로 변환 \n",
    "tuple(map(lambda x: (x-6)**2, [0,3,6,9,12]))"
   ]
  },
  {
   "cell_type": "code",
   "execution_count": null,
   "id": "6a973caa",
   "metadata": {},
   "outputs": [
    {
     "data": {
      "text/plain": [
       "('1는(은) 근이 아님',\n",
       " '2는(은) 근이 아님',\n",
       " '근 발견!',\n",
       " '4는(은) 근이 아님',\n",
       " '5는(은) 근이 아님',\n",
       " '6는(은) 근이 아님',\n",
       " '근 발견!',\n",
       " '8는(은) 근이 아님',\n",
       " '9는(은) 근이 아님')"
      ]
     },
     "execution_count": 174,
     "metadata": {},
     "output_type": "execute_result"
    }
   ],
   "source": [
    "# []안의 숫자 말고 range()로 범위 지정해서 map()으로 호출 가능, 튜플로 변환환\n",
    "equation2 = lambda x: f'근 발견!' if x**2-10*x+21==0 else f'{x}는(은) 근이 아님'\n",
    "tuple(map(equation2, range(1,10))) "
   ]
  },
  {
   "cell_type": "code",
   "execution_count": null,
   "id": "c6e264c9",
   "metadata": {},
   "outputs": [
    {
     "data": {
      "text/plain": [
       "('x축 위의 5!',\n",
       " '근 발견!',\n",
       " 'x축 아래의 -3',\n",
       " 'x축 아래의 -4',\n",
       " 'x축 아래의 -3',\n",
       " '근 발견!',\n",
       " 'x축 위의 5!')"
      ]
     },
     "execution_count": 179,
     "metadata": {},
     "output_type": "execute_result"
    }
   ],
   "source": [
    "# []안의 숫자 말고 range()로 범위 지정해서 map()으로 호출 가능\n",
    "# 2차 방정식 값 반환하는 함수 정의\n",
    "# 근이면 '근 발견!'\n",
    "# 근이 아니고 양수인 값이면 'x축 위의 {값}!'\n",
    "# 모두 해당하지 않으면 'x축 아래의 {값}!'\n",
    "def eq(x):\n",
    "    return x**2-6*x+5 \n",
    "equation2 = lambda a: f'근 발견!' if eq(a)==0 else f'x축 위의 {eq(a)}!' if eq(a)>0 else f'x축 아래의 {eq(a)}'\n",
    "tuple(map(equation2, range(0,7)))"
   ]
  },
  {
   "cell_type": "code",
   "execution_count": 185,
   "id": "49b898ca",
   "metadata": {},
   "outputs": [
    {
     "data": {
      "text/plain": [
       "(5, '근~!', 2, 1, 2, '근~!', 5)"
      ]
     },
     "execution_count": 185,
     "metadata": {},
     "output_type": "execute_result"
    }
   ],
   "source": [
    "# 함숫값이 0보다 크면 함수값 그대로 출력\n",
    "# 함숫값이 0보다 작으면 +5\n",
    "# 함숫값이 0이면 '근~!' 출력하는 함수 정의\n",
    "transequation2 = lambda x, y: eq(x) if eq(x)>0 else eq(x)+y if eq(x)<0 else '근~!' if eq(x)==0 else None\n",
    "tuple(map(transequation2, range(0,7), [5]*7))"
   ]
  }
 ],
 "metadata": {
  "kernelspec": {
   "display_name": "base",
   "language": "python",
   "name": "python3"
  },
  "language_info": {
   "codemirror_mode": {
    "name": "ipython",
    "version": 3
   },
   "file_extension": ".py",
   "mimetype": "text/x-python",
   "name": "python",
   "nbconvert_exporter": "python",
   "pygments_lexer": "ipython3",
   "version": "3.12.9"
  }
 },
 "nbformat": 4,
 "nbformat_minor": 5
}
