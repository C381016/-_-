{
 "cells": [
  {
   "cell_type": "markdown",
   "metadata": {},
   "source": [
    "# C381016 김민수 "
   ]
  },
  {
   "cell_type": "markdown",
   "metadata": {},
   "source": [
    "# Iterable 자료형\n",
    "- Iterable 자료형은 객체 내 원소를 순차적으로 가지고 올 수 있는 자료형을 의미\n",
    "    - 리스트, 튜플, 문자열, 딕셔너리, range, set\n",
    "    - 문자열은 문자의 시퀀스이므로 iterable 자료형임\n",
    "\n",
    "\n",
    "# 인덱싱과 슬라이싱\n",
    "### 인덱싱(Indexing)\n",
    "- iterable한 객체에서 인덱스를 지정하여 원소의 값을 추출하는 것\n",
    "    - Python에서 인덱스는 0부터 시작하여 1씩 증가\n",
    "    - 마지막 원소의 인덱스를 -1로 하여 역순으로도 접근 가능\n",
    "    - iterable 객체의 길이를 넘어가는 인덱스를 사용하면 IndexError 발생"
   ]
  },
  {
   "cell_type": "code",
   "execution_count": 1,
   "metadata": {},
   "outputs": [
    {
     "name": "stdout",
     "output_type": "stream",
     "text": [
      "0\n",
      "1\n",
      "2\n",
      "3\n",
      "4\n"
     ]
    }
   ],
   "source": [
    "x_list = [0, 1, 2, 3, 4]\n",
    "\n",
    "# 각 요소를 인덱싱\n",
    "print(x_list[0])\n",
    "print(x_list[1])\n",
    "print(x_list[2])\n",
    "print(x_list[3])\n",
    "print(x_list[4])"
   ]
  },
  {
   "cell_type": "code",
   "execution_count": 2,
   "metadata": {},
   "outputs": [
    {
     "name": "stdout",
     "output_type": "stream",
     "text": [
      "4\n",
      "3\n",
      "2\n",
      "1\n",
      "0\n"
     ]
    }
   ],
   "source": [
    "x_list = [0, 1, 2, 3, 4]\n",
    "\n",
    "# 각 요소를 -인덱싱\n",
    "print(x_list[-1])\n",
    "print(x_list[-2])\n",
    "print(x_list[-3])\n",
    "print(x_list[-4])\n",
    "print(x_list[-5])"
   ]
  },
  {
   "cell_type": "code",
   "execution_count": 3,
   "metadata": {},
   "outputs": [
    {
     "name": "stdout",
     "output_type": "stream",
     "text": [
      "list index out of range\n"
     ]
    }
   ],
   "source": [
    "# 인덱스 범위를 벗어난 요소에 접근하면 에러가 발생\n",
    "try:\n",
    "    print(x_list[5])\n",
    "except IndexError as e:\n",
    "    print(e)"
   ]
  },
  {
   "cell_type": "markdown",
   "metadata": {},
   "source": [
    "- 리스트와 튜플의 인덱싱"
   ]
  },
  {
   "cell_type": "code",
   "execution_count": 4,
   "metadata": {},
   "outputs": [
    {
     "name": "stdout",
     "output_type": "stream",
     "text": [
      "x_list = [1, 2, 3, 4, 5] \t x_list[0] = 1\n",
      "x_tuple = (1, 2, 3, 4, 5) \t x_tuple[-1] = 5\n"
     ]
    }
   ],
   "source": [
    "x_list = [1, 2, 3, 4, 5]  # list\n",
    "x_tuple = (1, 2, 3, 4, 5)  # tuple\n",
    "\n",
    "# x_list의 0번째 원소 출력\n",
    "print(f'{x_list = } \\t {x_list[0] = }')\n",
    "\n",
    "# x_tuple의 마지막 원소 출력, -1은 마지막 원소의 인덱스\n",
    "print(f'{x_tuple = } \\t {x_tuple[-1] = }')"
   ]
  },
  {
   "cell_type": "markdown",
   "metadata": {},
   "source": [
    "- 딕셔너리의 인덱싱"
   ]
  },
  {
   "cell_type": "code",
   "execution_count": 5,
   "metadata": {},
   "outputs": [
    {
     "name": "stdout",
     "output_type": "stream",
     "text": [
      "x_dict = {'name': ['김민수', '김홍익'], 'id': [12345, 67890]} \t x_dict['name'][0] = '김민수'\n"
     ]
    }
   ],
   "source": [
    "# key와 value로 이루어진 dictionary\n",
    "x_dict = {'name':['김민수','김홍익'], 'id':[12345, 67890]}\n",
    "\n",
    "# key를 이용하여 value에 접근\n",
    "print(f'{x_dict = } \\t {x_dict['name'][0] = }')"
   ]
  },
  {
   "cell_type": "markdown",
   "metadata": {},
   "source": [
    "- 문자열의 인덱싱"
   ]
  },
  {
   "cell_type": "code",
   "execution_count": 6,
   "metadata": {},
   "outputs": [
    {
     "name": "stdout",
     "output_type": "stream",
     "text": [
      "x_str = 'Hello World' \t\t x_str[0] = 'H'\n",
      "x_str = 'Hello World' \t\t x_str[3] = 'l'\n"
     ]
    }
   ],
   "source": [
    "x_str = 'Hello World'\n",
    "\n",
    "# x_str의 0번째 원소 출력\n",
    "print(f'{x_str = } \\t\\t {x_str[0] = }')\n",
    "\n",
    "# x_str의 3번째 원소 출력\n",
    "print(f'{x_str = } \\t\\t {x_str[3] = }')"
   ]
  },
  {
   "cell_type": "markdown",
   "metadata": {},
   "source": [
    "#### 슬라이싱(Slicing)\n",
    "- iterable한 객체에서 인덱스의 범위를 :로 지정하여 데이터 구간을 추출하는 것\n",
    "    - i:j : 인덱스 i에서 (j-1)까지\n",
    "    - i: : 인덱스 i에서 마지막까지\n",
    "    - :j : 처음부터 (j-1)까지\n",
    "    - : : 처음부터 끝까지"
   ]
  },
  {
   "cell_type": "code",
   "execution_count": 7,
   "metadata": {},
   "outputs": [
    {
     "name": "stdout",
     "output_type": "stream",
     "text": [
      "[1, 2]\n",
      "[1, 2, 3, 4]\n",
      "[0, 1, 2]\n",
      "[0, 1, 2, 3, 4]\n"
     ]
    }
   ],
   "source": [
    "x_list = [0, 1, 2, 3, 4]\n",
    "\n",
    "#데이터의 일부를 슬라이싱\n",
    "print(x_list[1:3])  # 인덱스 1부터 3 전까지\n",
    "print(x_list[1:])   # 인덱스 1부터 끝까지\n",
    "print(x_list[:3])   # 인덱스 처음부터 3 전까지\n",
    "print(x_list[:])    # 인덱스 처음부터 끝까지"
   ]
  },
  {
   "cell_type": "code",
   "execution_count": 8,
   "metadata": {},
   "outputs": [
    {
     "name": "stdout",
     "output_type": "stream",
     "text": [
      "[1, 2, 3, 4]\n"
     ]
    }
   ],
   "source": [
    "# 슬리이싱은 인덱스 범위를 벗어난 요소에 접근해도 에러가 발생하지 않음\n",
    "try:\n",
    "    print(x_list[1:10])\n",
    "except IndexError as e:\n",
    "    print(e)"
   ]
  },
  {
   "cell_type": "markdown",
   "metadata": {},
   "source": [
    "- 리스트와 튜플의 슬라이싱"
   ]
  },
  {
   "cell_type": "code",
   "execution_count": 9,
   "metadata": {},
   "outputs": [
    {
     "name": "stdout",
     "output_type": "stream",
     "text": [
      "x_list = [1, 2, 3, 4, 5] \tx_list[0:3] = [1, 2, 3]\n",
      "x_tuple = (1, 2, 3, 4, 5) \tx_tuple[-1:-4:-1] = (5, 4, 3)\n"
     ]
    }
   ],
   "source": [
    "x_list = [1, 2, 3, 4, 5] # list\n",
    "x_tuple = (1, 2, 3, 4, 5) # tuple\n",
    "\n",
    "# x_list의 0번째부터 3번째 전까지 원소 출력\n",
    "print(f'{x_list = } \\t{x_list[0:3] = }')\n",
    "\n",
    "# x_tuple의 뒤에서 1번째부터 4번째 전까지 출력\n",
    "print(f'{x_tuple = } \\t{x_tuple[-1:-4:-1] = }')"
   ]
  },
  {
   "cell_type": "markdown",
   "metadata": {},
   "source": [
    "- 딕셔너리의 슬라이싱"
   ]
  },
  {
   "cell_type": "code",
   "execution_count": 10,
   "metadata": {},
   "outputs": [
    {
     "name": "stdout",
     "output_type": "stream",
     "text": [
      "x_dict = {'name': ['김홍익', '이파이'], 'id': [12345, 67890]} \tx_dict[\"name\"][0:1] = ['김홍익']\n"
     ]
    }
   ],
   "source": [
    "# key와 value로 이루어진 dictionary\n",
    "x_dict = {'name': ['김홍익', '이파이'], 'id':[12345, 67890]}\n",
    "\n",
    "# key를 이용하여 value에 접근\n",
    "print(f'{x_dict = } \\t{x_dict[\"name\"][0:1] = }')"
   ]
  },
  {
   "cell_type": "markdown",
   "metadata": {},
   "source": [
    "- 문자열의 슬라이싱"
   ]
  },
  {
   "cell_type": "code",
   "execution_count": 1,
   "metadata": {},
   "outputs": [
    {
     "name": "stdout",
     "output_type": "stream",
     "text": [
      "x_str = 'Hello, world!' \t\tx_str = 'Hello, world!' \t\tx_str[0:3] = 'Hel'\n",
      "x_str = 'Hello, world!' \t\tx_str[-2:-10:-2] = 'drw,'\n"
     ]
    }
   ],
   "source": [
    "x_str = 'Hello, world!'\n",
    "\n",
    "# x_str의 0번째 원소에서 3번째 전의 원소까지 출력\n",
    "print(f'{x_str = } \\t\\t{x_str = } \\t\\t{x_str[0:3] = }')\n",
    "\n",
    "# x_str의 뒤에서 2번째 원소에서 10번째 전의 원소까지 2칸씩 뛰며 출력\n",
    "print(f'{x_str = } \\t\\t{x_str[-2:-10:-2] = }')"
   ]
  },
  {
   "cell_type": "markdown",
   "metadata": {},
   "source": [
    "### 얕은 복사와 깊은 복사\n",
    "##### 얕은 복사(shallow copy)\n",
    " - 객체를 복사할 때, 원본 객체의 주소만 복사하는 것\n",
    " - 즉, 원본 객체와 복사본 객체가 같은 주소를 참조하게 됨\n",
    "\n",
    "##### 깊은 복사(depp copy)\n",
    " - 객체를 복사할 때, 원본 객체의 주소가 아닌 새로운 주소에 값을 복사하는 것\n",
    " - 즉, 원본 객체와 복사본 객체가 다른 주소를 참조하게 됨됨"
   ]
  },
  {
   "cell_type": "markdown",
   "metadata": {},
   "source": [
    "##### immutable 객체의 assignment 예시"
   ]
  },
  {
   "cell_type": "code",
   "execution_count": 12,
   "metadata": {},
   "outputs": [
    {
     "name": "stdout",
     "output_type": "stream",
     "text": [
      "x = (1, 2, 3) \tid(x) = 1625622573056\n",
      "y = (1, 2, 3) \tid(y) = 1625622573056\n"
     ]
    }
   ],
   "source": [
    "x = (1, 2, 3)\n",
    "\n",
    "# y에 x를 assign\n",
    "y = x\n",
    "\n",
    "# x와 y의 id(메모리 주소)가 같음\n",
    "print(f'{x = } \\t{id(x) = }')\n",
    "print(f'{y = } \\t{id(y) = }')"
   ]
  },
  {
   "cell_type": "code",
   "execution_count": 13,
   "metadata": {},
   "outputs": [
    {
     "name": "stdout",
     "output_type": "stream",
     "text": [
      "x = (1, 2, 3) \tid(x) =1625622573056\n",
      "y = (1, 20, 3) \tid(y) =1625622670080\n"
     ]
    }
   ],
   "source": [
    "# y의 값을 변경 <- immutable은 원소 변경이 불가능\n",
    "y = (1, 20, 3)\n",
    "\n",
    "# y의 값을 변경하면 새로운 메모리 주소에 할당됨\n",
    "print(f'{x = } \\t{id(x) =}')\n",
    "print(f'{y = } \\t{id(y) =}')"
   ]
  },
  {
   "cell_type": "markdown",
   "metadata": {},
   "source": [
    "##### mutable 객체의 얕은 복사 예시 \n",
    "- 얕은 복사로 인해 함수변경시 함수 정의된 커널부터 재실행해야되는 어려움도 발생"
   ]
  },
  {
   "cell_type": "code",
   "execution_count": 14,
   "metadata": {},
   "outputs": [
    {
     "name": "stdout",
     "output_type": "stream",
     "text": [
      "x = [1, 2, 3] \tid(x) = 1625622659136\n",
      "y = [1, 2, 3] \tid(y) = 1625622659136\n"
     ]
    }
   ],
   "source": [
    "x = [1, 2, 3]\n",
    "\n",
    "# y에 x를 복사\n",
    "y = x\n",
    "\n",
    "# x와 y의 id(메모리 주소)가 같음\n",
    "print(f'{x = } \\t{id(x) = }')\n",
    "print(f'{y = } \\t{id(y) = }')"
   ]
  },
  {
   "cell_type": "code",
   "execution_count": 15,
   "metadata": {},
   "outputs": [
    {
     "name": "stdout",
     "output_type": "stream",
     "text": [
      "x = [1, 20, 3] \tid(x) =1625622659136\n",
      "y = [1, 20, 3] \tid(y) =1625622659136\n"
     ]
    }
   ],
   "source": [
    "# y의 값을 변경\n",
    "y[1] = 20\n",
    "\n",
    "# y의 값을 변경하면 x의 값도 같이 변경됨\n",
    "print(f'{x = } \\t{id(x) =}')\n",
    "print(f'{y = } \\t{id(y) =}')"
   ]
  },
  {
   "cell_type": "markdown",
   "metadata": {},
   "source": [
    "##### mutable 객체의 깊은 복사 예시"
   ]
  },
  {
   "cell_type": "code",
   "execution_count": 16,
   "metadata": {},
   "outputs": [
    {
     "name": "stdout",
     "output_type": "stream",
     "text": [
      "x = [1, 2, 3] \tid(x) = 1625622776768\n",
      "y = [1, 2, 3] \tid(y) = 1625622786944\n"
     ]
    }
   ],
   "source": [
    "x = [1, 2, 3]\n",
    "\n",
    "# y에 x를 복사\n",
    "y = x.copy()\n",
    "\n",
    "# x와 y의 id(메모리 주소)가 다름\n",
    "print(f'{x = } \\t{id(x) = }')\n",
    "print(f'{y = } \\t{id(y) = }')"
   ]
  },
  {
   "cell_type": "code",
   "execution_count": 17,
   "metadata": {},
   "outputs": [
    {
     "name": "stdout",
     "output_type": "stream",
     "text": [
      "x = [1, 2, 3] \tid(x) =1625622776768\n",
      "y = [1, 20, 3] \tid(y) =1625622786944\n"
     ]
    }
   ],
   "source": [
    "# y의 값을 변경\n",
    "y[1] = 20\n",
    "\n",
    "# y의 값을 변경하여도 x의 값은 같이 변경되지 않음\n",
    "print(f'{x = } \\t{id(x) =}')\n",
    "print(f'{y = } \\t{id(y) =}')"
   ]
  },
  {
   "cell_type": "markdown",
   "metadata": {},
   "source": [
    "\n",
    "### 리스트와 튜플\n",
    " - 리스트(List): 다양한 타입의 데이터 목록\n",
    " - 튜플(Tuple): 다양한 타입의 데이터 목록, 리스트와 유사하나 원소의 변경이 불가\n",
    "\n",
    "##### 기본 사용법"
   ]
  },
  {
   "cell_type": "code",
   "execution_count": 18,
   "metadata": {},
   "outputs": [
    {
     "name": "stdout",
     "output_type": "stream",
     "text": [
      "x_list는 <class 'list'>이고, x_tuple은 <class 'tuple'>이다.\n"
     ]
    }
   ],
   "source": [
    "x_list = [1, 2, 3, 4, 5]\n",
    "x_tuple = (1, 2, 3, 4, 5)\n",
    "\n",
    "print(f'x_list는 {type(x_list)}이고, x_tuple은 {type(x_tuple)}이다.')"
   ]
  },
  {
   "cell_type": "code",
   "execution_count": 19,
   "metadata": {},
   "outputs": [
    {
     "name": "stdout",
     "output_type": "stream",
     "text": [
      "Before: x_list = [1, 2, 3, 4, 5]\n",
      "After : x_list = [1, '2', 3, 5]\n"
     ]
    }
   ],
   "source": [
    "# 원소 변경 전 x_list의 값을 출력\n",
    "print(f'Before: {x_list = }')\n",
    "\n",
    "try:\n",
    "    # 인덱스 1 원소를 '2'로 변경\n",
    "    x_list[1] = '2'\n",
    "    # 인덱스 3 원소를 삭제\n",
    "    del x_list[3]\n",
    "except TypeError as e:\n",
    "    print(f'Error : {e}')\n",
    "\n",
    "# 원소 변경 후 x_list의 값을 출력 -> 처리됨\n",
    "print(f'After : {x_list = }')"
   ]
  },
  {
   "cell_type": "code",
   "execution_count": 20,
   "metadata": {},
   "outputs": [
    {
     "name": "stdout",
     "output_type": "stream",
     "text": [
      "Before: x_tuple = (1, 2, 3, 4, 5)\n",
      "Error: 'tuple' object does not support item assignment\n",
      "Error: 'tuple' object doesn't support item deletion\n",
      "After : x_tuple = (1, 2, 3, 4, 5)\n"
     ]
    }
   ],
   "source": [
    "# 원소 변경 전 x_tuple의 값을 출력\n",
    "print(f'Before: {x_tuple = }')\n",
    "\n",
    "try: \n",
    "    # 인덱스 1 원소를 '2'로 변경\n",
    "    x_tuple[1] = '2'\n",
    "except TypeError as e:\n",
    "    print(f'Error: {e}')\n",
    "\n",
    "try:\n",
    "    # 인덱스 3 원소를 삭제\n",
    "    del x_tuple[3]\n",
    "except TypeError as e:\n",
    "    print(f'Error: {e}')\n",
    "\n",
    "# 원소 변경 후 x_tuple의 값을 출력 -> 에러 발생으로 인해 처리되지 않음\n",
    "print(f'After : {x_tuple = }')"
   ]
  },
  {
   "cell_type": "markdown",
   "metadata": {},
   "source": [
    "#### 내장함수를 이용한 리스트와 튜플 다루기\n",
    "  - len(): 리스트와 튜플의 길이를 구하는 함수\n",
    "  - sum(): 리스트와 튜플의 원소들의 합을 구하는 함수\n",
    "  - max(): 리스트와 튜플의 원소들 중 최댓값을 구하는 함수\n",
    "  - sort(): 리스트와 튜플의 원소들을 정렬하는 함수\n",
    "  - all(): 리스트와 튜플의 원소들이 모두 참인지 확인하는 함수\n",
    "  - any(): 리스트와 튜플의 원소들 중 하나라도 참인지 확인하는 함수"
   ]
  },
  {
   "cell_type": "code",
   "execution_count": 21,
   "metadata": {},
   "outputs": [
    {
     "name": "stdout",
     "output_type": "stream",
     "text": [
      "len(x_list) = 5\n",
      "sum(x_list) = 10\n",
      "min(x_list) = 0\n",
      "max(x_list) = 4\n",
      "sorted(x_list) = [0, 1, 2, 3, 4]\n",
      "sorted(x_list, reverse=True) = [4, 3, 2, 1, 0]\n",
      "all(x_list) = False\n",
      "any(x_list) = True\n"
     ]
    }
   ],
   "source": [
    "x_list = [0, 1, 2, 3, 4]\n",
    "\n",
    "# x_list의 길이(원소의 개수) 출력\n",
    "print(f'{len(x_list) = }')\n",
    "\n",
    "# x_list의 원소들의 합 출력\n",
    "print(f'{sum(x_list) = }')\n",
    "\n",
    "# x_list의 원소들 중 최솟값 출력\n",
    "print(f'{min(x_list) = }')\n",
    "\n",
    "# x_list의 원소들 중 최댓값 출력\n",
    "print(f'{max(x_list) = }')\n",
    "\n",
    "# x_list의 원소들을 오름차순으로 정렬하여 출력\n",
    "print(f'{sorted(x_list) = }')\n",
    "\n",
    "# x_list의 원소들을 내림림차순으로 정렬하여 출력\n",
    "print(f'{sorted(x_list, reverse=True) = }')\n",
    "\n",
    "# x_list의 모든 원소가 참이면(0이 아니면) True, 아니면 False 출력\n",
    "print(f'{all(x_list) = }')\n",
    "\n",
    "# x_list의 모든 원소 중중 하나라도 참이면(0이 아니면) True, 아니면 False 출력\n",
    "print(f'{any(x_list) = }')"
   ]
  },
  {
   "cell_type": "markdown",
   "metadata": {},
   "source": [
    "#### 객체 메서드를 이용한 리스트와 튜플 다루기\n",
    "  - 리스트와 튜플은 객체이므로 객체의 메서드를 사용할 수 있음\n",
    "     - 리스트는 'append', 'clear', 'copy', 'count', 'extend', 'index', 'insert', 'pop', 'remove', 'reverse', 'sort' 등\n",
    "     - 튜플은 'count', 'index'등"
   ]
  },
  {
   "cell_type": "code",
   "execution_count": 22,
   "metadata": {},
   "outputs": [
    {
     "name": "stdout",
     "output_type": "stream",
     "text": [
      "['__add__', '__class__', '__class_getitem__', '__contains__', '__delattr__', '__delitem__', '__dir__', '__doc__', '__eq__', '__format__', '__ge__', '__getattribute__', '__getitem__', '__getstate__', '__gt__', '__hash__', '__iadd__', '__imul__', '__init__', '__init_subclass__', '__iter__', '__le__', '__len__', '__lt__', '__mul__', '__ne__', '__new__', '__reduce__', '__reduce_ex__', '__repr__', '__reversed__', '__rmul__', '__setattr__', '__setitem__', '__sizeof__', '__str__', '__subclasshook__', 'append', 'clear', 'copy', 'count', 'extend', 'index', 'insert', 'pop', 'remove', 'reverse', 'sort']\n",
      "--------------------------------------------------------------------------------\n",
      "['__add__', '__class__', '__class_getitem__', '__contains__', '__delattr__', '__dir__', '__doc__', '__eq__', '__format__', '__ge__', '__getattribute__', '__getitem__', '__getnewargs__', '__getstate__', '__gt__', '__hash__', '__init__', '__init_subclass__', '__iter__', '__le__', '__len__', '__lt__', '__mul__', '__ne__', '__new__', '__reduce__', '__reduce_ex__', '__repr__', '__rmul__', '__setattr__', '__sizeof__', '__str__', '__subclasshook__', 'count', 'index']\n"
     ]
    }
   ],
   "source": [
    "# x_list의 메서드를 확인\n",
    "print(dir(x_list), end='\\n'+'-'*80+'\\n')\n",
    "\n",
    "# x_tuple의 메서드를 확인 -> x_list보다 적은 메소드를 가지고 있음\n",
    "print(dir(x_tuple))"
   ]
  },
  {
   "cell_type": "markdown",
   "metadata": {},
   "source": [
    "##### 각 메서드의 기능\n",
    " - append(): 리스트의 맨 뒤에 원소를 추가\n",
    " - clear(): 리스트의 모든 원소를 삭제. 리스트는 존재. 빈 리스트가 됨\n",
    " - copy(): 리스트의 복사, 주소값이 아닌 값 자체를 복사\n",
    " - count(): 리스트(튜플)에서 특정 원소의 개수를 반환\n",
    " - extend(): 리스트를 확장. 리스트를 연결\n",
    " - index(): 리스트(튜플)에서 특정 원소의 인덱스를 반환\n",
    " - insert(): 리스트의 특정 위치에 원소를 삽입\n",
    " - pop(): 리스트의 특정 위치에 있는 원소를 삭제\n",
    " - remove(): 리스트에서 특정 원소를 찾아서 삭제\n",
    " - reverse(): 리스트의 원소를 역순으로 정렬\n",
    " - sort(): 리스트의 원소를 정렬"
   ]
  },
  {
   "cell_type": "code",
   "execution_count": 23,
   "metadata": {},
   "outputs": [
    {
     "name": "stdout",
     "output_type": "stream",
     "text": [
      "x_list = [1, 2, 3, 4, 5, 2, 3, 2]\n",
      "x_list.count(2) = 3\n",
      "x_list.index(2) = 1\n"
     ]
    }
   ],
   "source": [
    "x_list = [1, 2, 3, 4, 5, 2, 3, 2]\n",
    "print(f'{x_list = }')\n",
    "\n",
    "# x_list에서 2의 개수를 출력\n",
    "print(f'{x_list.count(2) = }')\n",
    "\n",
    "# x_list에서 2의 첫번째 인덱스를 출력\n",
    "print(f'{x_list.index(2) = }')"
   ]
  },
  {
   "cell_type": "code",
   "execution_count": 24,
   "metadata": {},
   "outputs": [
    {
     "name": "stdout",
     "output_type": "stream",
     "text": [
      "y_list = [1, 2, 3, 4, 5, 2, 3, 2]\n",
      "x_list is y_list = False\n",
      "id(x_list) = 1625622712640, id(y_list) = 1625622630528\n"
     ]
    }
   ],
   "source": [
    "# x_list를 복사하여 y_list에 할당\n",
    "y_list = x_list.copy()\n",
    "\n",
    "# y_list의 값을 출력\n",
    "print(f'{y_list = }')\n",
    "\n",
    "# x_list와 y_list가 같은 객체(주소)인지 확인\n",
    "print(f'{x_list is y_list = }')\n",
    "\n",
    "# x_list의 주소를 출력\n",
    "print(f'{id(x_list) = }, {id(y_list) = }')"
   ]
  },
  {
   "cell_type": "code",
   "execution_count": 25,
   "metadata": {},
   "outputs": [
    {
     "name": "stdout",
     "output_type": "stream",
     "text": [
      "x_list = [2, 3, 2, 5, 4, 3, 2, 1]\n"
     ]
    }
   ],
   "source": [
    "# x_list를 역순으로 변경\n",
    "x_list.reverse()\n",
    "print(f'{x_list = }')"
   ]
  },
  {
   "cell_type": "code",
   "execution_count": 26,
   "metadata": {},
   "outputs": [
    {
     "name": "stdout",
     "output_type": "stream",
     "text": [
      "x_list = [1, 2, 2, 2, 3, 3, 4, 5]\n"
     ]
    }
   ],
   "source": [
    "# x_list를 오름차순으로 변경\n",
    "x_list.sort()\n",
    "print(f'{x_list = }')"
   ]
  },
  {
   "cell_type": "code",
   "execution_count": 27,
   "metadata": {},
   "outputs": [
    {
     "name": "stdout",
     "output_type": "stream",
     "text": [
      "x_list = [1, 2, 2, 2, 3, 3, 4, 5, 6]\n"
     ]
    }
   ],
   "source": [
    "# x_list의 append 메소드를 이용하여 6을 추가\n",
    "x_list.append(6)\n",
    "print(f'{x_list = }')"
   ]
  },
  {
   "cell_type": "code",
   "execution_count": 28,
   "metadata": {},
   "outputs": [
    {
     "name": "stdout",
     "output_type": "stream",
     "text": [
      "x_list = [1, 2, 2, 2, 3, 3, 4, 5, 6, 7, 8, 9]\n"
     ]
    }
   ],
   "source": [
    "# x_list의 extend 메소드를 이용하여 [7, 8, 9]를 연결\n",
    "x_list.extend([7, 8, 9])\n",
    "print(f'{x_list = }')"
   ]
  },
  {
   "cell_type": "code",
   "execution_count": 29,
   "metadata": {},
   "outputs": [
    {
     "name": "stdout",
     "output_type": "stream",
     "text": [
      "x_list = [1, 2, 2, 2, 3, 3, 4, 5, 6, 7, 8, 9, [10, 11, 12]]\n"
     ]
    }
   ],
   "source": [
    "# x_list의 append 메소드를 이용하여 [10, 11, 12]를 추가\n",
    "x_list.append([10, 11, 12])\n",
    "print(f'{x_list = }')"
   ]
  },
  {
   "cell_type": "code",
   "execution_count": 30,
   "metadata": {},
   "outputs": [
    {
     "name": "stdout",
     "output_type": "stream",
     "text": [
      "x_list = [1, 2, 2, 3.5, 2, 3, 3, 4, 5, 6, 7, 8, 9, [10, 11, 12]]\n"
     ]
    }
   ],
   "source": [
    "# x_list의 insert 메소드를 이용하여 인덱스 3에 3.5를 추가\n",
    "x_list.insert(3, 3.5)\n",
    "print(f'{x_list = }')"
   ]
  },
  {
   "cell_type": "code",
   "execution_count": 31,
   "metadata": {},
   "outputs": [
    {
     "name": "stdout",
     "output_type": "stream",
     "text": [
      "x_list = [1, 2, 2, 2, 3, 3, 4, 5, 6, 7, 8, 9, [10, 11, 12]]\n"
     ]
    }
   ],
   "source": [
    "# x_list의 remove 메소드를 이용하여 3.5를 찾아서 삭제\n",
    "x_list.remove(3.5)\n",
    "print(f'{x_list = }')"
   ]
  },
  {
   "cell_type": "code",
   "execution_count": 32,
   "metadata": {},
   "outputs": [
    {
     "name": "stdout",
     "output_type": "stream",
     "text": [
      "x_list = [1, 2, 2, 2, 3, 3, 4, 5, 6, 7, 8, 9]\n",
      "x_list = [1, 2, 2, 2, 3, 3, 4, 6, 7, 8, 9]\n"
     ]
    }
   ],
   "source": [
    "# x_list의 pop 메소드를 이용하여 마지막 원소를 삭제\n",
    "x_list.pop()\n",
    "print(f'{x_list = }')\n",
    "\n",
    "# x_list의 pop 메소드를 이용하여 인덱스 7의 원소를 삭제\n",
    "x_list.pop(7)\n",
    "print(f'{x_list = }')"
   ]
  },
  {
   "cell_type": "code",
   "execution_count": 33,
   "metadata": {},
   "outputs": [
    {
     "name": "stdout",
     "output_type": "stream",
     "text": [
      "x_list = [2, 2, 2, 3, 3, 4, 6, 7, 8, 9], x_pop =1\n"
     ]
    }
   ],
   "source": [
    "# x_list의 pop 메소드를 이용하여 인덱스 0의 원소를 삭제하고, 삭제한 값을 x_pop에 할당\n",
    "x_pop = x_list.pop(0)\n",
    "print(f'{x_list = }, {x_pop =}')"
   ]
  },
  {
   "cell_type": "code",
   "execution_count": 34,
   "metadata": {},
   "outputs": [
    {
     "name": "stdout",
     "output_type": "stream",
     "text": [
      "x_list = []\n"
     ]
    }
   ],
   "source": [
    "# x_list의 clear 메소드를 이용하여 모든 원소를 삭제\n",
    "x_list.clear()\n",
    "print(f'{x_list = }')"
   ]
  },
  {
   "cell_type": "code",
   "execution_count": 35,
   "metadata": {},
   "outputs": [
    {
     "name": "stdout",
     "output_type": "stream",
     "text": [
      "Error: name 'x_list' is not defined\n"
     ]
    }
   ],
   "source": [
    "# x_list를 삭제\n",
    "del x_list\n",
    "\n",
    "try:\n",
    "    # x_list의 값을 출력\n",
    "    print(f'{x_list = }')\n",
    "except NameError as e:\n",
    "    print(f'Error: {e}')"
   ]
  },
  {
   "cell_type": "markdown",
   "metadata": {},
   "source": [
    "### 문자열\n",
    "##### 문자열 생성\n",
    " 1. 큰따옴표(\")로 둘러싸기\n",
    " 2. 작은따옴표(')로 둘러싸기\n",
    " 3. 큰따옴표 3개를 연속(\"\"\")으로 둘러싸기 -> 여러줄 작성 가능\n",
    " 4. 작은따옴표 3개를 연속(''')으로 둘러싸기 -> 여러줄 작성 가능"
   ]
  },
  {
   "cell_type": "code",
   "execution_count": 36,
   "metadata": {},
   "outputs": [
    {
     "name": "stdout",
     "output_type": "stream",
     "text": [
      "Hello Python! My name is Python. I am a Python Developer.\n"
     ]
    }
   ],
   "source": [
    "string1 = \"Hello Python! My name is Python. I am a Python Developer.\"\n",
    "print(string1)"
   ]
  },
  {
   "cell_type": "code",
   "execution_count": 37,
   "metadata": {},
   "outputs": [
    {
     "name": "stdout",
     "output_type": "stream",
     "text": [
      "Hello Pthon! My name is Python. I am a Python Developer\n"
     ]
    }
   ],
   "source": [
    "string2 = 'Hello Pthon! My name is Python. I am a Python Developer'\n",
    "print(string2)"
   ]
  },
  {
   "cell_type": "code",
   "execution_count": 38,
   "metadata": {},
   "outputs": [
    {
     "name": "stdout",
     "output_type": "stream",
     "text": [
      "Hello Python! \n",
      "My name is Python.\n",
      "I am a Python Developer.\n",
      "\n"
     ]
    }
   ],
   "source": [
    "string3 = \"\"\"Hello Python! \n",
    "My name is Python.\n",
    "I am a Python Developer.\n",
    "\"\"\"\n",
    "print(string3)"
   ]
  },
  {
   "cell_type": "code",
   "execution_count": 39,
   "metadata": {},
   "outputs": [
    {
     "name": "stdout",
     "output_type": "stream",
     "text": [
      "Hello Python! \n",
      "My name is Python.\n",
      "I am a Python Developer.\n",
      "\n"
     ]
    }
   ],
   "source": [
    "string4 = '''Hello Python! \n",
    "My name is Python.\n",
    "I am a Python Developer.\n",
    "'''\n",
    "print(string4)"
   ]
  },
  {
   "cell_type": "markdown",
   "metadata": {},
   "source": [
    "#### 이스케이프 문자\n",
    "  - \\n: 문자열 안에서 줄을 바꿀 때 사용\n",
    "  - \\t: 문자열 사이에 탭 간격을 줄 때 사용\n",
    "  - \\\\: 문자 그대로 표현할 때 사용\n",
    "  - \\', \\\": 작은따옴표(') 혹은 큰따옴표(\")를 그대로 표현할 때 사용 "
   ]
  },
  {
   "cell_type": "code",
   "execution_count": 2,
   "metadata": {},
   "outputs": [
    {
     "name": "stdout",
     "output_type": "stream",
     "text": [
      "Hello \tPython! \n",
      "My \tname \tis \tPython. \n",
      "I \tam \ta \tPython \tDeveloper.\n"
     ]
    }
   ],
   "source": [
    "string = 'Hello \\tPython! \\nMy \\tname \\tis \\tPython. \\nI \\tam \\ta \\tPython \\tDeveloper.'\n",
    "print(string)"
   ]
  },
  {
   "cell_type": "code",
   "execution_count": 3,
   "metadata": {},
   "outputs": [
    {
     "name": "stdout",
     "output_type": "stream",
     "text": [
      "Hello \t\\Python\\! \n",
      "My \tname \tis \t'Python'!. \n",
      "I \tam \ta \t\"Python\" \tDeveloper.\n"
     ]
    }
   ],
   "source": [
    "string = 'Hello \\t\\\\Python\\\\! \\nMy \\tname \\tis \\t\\'Python\\'!. \\nI \\tam \\ta \\t\\\"Python\\\" \\tDeveloper.'\n",
    "print(string)"
   ]
  },
  {
   "cell_type": "markdown",
   "metadata": {},
   "source": [
    "#### 문자열의 종류\n",
    "  - r-string: 문자열 앞에 r을 붙이면, 이스케이프 문자를 무시하고 그대로 문자열 생성\n",
    "  - f-string: 문자열 앞에 f를 붙이면, 문자열 내부에서 변수를 사용할 수 있음"
   ]
  },
  {
   "cell_type": "code",
   "execution_count": 4,
   "metadata": {},
   "outputs": [
    {
     "name": "stdout",
     "output_type": "stream",
     "text": [
      "Hello \\t\\\\Python\\\\! \\nMy \\tname \\tis \\t\\'Python\\'!. \\nI \\tam \\ta \\t\\\"Python\\\" \\tDeveloper.\n"
     ]
    }
   ],
   "source": [
    "# r-string\n",
    "string_r = r'Hello \\t\\\\Python\\\\! \\nMy \\tname \\tis \\t\\'Python\\'!. \\nI \\tam \\ta \\t\\\"Python\\\" \\tDeveloper.'\n",
    "print(string_r)"
   ]
  },
  {
   "cell_type": "code",
   "execution_count": 43,
   "metadata": {},
   "outputs": [
    {
     "name": "stdout",
     "output_type": "stream",
     "text": [
      "Hello Python! My name is Python. I am a Python Developer.\n"
     ]
    }
   ],
   "source": [
    "# f-string\n",
    "name = 'Python'\n",
    "string_f = f'Hello {name}! My name is {name}. I am a {name} Developer.'\n",
    "print(string_f)"
   ]
  },
  {
   "cell_type": "markdown",
   "metadata": {},
   "source": [
    "#### 문자열의 인덱싱과 슬라이싱\n",
    " - 문자열(string)은 여러 개의 문자를 순서대로 나열한 것\n",
    " - 따라서, 문자열의 인덱싱과 슬라이싱은 다른 iterable(list, tuple 등)과 동일"
   ]
  },
  {
   "cell_type": "code",
   "execution_count": 44,
   "metadata": {},
   "outputs": [
    {
     "name": "stdout",
     "output_type": "stream",
     "text": [
      "\n",
      "==== 인덱싱(포인트) ====\n",
      "string[0]='H'\n",
      "string[3]='l'\n",
      "string[-1]='.'\n",
      "string[-3]='e'\n",
      "\n",
      "==== 슬라이싱(구간) ====\n",
      "string[0:5]='Hello'\n",
      "string[6:12]='Python'\n",
      "string[:5]='Hello'\n",
      "string[6:]='Python! My name is Python. I am a Python Developer.'\n",
      "string[6:-1]='Python! My name is Python. I am a Python Developer'\n",
      "string[6:3]=''\n",
      "\n",
      "==== 스텝(간격) =====\n",
      "- 인덱스 6부터 12까지 \n",
      "string[6:12:2]='Pto'\n",
      "- 처음부터 끝까지 2칸씩\n",
      "string[::2]='HloPto!M aei yhn  maPto eeoe.'\n",
      "- 처음부터 끝까지 거꾸로 1칸씩\n",
      "string[::-1]='.repoleveD nohtyP a ma I .nohtyP si eman yM !nohtyP olleH'\n",
      "\n"
     ]
    }
   ],
   "source": [
    "string = \"Hello Python! My name is Python. I am a Python Developer.\"\n",
    "print(f'''\n",
    "==== 인덱싱(포인트) ====\n",
    "{string[0]=}\n",
    "{string[3]=}\n",
    "{string[-1]=}\n",
    "{string[-3]=}\n",
    "\n",
    "==== 슬라이싱(구간) ====\n",
    "{string[0:5]=}\n",
    "{string[6:12]=}\n",
    "{string[:5]=}\n",
    "{string[6:]=}\n",
    "{string[6:-1]=}\n",
    "{string[6:3]=}\n",
    "\n",
    "==== 스텝(간격) =====\n",
    "- 인덱스 6부터 12까지 \n",
    "{string[6:12:2]=}\n",
    "- 처음부터 끝까지 2칸씩\n",
    "{string[::2]=}\n",
    "- 처음부터 끝까지 거꾸로 1칸씩\n",
    "{string[::-1]=}\n",
    "''')"
   ]
  },
  {
   "cell_type": "markdown",
   "metadata": {},
   "source": [
    "#### 문자열 연산\n",
    " - 문자열 더하기(+): 문자열과 문자열을 합침\n",
    " - 문자열 곱하기(x): 문자열을 반복"
   ]
  },
  {
   "cell_type": "code",
   "execution_count": 45,
   "metadata": {},
   "outputs": [
    {
     "name": "stdout",
     "output_type": "stream",
     "text": [
      "Hello Python! My name is Python. I am a Python Developer.\n"
     ]
    }
   ],
   "source": [
    "# 문자열 연결\n",
    "string = \"Hello Python! \" + \"My name is Python. \" + \"I am a Python Developer.\"\n",
    "print(string)"
   ]
  },
  {
   "cell_type": "code",
   "execution_count": 46,
   "metadata": {},
   "outputs": [
    {
     "name": "stdout",
     "output_type": "stream",
     "text": [
      "Hello Python! Hello Python! Hello Python! \n"
     ]
    }
   ],
   "source": [
    "# 문자열 반복\n",
    "string = \"Hello Python! \" * 3\n",
    "print(string)"
   ]
  },
  {
   "cell_type": "markdown",
   "metadata": {},
   "source": [
    "#### 문자열 관련 함수\n",
    " - len() :문자열의 길이를 반환\n",
    " - in :문자열 내부에 해당 문자열이 있는지 확인\n",
    " - not in :문자열 내부에 해당 문자열이 없는지 확인"
   ]
  },
  {
   "cell_type": "code",
   "execution_count": 47,
   "metadata": {},
   "outputs": [
    {
     "name": "stdout",
     "output_type": "stream",
     "text": [
      "22\n",
      "True\n",
      "True\n"
     ]
    }
   ],
   "source": [
    "string = \"2024_바이오헬스 교과목 목록.xlsx\"\n",
    "\n",
    "# 문자열 길이\n",
    "print(len(string))\n",
    "\n",
    "# 문자열에 2024가 포함되어 있는지 확인\n",
    "print('2024' in string)\n",
    "\n",
    "# 문자열에 'csv'가 포함되어 있지 않은지 확인\n",
    "print('csv' not in string)"
   ]
  },
  {
   "cell_type": "markdown",
   "metadata": {},
   "source": [
    "### 딕셔너리\n",
    " - 딕셔너리는 key와 value를 한 쌍으로 갖는 자료형\n",
    "\n",
    "##### Dictionary 생성 및 선언\n",
    "   1. 중괄호로 정의\n",
    "   2. dict() 내장함수를 사용하여 딕셔너리 생성\n",
    "   3. 다른 자료형을 딕셔너리로 전환\n",
    " - 빈 Dictionary 생성"
   ]
  },
  {
   "cell_type": "code",
   "execution_count": 48,
   "metadata": {},
   "outputs": [
    {
     "name": "stdout",
     "output_type": "stream",
     "text": [
      "my_dict1 = {}\n",
      "my_dict2 = {}\n"
     ]
    }
   ],
   "source": [
    "# 중괄호로 딕셔너리 생성 -> 요소가 없는 딕셔너리\n",
    "my_dict1 = {}\n",
    "\n",
    "# dict 함수로 딕셔너리 생성 -> 요소가 없는 딕셔너리\n",
    "my_dict2 = dict()\n",
    "\n",
    "print(f'{my_dict1 = }\\n{my_dict2 = }')\n"
   ]
  },
  {
   "cell_type": "markdown",
   "metadata": {},
   "source": [
    " - 요소가 있는 Dictionary 생성"
   ]
  },
  {
   "cell_type": "code",
   "execution_count": 49,
   "metadata": {},
   "outputs": [
    {
     "name": "stdout",
     "output_type": "stream",
     "text": [
      "my_dict1 = {'name': 'Max', 'age': 28, 'city': 'New York'}\n",
      "my_dict2 = {'name': 'Max', 'age': 28, 'city': 'New York'}\n",
      "my_dict3 = {'name': 'Max', 'age': 28, 'city': 'New York'}\n"
     ]
    }
   ],
   "source": [
    "# 중괄호로 딕셔너리 생성 -> key:value 형태로 요소 추가\n",
    "my_dict1 = {'name':'Max', 'age':28, 'city':'New York'}\n",
    "\n",
    "# dict() 함수로 딕셔너리 생성 -> key=value 형태로 요소 추가\n",
    "# key는 문자열로 지정됨\n",
    "my_dict2 = dict(name='Max', age=28, city='New York')\n",
    "\n",
    "# dict() 함수로 딕셔너리 변환 -> (key,value) 리스트로 요소 추가\n",
    "my_dict3 = dict([('name', 'Max'), ('age', 28), ('city', 'New York')])\n",
    "\n",
    "print(f'{my_dict1 = }\\n{my_dict2 = }\\n{my_dict3 = }')"
   ]
  },
  {
   "cell_type": "code",
   "execution_count": 50,
   "metadata": {},
   "outputs": [
    {
     "name": "stdout",
     "output_type": "stream",
     "text": [
      "my_dict4 = {'name': 'Max', 'age': 28, 'city': 'New York'}\n"
     ]
    }
   ],
   "source": [
    "person_keys = ['name', 'age', 'city']\n",
    "person_values = ['Max', 28, 'New York']\n",
    "\n",
    "# zip()으로 묶어서 dict()로 변환\n",
    "my_dict4 = dict(zip(person_keys, person_values))\n",
    "print(f'{my_dict4 = }')"
   ]
  },
  {
   "cell_type": "markdown",
   "metadata": {},
   "source": [
    "- Dictionary를 value로 가지는 Dictionary 생성"
   ]
  },
  {
   "cell_type": "code",
   "execution_count": 51,
   "metadata": {},
   "outputs": [
    {
     "name": "stdout",
     "output_type": "stream",
     "text": [
      "my_dict_dict = {'A': {'name': 'Max', 'age': 28, 'city': 'New York'}, 'B': {'name': 'Mary', 'age': 22, 'city': 'Seoul'}}\n"
     ]
    }
   ],
   "source": [
    "my_dict_dict ={'A': {'name':'Max', 'age':28, 'city':'New York'},\n",
    "               'B': {'name':'Mary', 'age':22, 'city':'Seoul'}}\n",
    "print(f'{my_dict_dict = }')"
   ]
  },
  {
   "cell_type": "markdown",
   "metadata": {},
   "source": [
    "- pprint() 사용하여 보기 좋게 출력하기"
   ]
  },
  {
   "cell_type": "code",
   "execution_count": 52,
   "metadata": {},
   "outputs": [
    {
     "name": "stdout",
     "output_type": "stream",
     "text": [
      "{'A': {'age': 28, 'city': 'New York', 'name': 'Max'},\n",
      " 'B': {'age': 22, 'city': 'Seoul', 'name': 'Mary'}}\n"
     ]
    }
   ],
   "source": [
    "from pprint import pprint\n",
    "pprint(my_dict_dict)"
   ]
  },
  {
   "cell_type": "markdown",
   "metadata": {},
   "source": [
    "#### Dictionary 살펴보기\n",
    "- 형태 확인하기"
   ]
  },
  {
   "cell_type": "code",
   "execution_count": 53,
   "metadata": {},
   "outputs": [
    {
     "name": "stdout",
     "output_type": "stream",
     "text": [
      "my_dict1 = {'name': 'Max', 'age': 28, 'city': 'New York'}\n",
      "type(my_dict1) = <class 'dict'>\n",
      "len(my_dict1) = 3\n",
      "True\n",
      "False\n"
     ]
    }
   ],
   "source": [
    "print(f'{my_dict1 = }')\n",
    "\n",
    "# 딕셔너리 유형 확인\n",
    "print(f'{type(my_dict1) = }')\n",
    "\n",
    "# 딕셔너리 길이(key의 개수) 확인\n",
    "print(f'{len(my_dict1) = }')\n",
    "\n",
    "\n",
    "# key의 존재 여부 확인\n",
    "print(\"name\" in my_dict1)\n",
    "\n",
    "# value 존재 여부는 in을 이용하여 확인할 수 없음\n",
    "print(\"Max\" in my_dict1)"
   ]
  },
  {
   "cell_type": "markdown",
   "metadata": {},
   "source": [
    "- 내용 확인하기"
   ]
  },
  {
   "cell_type": "code",
   "execution_count": 54,
   "metadata": {},
   "outputs": [
    {
     "name": "stdout",
     "output_type": "stream",
     "text": [
      "my_dict1[\"name\"] = 'Max'\n",
      "KeyError: 'name2'\n"
     ]
    }
   ],
   "source": [
    "# key로 value에 접근\n",
    "print(f'{my_dict1[\"name\"] = }')\n",
    "\n",
    "try:\n",
    "    # key가 없으면 에러 발생\n",
    "    print(f'{my_dict1[\"name2\"] = }')\n",
    "except KeyError as e:\n",
    "    print(f'KeyError: {e}')"
   ]
  },
  {
   "cell_type": "code",
   "execution_count": 55,
   "metadata": {},
   "outputs": [
    {
     "name": "stdout",
     "output_type": "stream",
     "text": [
      "my_dict_dict[\"A\"][\"name\"] = 'Max'\n"
     ]
    }
   ],
   "source": [
    "# 중첩된 dict의 값에 접근\n",
    "print(f'{my_dict_dict[\"A\"][\"name\"] = }')"
   ]
  },
  {
   "cell_type": "markdown",
   "metadata": {},
   "source": [
    "- get() 메서드로 에러 회피하며 값 가져오기"
   ]
  },
  {
   "cell_type": "code",
   "execution_count": 56,
   "metadata": {},
   "outputs": [
    {
     "name": "stdout",
     "output_type": "stream",
     "text": [
      "my_dict1.get(\"name\") = 'Max'\n",
      "my_dict1.get(\"name2\") = None\n",
      "my_dict1.get(\"name2\", \"replacement\") = 'replacement'\n"
     ]
    }
   ],
   "source": [
    "# key로 접근\n",
    "print(f'{my_dict1.get(\"name\") = }')\n",
    "\n",
    "# key가 없으면 None을 반환. 에러발생하지 않음\n",
    "print(f'{my_dict1.get(\"name2\") = }')\n",
    "\n",
    "# key가 없으면 대체값을 반환\n",
    "print(f'{my_dict1.get(\"name2\", \"replacement\") = }')"
   ]
  },
  {
   "cell_type": "markdown",
   "metadata": {},
   "source": [
    "- 메서드를 이용하여 key, value, item 가져오기 "
   ]
  },
  {
   "cell_type": "code",
   "execution_count": 57,
   "metadata": {},
   "outputs": [
    {
     "name": "stdout",
     "output_type": "stream",
     "text": [
      "my_dict1.keys() = dict_keys(['name', 'age', 'city'])\n",
      "my_dict1.values() = dict_values(['Max', 28, 'New York'])\n",
      "my_dict1.items() = dict_items([('name', 'Max'), ('age', 28), ('city', 'New York')])\n"
     ]
    }
   ],
   "source": [
    "# key 목록 가져오기\n",
    "print(f'{my_dict1.keys() = }')\n",
    "\n",
    "# 값 목록 가져오기\n",
    "print(f'{my_dict1.values() = }')\n",
    "\n",
    "# 키와 값의 쌍을 가져오기\n",
    "print(f'{my_dict1.items() = }')"
   ]
  },
  {
   "cell_type": "markdown",
   "metadata": {},
   "source": [
    "#### Dictionary 요소 추가, 삭제, 수정하기\n",
    "- 요소 추가 및 삭제하기 "
   ]
  },
  {
   "cell_type": "code",
   "execution_count": 58,
   "metadata": {},
   "outputs": [
    {
     "name": "stdout",
     "output_type": "stream",
     "text": [
      "my_dict1 = {'name': 'Max', 'age': 28, 'city': 'New York'}\n",
      "my_dict1 = {'name': 'Max', 'age': 28, 'city': 'New York', 'id': 123}\n"
     ]
    }
   ],
   "source": [
    "print(f'{my_dict1 = }')\n",
    "\n",
    "# 새로운 키와 값을 추가\n",
    "my_dict1[\"id\"] = 123\n",
    "print(f'{my_dict1 = }')"
   ]
  },
  {
   "cell_type": "code",
   "execution_count": 59,
   "metadata": {},
   "outputs": [
    {
     "name": "stdout",
     "output_type": "stream",
     "text": [
      "my_dict1 = {'name': 'Max', 'age': 28, 'city': 'New York'}\n"
     ]
    }
   ],
   "source": [
    "# 키와 값을 삭제\n",
    "del my_dict1[\"id\"]\n",
    "print(f'{my_dict1 = }')"
   ]
  },
  {
   "cell_type": "markdown",
   "metadata": {},
   "source": [
    "- 요소의 값만 수정하기"
   ]
  },
  {
   "cell_type": "code",
   "execution_count": 60,
   "metadata": {},
   "outputs": [
    {
     "name": "stdout",
     "output_type": "stream",
     "text": [
      "my_dict1 = {'name': 'Max', 'age': 30, 'city': 'New York'}\n"
     ]
    }
   ],
   "source": [
    "# 키가 있으면 값을 수정, 없으면 추가\n",
    "my_dict1[\"age\"] = 30\n",
    "print(f'{my_dict1 = }')"
   ]
  },
  {
   "cell_type": "markdown",
   "metadata": {},
   "source": [
    "- update()를 이용하여 여러 요소 한번에 수정하기 "
   ]
  },
  {
   "cell_type": "code",
   "execution_count": 61,
   "metadata": {},
   "outputs": [
    {
     "name": "stdout",
     "output_type": "stream",
     "text": [
      "my_dict1 = {'name': 'Max', 'age': 40, 'city': 'New York', 'id': 123, 'occupation': 'Data Scientist'}\n"
     ]
    }
   ],
   "source": [
    "# 여러 개의 키와 값을 수정, 추가\n",
    "my_dict1.update(age=40, id=123, occupation=\"Data Scientist\")\n",
    "print(f'{my_dict1 = }')"
   ]
  },
  {
   "cell_type": "code",
   "execution_count": 62,
   "metadata": {},
   "outputs": [
    {
     "name": "stdout",
     "output_type": "stream",
     "text": [
      "my_dict1 = {'name': 'Max', 'age': 50, 'city': 'New York', 'id': 123, 'occupation': 'Data Scientist', 'affiliation': 'Hongik Univ.'}\n"
     ]
    }
   ],
   "source": [
    "# 다른 dict를 통째로 추가\n",
    "my_dict_more = {\"age\":50, \"affiliation\":\"Hongik Univ.\"}\n",
    "my_dict1.update(my_dict_more)\n",
    "print(f'{my_dict1 = }')"
   ]
  },
  {
   "cell_type": "markdown",
   "metadata": {},
   "source": [
    "- pop()을 이용하여 요소 삭제하고 저장하기 "
   ]
  },
  {
   "cell_type": "code",
   "execution_count": 63,
   "metadata": {},
   "outputs": [
    {
     "name": "stdout",
     "output_type": "stream",
     "text": [
      "my_dict1 = {'name': 'Max', 'age': 50, 'city': 'New York', 'id': 123, 'occupation': 'Data Scientist'}\n"
     ]
    }
   ],
   "source": [
    "# 키와 값을 삭제\n",
    "my_dict1.pop(\"affiliation\")\n",
    "print(f'{my_dict1 = }')"
   ]
  },
  {
   "cell_type": "code",
   "execution_count": 64,
   "metadata": {},
   "outputs": [
    {
     "name": "stdout",
     "output_type": "stream",
     "text": [
      "my_dict1 = {'name': 'Max', 'age': 50, 'city': 'New York', 'id': 123}\n",
      "occupation = 'Data Scientist'\n"
     ]
    }
   ],
   "source": [
    "# 키와 값을 삭제하고 값을 반환\n",
    "occupation = my_dict1.pop(\"occupation\")\n",
    "print(f'{my_dict1 = }\\n{occupation = }') "
   ]
  },
  {
   "cell_type": "markdown",
   "metadata": {},
   "source": [
    "- pop()의 두번째 인자로 default 값을 지정하여 에러 회피하기 "
   ]
  },
  {
   "cell_type": "code",
   "execution_count": 65,
   "metadata": {},
   "outputs": [
    {
     "name": "stdout",
     "output_type": "stream",
     "text": [
      "KeyError: 'occupation'\n",
      "occupation = 'unknown'\n"
     ]
    }
   ],
   "source": [
    "try:\n",
    "    # 키가 없으면 에러발생\n",
    "    my_dict1.pop(\"occupation\")\n",
    "except KeyError as e:\n",
    "    print(f'KeyError: {e}')\n",
    "\n",
    "# pop()을 사용하면, 키가 없어도 에러발생하지 않음\n",
    "occupation = my_dict1.pop(\"occupation\", \"unknown\")\n",
    "print(f'{occupation = }')"
   ]
  },
  {
   "cell_type": "markdown",
   "metadata": {},
   "source": [
    "- popitem()을 이용하여 마지막 요소 삭제하기 "
   ]
  },
  {
   "cell_type": "code",
   "execution_count": 66,
   "metadata": {},
   "outputs": [
    {
     "name": "stdout",
     "output_type": "stream",
     "text": [
      "my_dict1 = {'name': 'Max', 'age': 50, 'city': 'New York', 'id': 123}\n",
      "my_dict1 = {'name': 'Max', 'age': 50, 'city': 'New York'}\n",
      "last = ('id', 123)\n",
      "my_dict1 = {'name': 'Max', 'age': 50}\n",
      "last = ('city', 'New York')\n"
     ]
    }
   ],
   "source": [
    "print(f'{my_dict1 = }')\n",
    "\n",
    "# 마지막 키와 값을 삭제\n",
    "# 딕셔너리는 원소의 순서가 없어 임의의 키와 값을 삭제하는 것과 동일\n",
    "last = my_dict1.popitem()\n",
    "print(f'{my_dict1 = }\\n{last = }')\n",
    "\n",
    "# 임의의 키와 값을 삭제\n",
    "last = my_dict1.popitem()\n",
    "print(f'{my_dict1 = }\\n{last = }')"
   ]
  },
  {
   "cell_type": "markdown",
   "metadata": {},
   "source": [
    "- clear()를 이용하여 모든 요소 삭제하기 "
   ]
  },
  {
   "cell_type": "code",
   "execution_count": 67,
   "metadata": {},
   "outputs": [
    {
     "name": "stdout",
     "output_type": "stream",
     "text": [
      "my_dict1 = {}\n"
     ]
    }
   ],
   "source": [
    "# 모든 키와 값을 삭제\n",
    "my_dict1.clear()\n",
    "print(f'{my_dict1 = }')"
   ]
  },
  {
   "cell_type": "markdown",
   "metadata": {},
   "source": []
  },
  {
   "cell_type": "markdown",
   "metadata": {},
   "source": [
    "# iterable 자료형 - 응용"
   ]
  },
  {
   "cell_type": "markdown",
   "metadata": {},
   "source": [
    "## 인덱싱과 슬라이싱\n",
    "### 인덱싱"
   ]
  },
  {
   "cell_type": "code",
   "execution_count": 68,
   "metadata": {},
   "outputs": [
    {
     "name": "stdout",
     "output_type": "stream",
     "text": [
      "-4\n",
      "-5\n",
      "x_list[-5] = '-1'\n",
      "x_list[0] = '-1'\n"
     ]
    }
   ],
   "source": [
    "# 리스트 생성\n",
    "# 요소 -1을 인덱싱\n",
    "x_list = ['-1', '-2', '-3', '-4']\n",
    "print(x_list[-1]) # 맨 끝 요소 '-4'가 출력됨\n",
    "\n",
    "# 리스트에 '-5'를 추가 \n",
    "# 요소 -1을 인덱싱\n",
    "x_list = ['-1', '-2', '-3', '-4', '-5']\n",
    "print(x_list[-1]) # 맨 끝 요소 '-5'가 출력됨\n",
    "\n",
    "# 인덱스 0 과 인덱스 -5 의 값은 같다.\n",
    "print(f'{x_list[-5] = }\\n{x_list[0] = }')"
   ]
  },
  {
   "cell_type": "code",
   "execution_count": 69,
   "metadata": {},
   "outputs": [
    {
     "name": "stdout",
     "output_type": "stream",
     "text": [
      "법학과인 나는 컴맹이지만, 과제를 열심히 한다.\n",
      "법학과인 나는 컴맹이지만, 과제를 열심히 한다.\n"
     ]
    }
   ],
   "source": [
    "# x_list 에 값을 재할당\n",
    "x_list = ['법학과', '컴맹', '과제',]\n",
    "print(f'{x_list[0]}인 나는 {x_list[1]}이지만, {x_list[2]}를 열심히 한다.')\n",
    "print(f'{x_list[-3]}인 나는 {x_list[-2]}이지만, {x_list[-1]}를 열심히 한다.')\n",
    "# 0부터 인덱싱 가능\n",
    "# 역순으로 -1부터 인덱싱 가능"
   ]
  },
  {
   "cell_type": "code",
   "execution_count": 70,
   "metadata": {},
   "outputs": [
    {
     "name": "stdout",
     "output_type": "stream",
     "text": [
      "나는 법학과에 다닌다.\n"
     ]
    }
   ],
   "source": [
    "# 00을 넣어도 인덱싱 가능 \n",
    "print(f'나는 {x_list[00]}에 다닌다.')\n"
   ]
  },
  {
   "cell_type": "code",
   "execution_count": 71,
   "metadata": {},
   "outputs": [
    {
     "ename": "SyntaxError",
     "evalue": "leading zeros in decimal integer literals are not permitted; use an 0o prefix for octal integers (3526146895.py, line 3)",
     "output_type": "error",
     "traceback": [
      "  \u001b[36mCell\u001b[39m\u001b[36m \u001b[39m\u001b[32mIn[71]\u001b[39m\u001b[32m, line 3\u001b[39m\n\u001b[31m    \u001b[39m\u001b[31mprint(x_list[01])\u001b[39m\n                 ^\n\u001b[31mSyntaxError\u001b[39m\u001b[31m:\u001b[39m leading zeros in decimal integer literals are not permitted; use an 0o prefix for octal integers\n"
     ]
    }
   ],
   "source": [
    "# 인덱스 01을 인덱싱하면 SyntaxError가 발생\n",
    "# try-except로 에러 출력 불가능\n",
    "print(x_list[01])"
   ]
  },
  {
   "cell_type": "code",
   "execution_count": null,
   "metadata": {},
   "outputs": [
    {
     "name": "stdout",
     "output_type": "stream",
     "text": [
      "list indices must be integers or slices, not float\n"
     ]
    }
   ],
   "source": [
    "# 인덱싱할 때 정수나 슬라이스로만 접근 가능\n",
    "# 실수형이나 문자열 등은 TypeError 발생\n",
    "try:\n",
    "    print(x_list[1.0])\n",
    "except TypeError as e:\n",
    "    print(e)"
   ]
  },
  {
   "cell_type": "markdown",
   "metadata": {},
   "source": [
    "- 리스트와 튜플의 인덱싱 "
   ]
  },
  {
   "cell_type": "code",
   "execution_count": null,
   "metadata": {},
   "outputs": [
    {
     "name": "stdout",
     "output_type": "stream",
     "text": [
      "나는 ,법학과입니다.\n",
      "법학과인 나는 컴맹이지만, 과제를 열심히 합니다.\n"
     ]
    }
   ],
   "source": [
    "x_list = [' ', ',', '.']  # 리스트\n",
    "x_tuple = ('법학과', '컴맹', '과제')  # 튜플\n",
    "\n",
    "# f-string 내에 문자열과 함께 x_list 출력\n",
    "print(f'나는{x_list[0]}{x_list[1]}법학과입니다{x_list[2]}')\n",
    "\n",
    "# f-string 내에 문자열과 함께 x_tuple 출력\n",
    "# 역순 인덱스 입력\n",
    "print(f'{x_tuple[-3]}인 나는 {x_tuple[-2]}이지만, {x_tuple[-1]}를 열심히 합니다.')"
   ]
  },
  {
   "cell_type": "markdown",
   "metadata": {},
   "source": [
    "- 딕셔너리의 인덱싱 "
   ]
  },
  {
   "cell_type": "code",
   "execution_count": null,
   "metadata": {},
   "outputs": [
    {
     "name": "stdout",
     "output_type": "stream",
     "text": [
      "[3, 4]\n",
      "{3: 4}\n",
      "34\n",
      "4\n"
     ]
    }
   ],
   "source": [
    "# key와 value로 이루어진 Dictionary\n",
    "# 리스트, 튜플, 정수형/실수형/문자열, 딕셔너리가 key와 value에 할당되어 있음\n",
    "x_dict = {(1,2):[3,4], 12:'34', 1.2:{3:4}}\n",
    "\n",
    "# key를 이용해서 value 인덱싱 \n",
    "print(x_dict[(1,2)])\n",
    "print(x_dict[1.2])\n",
    "print(x_dict[12])\n",
    "\n",
    "# key 12의 value(리스트)의 인덱스 1번 요소 인덱싱\n",
    "print(x_dict[12][1])\n",
    "\n"
   ]
  },
  {
   "cell_type": "code",
   "execution_count": null,
   "metadata": {},
   "outputs": [
    {
     "name": "stdout",
     "output_type": "stream",
     "text": [
      "0\n"
     ]
    }
   ],
   "source": [
    "# 단지 인덱스 번호로만 접근하면 KeyError 발생 \n",
    "try:\n",
    "    print(x_dict[0])\n",
    "except KeyError as e:\n",
    "    print(e)"
   ]
  },
  {
   "cell_type": "markdown",
   "metadata": {},
   "source": [
    "- 문자열의 인덱싱 "
   ]
  },
  {
   "cell_type": "code",
   "execution_count": null,
   "metadata": {},
   "outputs": [
    {
     "name": "stdout",
     "output_type": "stream",
     "text": [
      "x_str[0] = '중'\n",
      "x_str[2] = '고'\n",
      "x_str[5] = '시'\n",
      "x_str[7] = '장'\n"
     ]
    }
   ],
   "source": [
    "x_str = '중간고사 시험장'\n",
    "\n",
    "# x_str의 0번째 원소 출력\n",
    "print(f'{x_str[0] = }')\n",
    "\n",
    "# x_str의 2번째 원소 출력\n",
    "print(f'{x_str[2] = }')\n",
    "\n",
    "# x_str의 5번째 원소 출력\n",
    "print(f'{x_str[5] = }')\n",
    "\n",
    "# x_str의 7번째 원소 출력\n",
    "print(f'{x_str[7] = }')\n",
    "\n",
    "# 띄어쓰기도 문자열의 하나의 원소로 친다."
   ]
  },
  {
   "cell_type": "markdown",
   "metadata": {},
   "source": [
    "#### 슬라이싱(Slicing) "
   ]
  },
  {
   "cell_type": "code",
   "execution_count": null,
   "metadata": {},
   "outputs": [
    {
     "name": "stdout",
     "output_type": "stream",
     "text": [
      "[(0, 1), [2, 3], {4: 5, 6: 7}]\n",
      "[[2, 3], {4: 5, 6: 7}]\n",
      "[(0, 1)]\n",
      "[(0, 1), [2, 3], {4: 5, 6: 7}]\n",
      "[(0, 1), [2, 3], {4: 5, 6: 7}]\n"
     ]
    }
   ],
   "source": [
    "x_list = [(0,1), [2,3], {4:5, 6:7}]\n",
    "\n",
    "# 데이터의 일부를 슬라이싱\n",
    "print(x_list[0:3])  # 인덱스 0부터 3 전까지\n",
    "print(x_list[1:])   # 인덱스 1부터 끝까지\n",
    "print(x_list[:1])   # 인덱스 처음부터 1 전까지\n",
    "print(x_list[:])    # 인덱스 처음부터 끝까지\n",
    "print(x_list[0:100]) # 인덱스 범위를 벗어나도 에러 발생하지 않음\n"
   ]
  },
  {
   "cell_type": "markdown",
   "metadata": {},
   "source": [
    "- 리스트와 튜플의 슬라이싱"
   ]
  },
  {
   "cell_type": "code",
   "execution_count": null,
   "metadata": {},
   "outputs": [
    {
     "name": "stdout",
     "output_type": "stream",
     "text": [
      "x_list[-4:] = [2, 3, 4, 5]\n",
      "x_tuple[::-1] = ([2, 3, 4, 5], 1, 0)\n",
      "x_tuple[2][::-1] = [5, 4, 3, 2]\n",
      "([2, 3, 4, 5], 1)\n"
     ]
    }
   ],
   "source": [
    "x_list = [2, 3, 4, 5] # 리스트\n",
    "x_tuple = (0, 1, x_list) # 리스트를 원소로 하는 튜플\n",
    "\n",
    "# x_list의 0번째 원소부터 끝까지 출력\n",
    "print(f'{x_list[-4:] = }')\n",
    "\n",
    "# x_tuple 역순으로 출력\n",
    "print(f'{x_tuple[::-1] = }')\n",
    "\n",
    "# x_tuple의 2번째 원소인 x_list를 역순으로 출력\n",
    "print(f'{x_tuple[2][::-1] = }')\n",
    "\n",
    "# x_tuple의 뒤에서 1번째부터 3번째 전까지 출력\n",
    "print(f'{x_tuple[-1:-3:-1]}')"
   ]
  },
  {
   "cell_type": "markdown",
   "metadata": {},
   "source": [
    "- 딕셔너리의 슬라이싱 "
   ]
  },
  {
   "cell_type": "code",
   "execution_count": null,
   "metadata": {},
   "outputs": [
    {
     "name": "stdout",
     "output_type": "stream",
     "text": [
      "{'키1-1': {'키1-2': '값1'}}\n",
      "{'키1-2': '값1'}\n",
      "값1\n",
      "\n",
      "['값2-1', '값2-2']\n"
     ]
    }
   ],
   "source": [
    "# 딕셔너리 안에 딕셔너리 안에 딕셔너리와\n",
    "# 딕셔너리 안에 리스트\n",
    "x_dict = {'딕셔너리1':{'키1-1':{'키1-2':'값1'}},'키2':['값2-1', '값2-2']}\n",
    "\n",
    "# key를 이용해서 value에 접근\n",
    "print(x_dict['딕셔너리1'])\n",
    "print(x_dict['딕셔너리1']['키1-1'])\n",
    "print(f'{x_dict['딕셔너리1']['키1-1']['키1-2']}\\n')\n",
    "\n",
    "print(x_dict['키2'][0:])"
   ]
  },
  {
   "cell_type": "markdown",
   "metadata": {},
   "source": [
    "- 문자열의 슬라이싱 "
   ]
  },
  {
   "cell_type": "code",
   "execution_count": null,
   "metadata": {},
   "outputs": [
    {
     "name": "stdout",
     "output_type": "stream",
     "text": [
      "x_str = '아버지가 방에 들어가신다' \n",
      ">>>\tx_str[3:11] = '가 방에 들어가'\n",
      "x_str = '요기 로 가세 하! 안녕 안해 ' \n",
      ">>>\tx_str[-3:-18:-2] = '안녕 하세  요'\n"
     ]
    }
   ],
   "source": [
    "x_str = '아버지가 방에 들어가신다'\n",
    "\n",
    "# x_str의 0번째 원소에서 3번째 전의 원소까지 출력\n",
    "print(f'{x_str = } \\n>>>\\t{x_str[3:11] = }')\n",
    "\n",
    "x_str = '요기 로 가세 하! 안녕 안해 '\n",
    "# x_str의 뒤에서 3번째 원소에서 18번째 전의 원소까지 2칸씩 뛰며 출력\n",
    "print(f'{x_str = } \\n>>>\\t{x_str[-3:-18:-2] = }')"
   ]
  },
  {
   "cell_type": "markdown",
   "metadata": {},
   "source": [
    "### 얕은 복사와 깊은 복사 \n",
    "##### immutable 객체의 assignment 예시"
   ]
  },
  {
   "cell_type": "code",
   "execution_count": null,
   "metadata": {},
   "outputs": [
    {
     "name": "stdout",
     "output_type": "stream",
     "text": [
      "x = '2003' \tid(x) = 2829158328784\n",
      "y = '2003' \tid(y) = 2829158328784\n",
      "x is y = True\n"
     ]
    }
   ],
   "source": [
    "x = '2003'\n",
    "\n",
    "# y에 x를 assign\n",
    "y = x\n",
    "\n",
    "# x와 y의 id(메모리 주소)가 같음\n",
    "print(f'{x = } \\t{id(x) = }')\n",
    "print(f'{y = } \\t{id(y) = }')\n",
    "print(f'{x is y = }') # x와 y의 id가 같은지 확인"
   ]
  },
  {
   "cell_type": "code",
   "execution_count": null,
   "metadata": {},
   "outputs": [
    {
     "name": "stdout",
     "output_type": "stream",
     "text": [
      "x = '2003' \tid(x) =2829158328784\n",
      "y = 2003 \tid(y) =2829165260848\n",
      "x is y = False\n"
     ]
    }
   ],
   "source": [
    "# y의 값을 정수형으로 변환\n",
    "y = int('2003')\n",
    "\n",
    "# y의 값을 변경하면 새로운 메모리 주소에 할당됨\n",
    "print(f'{x = } \\t{id(x) =}')\n",
    "print(f'{y = } \\t{id(y) =}')\n",
    "print(f'{x is y = }') # x와 y의 id가 같은지 확인"
   ]
  },
  {
   "cell_type": "markdown",
   "metadata": {},
   "source": [
    "##### mutable 객체의 얕은 복사 예시 "
   ]
  },
  {
   "cell_type": "code",
   "execution_count": null,
   "metadata": {},
   "outputs": [
    {
     "name": "stdout",
     "output_type": "stream",
     "text": [
      "x = {'gender': 'female', 'birthday': 20030716} \tid(x) = 2829158855552\n",
      "y = {'gender': 'female', 'birthday': 20030716} \tid(y) = 2829158855552\n",
      "x is y = True\n"
     ]
    }
   ],
   "source": [
    "x = {'gender':'female', 'birthday': 20030716}\n",
    "\n",
    "# y에 x를 복사\n",
    "y = x\n",
    "\n",
    "# x와 y의 id(메모리 주소)가 같은지 확인\n",
    "print(f'{x = } \\t{id(x) = }')\n",
    "print(f'{y = } \\t{id(y) = }')\n",
    "print(f'{x is y = }')"
   ]
  },
  {
   "cell_type": "code",
   "execution_count": null,
   "metadata": {},
   "outputs": [
    {
     "name": "stdout",
     "output_type": "stream",
     "text": [
      "x = {'gender': 'female', 'birthday': 20250411} \tid(x) =2829158855552\n",
      "y = {'gender': 'female', 'birthday': 20250411} \tid(y) =2829158855552\n",
      "x is y = True\n"
     ]
    }
   ],
   "source": [
    "# y의 key에 접근해서 value 변경\n",
    "y['birthday'] = 20250411\n",
    "\n",
    "# y의 값을 변경하면 x의 값도 같이 변경됨, 값이 변경되어도 주소는 변하지 않음\n",
    "print(f'{x = } \\t{id(x) =}')\n",
    "print(f'{y = } \\t{id(y) =}')\n",
    "print(f'{x is y = }') # x와 y의 id가 같은지 확인"
   ]
  },
  {
   "cell_type": "markdown",
   "metadata": {},
   "source": [
    "##### mutable 객체의 깊은 복사 예시 "
   ]
  },
  {
   "cell_type": "code",
   "execution_count": null,
   "metadata": {},
   "outputs": [
    {
     "name": "stdout",
     "output_type": "stream",
     "text": [
      "x is y = False\n",
      "x = {'gender': 'female', 'birthday': 20030716} \tid(x) = 2829158178048\n",
      "y = {'gender': 'female', 'birthday': 20030716} \tid(y) = 2829158641472\n"
     ]
    }
   ],
   "source": [
    "x = {'gender':'female', 'birthday': 20030716}\n",
    "\n",
    "# y에 x를 복사\n",
    "y = x.copy()\n",
    "\n",
    "print(f'{x is y = }') # x와 y의 id가 같은지 확인\n",
    "# x와 y의 id(메모리 주소)가 다름\n",
    "print(f'{x = } \\t{id(x) = }')\n",
    "print(f'{y = } \\t{id(y) = }')"
   ]
  },
  {
   "cell_type": "code",
   "execution_count": null,
   "metadata": {},
   "outputs": [
    {
     "name": "stdout",
     "output_type": "stream",
     "text": [
      "x = {'gender': 'female', 'birthday': 20030716} \tid(x) =2829158178048\n",
      "y = {'gender': 'male', 'birthday': 20030716} \tid(y) =2829158641472\n",
      "x is y = False\n"
     ]
    }
   ],
   "source": [
    "# y의 값을 변경\n",
    "y['gender'] = 'male'\n",
    "\n",
    "# y의 값을 변경하여도 x의 값은 같이 변경되지 않음, 주소도 변하지 않음\n",
    "print(f'{x = } \\t{id(x) =}')\n",
    "print(f'{y = } \\t{id(y) =}')\n",
    "print(f'{x is y = }')"
   ]
  },
  {
   "cell_type": "markdown",
   "metadata": {},
   "source": [
    "### 리스트와 튜플\n",
    "##### 기본 사용법 "
   ]
  },
  {
   "cell_type": "code",
   "execution_count": null,
   "metadata": {},
   "outputs": [
    {
     "name": "stdout",
     "output_type": "stream",
     "text": [
      "x_list는 <class 'list'>이다.\n",
      "x_tuple은 <class 'tuple'>이다.\n",
      "\n",
      "x_list의 인덱스 1번의 값은 21이다.\n",
      "x_tuple의 인덱스 3번, 4번의 값은 (22, 23)이다.\n"
     ]
    }
   ],
   "source": [
    "x_list = [20, 21, 21, 22, 23]\n",
    "x_tuple = (20, 21, 21, 22, 23)\n",
    "\n",
    "# 자료형을 출력\n",
    "print(f'x_list는 {type(x_list)}이다.')\n",
    "print(f'x_tuple은 {type(x_tuple)}이다.\\n')\n",
    "\n",
    "# 리스트와 튜플의 인덱싱, 슬라이싱 \n",
    "print(f'x_list의 인덱스 1번의 값은 {x_list[1]}이다.')\n",
    "print(f'x_tuple의 인덱스 3번, 4번의 값은 {x_tuple[3:5]}이다.')"
   ]
  },
  {
   "cell_type": "code",
   "execution_count": null,
   "metadata": {},
   "outputs": [
    {
     "name": "stdout",
     "output_type": "stream",
     "text": [
      "Before: x_list = [20, 21, 21, 22, 23]\n",
      "After : x_list = [20, 21, 21]\n"
     ]
    }
   ],
   "source": [
    "# 원소 변경 전 x_list의 값을 출력\n",
    "print(f'Before: {x_list = }')\n",
    "\n",
    "try:\n",
    "    # 인덱스 4 원소를 25로 변경\n",
    "    x_list[4] = '25' # 전 커널을 실행 후 해당 커널을 실행해야 에러가 안 남\n",
    "    # 인덱스 3 원소를 삭제\n",
    "    del x_list[4]\n",
    "except TypeError as e:\n",
    "    print(f'Error : {e}')\n",
    "\n",
    "# remove함수를 통해해 x_list의 원소를 삭제\n",
    "x_list.remove(22)\n",
    "\n",
    "\n",
    "# 원소 변경 후 x_list의 값을 출력 -> 모두 처리됨\n",
    "print(f'After : {x_list = }')"
   ]
  },
  {
   "cell_type": "code",
   "execution_count": null,
   "metadata": {},
   "outputs": [
    {
     "name": "stdout",
     "output_type": "stream",
     "text": [
      "Before: x_tuple = (20, 21, 21, 22, 23)\n",
      "Error: 'tuple' object does not support item assignment\n",
      "After : x_tuple = (20, 21, 21, 22, 23)\n",
      "\n"
     ]
    }
   ],
   "source": [
    "# 원소 변경 전 x_tuple의 값을 출력\n",
    "print(f'Before: {x_tuple = }')\n",
    "\n",
    "try: \n",
    "    # 인덱스 0 원소를 25로 변경\n",
    "    x_tuple[0] = 25\n",
    "    del x_tuple[3]\n",
    "except TypeError as e:\n",
    "    print(f'Error: {e}')\n",
    "\n",
    "# 원소 변경 후 x_tuple의 값을 출력 -> 에러 발생으로 인해 변경경되지 않음\n",
    "print(f'After : {x_tuple = }\\n')\n"
   ]
  },
  {
   "cell_type": "markdown",
   "metadata": {},
   "source": [
    "#### 내장함수를 이용한 리스트와 튜플 다루기 "
   ]
  },
  {
   "cell_type": "code",
   "execution_count": null,
   "metadata": {},
   "outputs": [
    {
     "name": "stdout",
     "output_type": "stream",
     "text": [
      "x_tuple의 원소 개수는 6개입니다.\n",
      "Error: unsupported operand type(s) for +: 'int' and 'str'\n",
      "min(x_list) = 0.0\n",
      "max(x_list) = 61.0\n",
      "sorted(x_list) = [0.0, 18.0, 23, 32, 36.0, 59, 61.0]\n",
      "sorted(x_list, reverse=True) = [61.0, 59, 36.0, 32, 23, 18.0, 0.0]\n",
      "all(x_list) = False\n",
      "any(x_list) = True\n"
     ]
    }
   ],
   "source": [
    "x_tuple = (23, 59, '18', 32, 36, 61)\n",
    "\n",
    "# x_tuple의 길이(원소의 개수) 출력\n",
    "print(f'x_tuple의 원소 개수는 {len(x_tuple)}개입니다.')\n",
    "\n",
    "# x_list의 원소들의 합 출력\n",
    "try:\n",
    "    print(f'그 원소들의 합은 {sum(x_tuple) = }')\n",
    "except TypeError as e:\n",
    "    print(f'Error: {e}')\n",
    "# 합, 최솟값, 최댓값 등 계산함수는 문자열을 서포트하지않음\n",
    "\n",
    "# 튜플은 원소 변경이 불가하므로 모든 원소가 정수형인 mutable 객체 리스트 생성\n",
    "# 정수형 계산이 들어가는 원소는 실수형으로 변환해야 계산함수 적용 가능 !!\n",
    "x_list = [23, 59, float(2*9), 32, float(float(x_tuple[2])*2), float(59+2), float(10-2*5)] \n",
    "\n",
    "# x_list의 원소들 중 최솟값 출력\n",
    "print(f'{min(x_list) = }')\n",
    "\n",
    "# x_list의 원소들 중 최댓값 출력\n",
    "print(f'{max(x_list) = }')\n",
    "\n",
    "# x_list의 원소들을 오름차순으로 정렬하여 출력\n",
    "print(f'{sorted(x_list) = }')\n",
    "\n",
    "# x_list의 원소들을 내림차순으로 정렬하여 출력\n",
    "print(f'{sorted(x_list, reverse=True) = }')\n",
    "\n",
    "# x_list의 모든 원소가 참이면(0이 아니면) True, 아니면 False 출력\n",
    "print(f'{all(x_list) = }') # 5번 원소인 float(10-2*5)가 0의 값을 가짐짐\n",
    "\n",
    "# x_list의 모든 원소 중 하나라도 참이면(0이 아니면) True, 아니면 False 출력\n",
    "print(f'{any(x_list) = }') # 5번 원소 제외한 모든 값이 0이 아님"
   ]
  },
  {
   "cell_type": "markdown",
   "metadata": {},
   "source": [
    "#### 객체 메서드를 이용한 리스트와 튜플 다루기 "
   ]
  },
  {
   "cell_type": "code",
   "execution_count": null,
   "metadata": {},
   "outputs": [
    {
     "name": "stdout",
     "output_type": "stream",
     "text": [
      "['__add__', '__class__', '__class_getitem__', '__contains__', '__delattr__', '__delitem__', '__dir__', '__doc__', '__eq__', '__format__', '__ge__', '__getattribute__', '__getitem__', '__getstate__', '__gt__', '__hash__', '__iadd__', '__imul__', '__init__', '__init_subclass__', '__iter__', '__le__', '__len__', '__lt__', '__mul__', '__ne__', '__new__', '__reduce__', '__reduce_ex__', '__repr__', '__reversed__', '__rmul__', '__setattr__', '__setitem__', '__sizeof__', '__str__', '__subclasshook__', 'append', 'clear', 'copy', 'count', 'extend', 'index', 'insert', 'pop', 'remove', 'reverse', 'sort']\n",
      "\n",
      "| 사용가능한 메서드들입니다 | 사용가능한 메서드들입니다 | 사용가능한 메서드들입니다 | 사용가능한 메서드들입니다 | 사용가능한 메서드들입니다 | 사용가능한 메서드들입니다 | 사용가능한 메서드들입니다 | 사용가능한 메서드들입니다 | 사용가능한 메서드들입니다 | 사용가능한 메서드들입니다 \n",
      "\n",
      "['__add__', '__class__', '__class_getitem__', '__contains__', '__delattr__', '__dir__', '__doc__', '__eq__', '__format__', '__ge__', '__getattribute__', '__getitem__', '__getnewargs__', '__getstate__', '__gt__', '__hash__', '__init__', '__init_subclass__', '__iter__', '__le__', '__len__', '__lt__', '__mul__', '__ne__', '__new__', '__reduce__', '__reduce_ex__', '__repr__', '__rmul__', '__setattr__', '__sizeof__', '__str__', '__subclasshook__', 'count', 'index']\n"
     ]
    }
   ],
   "source": [
    "# x_list의 메서드를 확인\n",
    "print(dir(x_list), end='\\n'*2+'| 사용가능한 메서드들입니다 '*10+'\\n'*2)\n",
    "\n",
    "# x_tuple의 메서드를 확인\n",
    "# !! 튜플은 원소의 변경이 불가능하므로 !! 사용 가능한 메서드가 리스트보다 적다.\n",
    "print(dir(x_tuple))"
   ]
  },
  {
   "cell_type": "markdown",
   "metadata": {},
   "source": [
    "##### 각 메서드의 기능 "
   ]
  },
  {
   "cell_type": "code",
   "execution_count": null,
   "metadata": {},
   "outputs": [
    {
     "name": "stdout",
     "output_type": "stream",
     "text": [
      "x_list = [20, 21, 21, 22, 23]\n",
      "값이 21인 인덱스는 2개입니다.\n",
      "값이 21인 인덱스 중 첫번째 인덱스의 번호는 1입니다.\n"
     ]
    }
   ],
   "source": [
    "x_list = [20, 21, 21, 22, 23]\n",
    "print(f'{x_list = }')\n",
    "\n",
    "# x_list에서 2의 개수를 출력\n",
    "print(f'값이 21인 인덱스는 {x_list.count(21)}개입니다.')\n",
    "\n",
    "# x_list에서 2의 첫번째 인덱스를 출력\n",
    "print(f'값이 21인 인덱스 중 첫번째 인덱스의 번호는 {x_list.index(21)}입니다.')"
   ]
  },
  {
   "cell_type": "code",
   "execution_count": null,
   "metadata": {},
   "outputs": [
    {
     "name": "stdout",
     "output_type": "stream",
     "text": [
      "x_list = [23, 22, 21, 21, 20]\n",
      "\n",
      "x_list = [25, 23, 22, 21, 21, 20]\n",
      "\n",
      "x_list = [25, 23, 22, 21, 21, 20, 22, 23] - 연결 완료!\n",
      "x_list = [25, 23, 23, 22, 22, 21, 21, 20] - 재정렬 완료! \n",
      "\n",
      "x_list = [25, 23, 23, 22, 22, 21, 21, 20, [19, 18]]\n",
      "x_list = [26, 25, 23, 23, 22, 22, 21, 21, 20, [19, 18]]\n",
      "x_list = [26, 25, 23, 23, 22, 22, 21, 21, 20]\n"
     ]
    }
   ],
   "source": [
    "# x_list를 올림차순으로 정렬해서 역순으로 변경 \n",
    "x_list.sort()\n",
    "x_list.reverse()\n",
    "\n",
    "# x_list를 역순으로 변경해서 올림차순으로 변경\n",
    "print(f'{x_list = }\\n')\n",
    "\n",
    "# x_list의 append 메소드를 이용하여 25를 추가 후 재정렬\n",
    "x_list.append(25)\n",
    "x_list.sort()\n",
    "x_list.reverse()\n",
    "print(f'{x_list = }\\n')\n",
    "\n",
    "# x_list의 extend 메소드를 이용하여 [22, 23]을 연결 후 재정렬\n",
    "x_list.extend([22, 23])\n",
    "print(f'{x_list = } - 연결 완료!')\n",
    "\n",
    "x_list.sort()\n",
    "x_list.reverse()\n",
    "print(f'{x_list = } - 재정렬 완료! \\n')\n",
    "\n",
    "# x_list의 append 메소드를 이용하여 [19, 18]을을 추가\n",
    "x_list.append([19, 18])\n",
    "print(f'{x_list = }')\n",
    "\n",
    "# x_list의 insert 메소드를 이용하여 인덱스 0에 26 추가\n",
    "x_list.insert(0, 26)\n",
    "print(f'{x_list = }')\n",
    "\n",
    "# x_list의 remove 메소드를 이용하여 [19, 18]을 찾아서 삭제\n",
    "x_list.remove([19, 18])\n",
    "print(f'{x_list = }')"
   ]
  },
  {
   "cell_type": "code",
   "execution_count": null,
   "metadata": {},
   "outputs": [
    {
     "name": "stdout",
     "output_type": "stream",
     "text": [
      "x_list = [26, 25, 23, 23, 22, 22, 21, 21]\n",
      "x_list = [23, 23, 22, 22, 21, 21]\t x_pop =[26, 25]\n",
      "\n",
      "x_pop의 자료형은 <class 'list'>입니다.\n"
     ]
    }
   ],
   "source": [
    "# x_list의 pop 메소드를 이용하여 마지막 원소를 삭제\n",
    "x_list.pop()\n",
    "print(f'{x_list = }')\n",
    "\n",
    "# x_list의 pop 메소드를 이용하여 인덱스 0과 1의 원소를 삭제하고, 삭제한 값을 x_pop에 할당\n",
    "x_pop = [(x_list.pop(0)), (x_list.pop(0))] # 리스트 형식으로 할당\n",
    "# 순차적으로 삭제되므로 인덱스 0인 26을 삭제하면 그 다음 원소 25가 0이 되므로,\n",
    "# x_list.pop(0)을 두 번 할당해야 한다\n",
    "\n",
    "# x_list와 x_pop 출력력\n",
    "print(f'{x_list = }\\t {x_pop =}\\n')\n",
    "\n",
    "# x_pop의 자료형 확인\n",
    "print(f'x_pop의 자료형은 {type(x_pop)}입니다.')"
   ]
  },
  {
   "cell_type": "code",
   "execution_count": null,
   "metadata": {},
   "outputs": [
    {
     "name": "stdout",
     "output_type": "stream",
     "text": [
      "x_list = []\n",
      "Error: name 'x_list' is not defined\n"
     ]
    }
   ],
   "source": [
    "# x_list의 clear 메소드를 이용하여 모든 원소를 삭제\n",
    "x_list.clear()\n",
    "print(f'{x_list = }')\n",
    "\n",
    "# x_list를 삭제\n",
    "del x_list\n",
    "\n",
    "try:\n",
    "    # x_list의 값을 출력\n",
    "    print(f'{x_list = }')\n",
    "except NameError as e:\n",
    "    print(f'Error: {e}')"
   ]
  },
  {
   "cell_type": "markdown",
   "metadata": {},
   "source": [
    "### 문자열\n",
    "##### 문자열 생성"
   ]
  },
  {
   "cell_type": "code",
   "execution_count": null,
   "metadata": {},
   "outputs": [
    {
     "name": "stdout",
     "output_type": "stream",
     "text": [
      " 안녕하세요 저는 김민수 입니다. \n",
      "저는 법학과에 다니고 있습니다.\n",
      "\n",
      "김민수 \n",
      "\\법학과 \n",
      "\\C381016 \n",
      "3학년 \n"
     ]
    }
   ],
   "source": [
    "# 문자열의 변수에 할당 후 f-string과 작은따옴표 3개 이용하여 출력\n",
    "X = '김민수'\n",
    "Y = \"법학과\"\n",
    "print(f''' 안녕하세요 저는 {X} 입니다. \n",
    "저는 {Y}에 다니고 있습니다.\\n''')\n",
    "\n",
    "# 작은 따옴표와 이스케이프 문자를 함께 사용하여 출력\n",
    "print( '''김민수 \\n\\\\법학과 \n",
    "\\\\C381016 \\n3학년 ''')"
   ]
  },
  {
   "cell_type": "code",
   "execution_count": null,
   "metadata": {},
   "outputs": [
    {
     "name": "stdout",
     "output_type": "stream",
     "text": [
      "배가 \n",
      "고픕니다… \n",
      "밥…\n",
      "주세요.. \n"
     ]
    }
   ],
   "source": [
    "# 큰따옴표 3개로 문자열을 변수에 할당하여 출력   \n",
    "Hi = \"\"\"배가 \n",
    "고픕니다… \n",
    "밥…\n",
    "주세요.. \"\"\"\n",
    "\n",
    "print(Hi)"
   ]
  },
  {
   "cell_type": "markdown",
   "metadata": {},
   "source": [
    "#### 이스케이프 문자 "
   ]
  },
  {
   "cell_type": "code",
   "execution_count": null,
   "metadata": {},
   "outputs": [
    {
     "name": "stdout",
     "output_type": "stream",
     "text": [
      "\"수틀리면 빠꾸!!\" 관식이가 말했다. \n",
      "금명이는 아빠의 '첫사랑' 이었다. \n",
      "\\딸을 향해 손을 흔들며\\ \t\"어여 들어가.\" \n",
      "관식의 눈에 금명이는 여전히 7살 그대로 남아있다.\n"
     ]
    }
   ],
   "source": [
    "# 작은따옴표 3개, \\n,  \\t,  \\\\,  \\',  \\\" 을 한 변수 안에 문자열로 할당하여 출력해보기\n",
    "drama = '''\\\"수틀리면 빠꾸!!\\\" 관식이가 말했다. \\n금명이는 아빠의 \\'첫사랑\\' 이었다. \n",
    "\\\\딸을 향해 손을 흔들며\\\\ \\t\\\"어여 들어가.\\\" \\n관식의 눈에 금명이는 여전히 7살 그대로 남아있다.''' \n",
    "\n",
    "print(drama)"
   ]
  },
  {
   "cell_type": "markdown",
   "metadata": {},
   "source": [
    "#### 문자열의 종류 "
   ]
  },
  {
   "cell_type": "code",
   "execution_count": null,
   "metadata": {},
   "outputs": [
    {
     "name": "stdout",
     "output_type": "stream",
     "text": [
      "\\\"수틀리면 빠꾸!!\\\" {string_x}이가 말했다. \\n{string_y}이는 아빠의 \\'첫사랑\\' 이었다.\n",
      "\\\\딸을 향해 손을 흔들며\\\\ \\t\\\"어여 들어가.\\\" \\n{string_x}의 눈에 {string_y}이는 여전히 7살 그대로 남아있다.\n"
     ]
    }
   ],
   "source": [
    "# 문자열 변수 생성\n",
    "string_x = '관식'\n",
    "string_y = '금명'\n",
    "\n",
    "# r-string\n",
    "R_string = r'''\\\"수틀리면 빠꾸!!\\\" {string_x}이가 말했다. \\n{string_y}이는 아빠의 \\'첫사랑\\' 이었다.\n",
    "\\\\딸을 향해 손을 흔들며\\\\ \\t\\\"어여 들어가.\\\" \\n{string_x}의 눈에 {string_y}이는 여전히 7살 그대로 남아있다.'''\n",
    "\n",
    "print(R_string)"
   ]
  },
  {
   "cell_type": "code",
   "execution_count": null,
   "metadata": {},
   "outputs": [
    {
     "name": "stdout",
     "output_type": "stream",
     "text": [
      "관식\n",
      "금명\n",
      "\"수틀리면 빠꾸!!\" 관식이가 말했다. \n",
      "금명이는 아빠의 '첫사랑' 이었다.\n",
      "\\딸을 향해 손을 흔들며\\ \t\"어여 들어가.\" \n",
      "관식의 눈에 금명이는 여전히 7살 그대로 남아있다.\n"
     ]
    }
   ],
   "source": [
    "# f-string\n",
    "F_string = f'''\\\"수틀리면 빠꾸!!\\\" {string_x}이가 말했다. \\n{string_y}이는 아빠의 \\'첫사랑\\' 이었다.\n",
    "\\\\딸을 향해 손을 흔들며\\\\ \\t\\\"어여 들어가.\\\" \\n{string_x}의 눈에 {string_y}이는 여전히 7살 그대로 남아있다.'''\n",
    "\n",
    "print(f\"\"\"{string_x}\\n{string_y}\n",
    "{F_string}\"\"\")\n"
   ]
  },
  {
   "cell_type": "markdown",
   "metadata": {},
   "source": [
    "#### 문자열의 인덱싱과 슬라이싱 "
   ]
  },
  {
   "cell_type": "code",
   "execution_count": null,
   "metadata": {},
   "outputs": [
    {
     "name": "stdout",
     "output_type": "stream",
     "text": [
      "아리가토 고자이마스\n",
      "\n",
      "아\n",
      "기다리고\n",
      "기다리던\n",
      "파이썬수업\n",
      "\n",
      "다던이수\n",
      "업썬파리기리기\n"
     ]
    }
   ],
   "source": [
    "# 문자열 생성 후 인덱싱, 슬라이싱\n",
    "string1 = '아이우에오 가기구게고 사시스세소 자지즈제조 타치츠테토 라리루레로 마미무메모'\n",
    "string2 = '아기다리고기다리던파이썬수업'\n",
    "\n",
    "# ------인덱싱-------\n",
    "print(f'{string1[0]}{string1[-10]}{string1[6]}{string1[-13]} {string1[10]}{string1[18]}{string1[1]}{string1[-5]}{string1[14]}\\n')\n",
    "\n",
    "# ------슬라이싱------\n",
    "print(f'''{string2[0]}\n",
    "{string2[1:5]}\n",
    "{string2[-9:-5]}\n",
    "{string2[-5:]}\n",
    "\n",
    "{string2[6::2]}\n",
    "{string2[::-2]}''')\n"
   ]
  },
  {
   "cell_type": "code",
   "execution_count": null,
   "metadata": {},
   "outputs": [
    {
     "data": {
      "text/plain": [
       "'에'"
      ]
     },
     "execution_count": 52,
     "metadata": {},
     "output_type": "execute_result"
    }
   ],
   "source": [
    "# print 함수 없이 인덱싱하면 마지막 인덱싱만 출력됨. 슬라이싱도 마찬가지\n",
    "string1[1]\n",
    "string1[2]\n",
    "string1[3]"
   ]
  },
  {
   "cell_type": "markdown",
   "metadata": {},
   "source": [
    "#### 문자열 연산 "
   ]
  },
  {
   "cell_type": "code",
   "execution_count": null,
   "metadata": {},
   "outputs": [
    {
     "name": "stdout",
     "output_type": "stream",
     "text": [
      " 오늘은 25년 4월 15일 입니다.\n",
      "\n",
      "False\n",
      "True\n",
      "False\n"
     ]
    }
   ],
   "source": [
    "string = '\\\"배고파!\\\" '*4 + '\\t그녀가 말했다' + '\\n'*2+'\\‘다이어트 해야지.\\'' + '\\t그녀의 이성이 말했다.'\n",
    "\n",
    "# 문자열 관련 함수\n",
    "\n",
    "string_x = '안녕하세요 지금은 2025년입니다. 화이팅!!'\n",
    "string_y = '4월이다'\n",
    "string_z = '오늘은 15일 화요일입니다.'\n",
    "\n",
    "print(f' 오늘은 {len(string_x)}년 {len(string_y)}월 {len(string_z)}일 입니다.\\n')\n",
    "\n",
    "print('2024' in string_x)\n",
    "print('4' in string_y)\n",
    "print('화요일' not in string_z)\n"
   ]
  },
  {
   "cell_type": "markdown",
   "metadata": {},
   "source": [
    "### 딕셔너리\n",
    "##### Dictionary 생성 및 선언\n",
    "- Dictionary 생성"
   ]
  },
  {
   "cell_type": "code",
   "execution_count": 77,
   "metadata": {},
   "outputs": [
    {
     "name": "stdout",
     "output_type": "stream",
     "text": [
      "Before: \n",
      "my_dict1 = {}\n",
      "my_dict2 = {}\n",
      "Error: unhashable type: 'dict'\n",
      "\n",
      "After: \n",
      "{'name': '상법총칙', 'number': 346.5106, 'place': '법학도서관'} \n",
      "{'name': '상법총칙', 'number': 346.5106, 'place': '법학도서관'}\n"
     ]
    }
   ],
   "source": [
    "# 빈 딕셔너리\n",
    "my_dict1 = {} #중괄호\n",
    "my_dict2 = dict() # dict 함수\n",
    "\n",
    "print(f'Before: \\n{my_dict1 = }\\n{my_dict2 = }')\n",
    "\n",
    "\n",
    "# 요소있는 딕셔너리 생성\n",
    "my_dict1 = {'name':'상법총칙', 'number': 346.5106, 'place':'법학도서관'} # 기본형 key, value\n",
    "my_dict2 = dict(name='상법총칙', number=346.5106, place='법학도서관') # dict 함수 key=value\n",
    "\n",
    "# 딕셔너리 함수는 해당 코드처럼 중괄호에만 넣어 출력 불가\n",
    "# {}는 set 변환 코드, 딕셔너리는 mutable 객체라 불가 \n",
    "try: \n",
    "    print({my_dict1})\n",
    "except TypeError as e:\n",
    "    print(f'Error: {e}\\n')\n",
    "\n",
    "print(f'After: \\n{my_dict1} \\n{my_dict2}')"
   ]
  },
  {
   "cell_type": "code",
   "execution_count": 78,
   "metadata": {},
   "outputs": [
    {
     "name": "stdout",
     "output_type": "stream",
     "text": [
      "Before: {'name': '상법총칙', 'number': 346.5106, 'place': '법학도서관'}\n",
      "After: {'name': '상법총칙', 'place': '법학도서관', 'call_number': 346.5106}\n"
     ]
    }
   ],
   "source": [
    "# dict() 함수에 리스트 요소 추가\n",
    "my_dict3 = dict([('name', '상법총칙'), ('number', 346.5106), ('place', '법학도서관')])\n",
    "print(f'Before: {my_dict3}')\n",
    "\n",
    "# 딕셔너리의 key 변경 (number => call_number)\n",
    "my_dict3['call_number'] = my_dict3['number']\n",
    "del my_dict3['number']\n",
    "\n",
    "print(f'After: {my_dict3}')"
   ]
  },
  {
   "cell_type": "code",
   "execution_count": 80,
   "metadata": {},
   "outputs": [
    {
     "name": "stdout",
     "output_type": "stream",
     "text": [
      "my_dict4 = {'name': '상법총칙', 'number': 346.5106, 'place': '법학도서관'}\n"
     ]
    }
   ],
   "source": [
    "book_keys = ['name', 'number', 'place']\n",
    "book_values = ['상법총칙', 346.5106, '법학도서관']\n",
    "\n",
    "# zip()으로 묶어서 dict()로 변환\n",
    "my_dict4 = dict(zip(book_keys, book_values))\n",
    "print(f'{my_dict4 = }')"
   ]
  },
  {
   "cell_type": "markdown",
   "metadata": {},
   "source": [
    "- Dictionary를 value로 가지는 Dictionary 생성 "
   ]
  },
  {
   "cell_type": "code",
   "execution_count": 81,
   "metadata": {},
   "outputs": [
    {
     "name": "stdout",
     "output_type": "stream",
     "text": [
      "{'name': '상법총칙', 'call_number': 346.5106, 'place': '법학도서관'}\n",
      "{'name': '모순', 'call_number': 812.34, 'place': '중앙도서관', 'author': '양귀자'}\n"
     ]
    }
   ],
   "source": [
    "double_dict ={'A': {'name':'상법총칙', 'call_number':346.5106, 'place':'법학도서관'},\n",
    "               'B': {'name':'모순', 'call_number':812.34, 'place':'중앙도서관', 'author':'양귀자'}}\n",
    "\n",
    "# key 이용해서 double_dict 출력\n",
    "print(f'{double_dict['A']}\\n{double_dict['B']}')"
   ]
  },
  {
   "cell_type": "markdown",
   "metadata": {},
   "source": [
    "- pprint() 사용하여 보기 좋게 출력하기 "
   ]
  },
  {
   "cell_type": "code",
   "execution_count": 82,
   "metadata": {},
   "outputs": [
    {
     "name": "stdout",
     "output_type": "stream",
     "text": [
      "('pprint()도 f-string이 가능, 이렇게 !\\n'\n",
      " \"=>{'A': {'name': '상법총칙', 'call_number': 346.5106, 'place': '법학도서관'}, 'B': \"\n",
      " \"{'name': '모순', 'call_number': 812.34, 'place': '중앙도서관', 'author': '양귀자'}}\")\n"
     ]
    }
   ],
   "source": [
    "# f-string 사용하면 따옴표로 출력\n",
    "from pprint import pprint\n",
    "pprint(f'pprint()도 f-string이 가능, 이렇게 !\\n=>{double_dict}')"
   ]
  },
  {
   "cell_type": "markdown",
   "metadata": {},
   "source": [
    "#### Dictionary 살펴보기 \n",
    "- 형태 확인하기 "
   ]
  },
  {
   "cell_type": "code",
   "execution_count": 83,
   "metadata": {},
   "outputs": [
    {
     "name": "stdout",
     "output_type": "stream",
     "text": [
      "my_dict1 = {'name': '상법총칙', 'number': 346.5106, 'place': '법학도서관'}\n",
      "type(my_dict1) = <class 'dict'>\n",
      "len(my_dict1) = 3\n",
      "True\n",
      "False\n",
      "True\n"
     ]
    }
   ],
   "source": [
    "print(f'{my_dict1 = }') # 확인\n",
    "print(f'{type(my_dict1) = }') # 유형 확인\n",
    "print(f'{len(my_dict1) = }') # 길이 확인\n",
    "\n",
    "# key - value 쌍의 존재 여부 확인\n",
    "print(('name', '상법총칙') in my_dict1.items())\n",
    "\n",
    "# value 존재 여부는 in을 이용하여 확인할 수 없음\n",
    "print(346.5106 in my_dict1)\n",
    "\n",
    "# .value() 를 사용해서 확인 가능\n",
    "print(346.5106 in my_dict1.values())"
   ]
  },
  {
   "cell_type": "markdown",
   "metadata": {},
   "source": [
    "- get() 이용해서 내용 확인하기 "
   ]
  },
  {
   "cell_type": "code",
   "execution_count": 84,
   "metadata": {},
   "outputs": [
    {
     "name": "stdout",
     "output_type": "stream",
     "text": [
      "my_dict1['place'] = '법학도서관'\n",
      "KeyError: 'library'\n",
      "my_dict1.get('library') = None\n",
      "my_dict1.get('library', '근무지') = '근무지'\n"
     ]
    }
   ],
   "source": [
    "# key로 value에 접근\n",
    "print(f'{my_dict1['place'] = }')\n",
    "\n",
    "try:\n",
    "    # key가 없으면 에러 발생\n",
    "    print(f'{my_dict1['library'] = }')\n",
    "except KeyError as e:\n",
    "    print(f'KeyError: {e}')\n",
    "\n",
    "# get() 메서드 사용. key가 없으면 None을 반환. 에러발생하지 않음\n",
    "print(f'{my_dict1.get('library') = }')\n",
    "\n",
    "# key가 없으면 대체값을 반환\n",
    "print(f'{my_dict1.get('library', '근무지') = }')"
   ]
  },
  {
   "cell_type": "code",
   "execution_count": 85,
   "metadata": {},
   "outputs": [
    {
     "name": "stdout",
     "output_type": "stream",
     "text": [
      "KeyError: 'author1'\n",
      "double_dict.get('B') = {}\n"
     ]
    }
   ],
   "source": [
    "# 중첩된 dict의 값에 접근\n",
    "try:\n",
    "    # key가 없으면 에러 발생\n",
    "    print(f\"{double_dict['B']['author1'] = }\")\n",
    "except KeyError as e:\n",
    "    print(f'KeyError: {e}')\n",
    "\n",
    "# key 'B'의 value를 삭제\n",
    "double_dict['B'].clear()\n",
    "\n",
    "# get() 메서드 사용. value가 없어도 key가 있으면 '' 반환. 에러발생하지 않음\n",
    "print(f\"{double_dict.get('B') = }\")"
   ]
  },
  {
   "cell_type": "markdown",
   "metadata": {},
   "source": [
    "- 메서드를 이용하기 "
   ]
  },
  {
   "cell_type": "code",
   "execution_count": 86,
   "metadata": {},
   "outputs": [
    {
     "name": "stdout",
     "output_type": "stream",
     "text": [
      "['__class__', '__class_getitem__', '__contains__', '__delattr__', '__delitem__', '__dir__', '__doc__', '__eq__', '__format__', '__ge__', '__getattribute__', '__getitem__', '__getstate__', '__gt__', '__hash__', '__init__', '__init_subclass__', '__ior__', '__iter__', '__le__', '__len__', '__lt__', '__ne__', '__new__', '__or__', '__reduce__', '__reduce_ex__', '__repr__', '__reversed__', '__ror__', '__setattr__', '__setitem__', '__sizeof__', '__str__', '__subclasshook__', 'clear', 'copy', 'fromkeys', 'get', 'items', 'keys', 'pop', 'popitem', 'setdefault', 'update', 'values']\n",
      "\n",
      "double_dict.keys() = dict_keys(['A', 'B'])\n",
      "double_dict.values() = dict_values([{'name': '상법총칙', 'call_number': 346.5106, 'place': '법학도서관'}, {}])\n",
      "double_dict.items() = dict_items([('A', {'name': '상법총칙', 'call_number': 346.5106, 'place': '법학도서관'}), ('B', {})])\n",
      "\n",
      "double_dict2 = {'A': {'name': '상법총칙', 'call_number': 346.5106, 'place': '법학도서관'}, 'B': {}}\n",
      "double_dict = {'A': {'name': '상법총칙', 'call_number': 346.5106, 'place': '법학도서관'}, 'B': {}}\n",
      "double_dict.update(key) = None\n",
      "double_dict = {'A': {'name': '상법총칙', 'call_number': 346.5106, 'place': '법학도서관'}, 'B': {}, 'C': {'novel': 800}}\n",
      "\n"
     ]
    }
   ],
   "source": [
    "# double_dict의 메서드 목록 확인\n",
    "print(f'{dir(double_dict)}\\n')\n",
    "\n",
    "# 'items', 'keys', 'values', 'copy', 'update'\n",
    "\n",
    "# key 목록 가져오기\n",
    "print(f'{double_dict.keys() = }')\n",
    "\n",
    "# 값 목록 가져오기\n",
    "print(f'{double_dict.values() = }')\n",
    "\n",
    "# 키와 값의 쌍을 가져오기\n",
    "print(f'{double_dict.items() = }\\n')\n",
    "\n",
    "# copy 메서드로 깊은 복사하기\n",
    "double_dict2 = double_dict.copy()\n",
    "print(f'{double_dict2 = }')\n",
    "\n",
    "double_dict2['A'] = {'name':'물권각론'}\n",
    "print(f'{double_dict = }')  \n",
    "\n",
    "# update 메서드로 key - value 쌍 추가\n",
    "key = {'C':{'novel':800}}\n",
    "print(f'{double_dict.update(key) = }') # update 메서드는 값을 반환하지 않고 추가만 한다.\n",
    "print(f'{double_dict = }\\n')\n"
   ]
  },
  {
   "cell_type": "markdown",
   "metadata": {},
   "source": [
    "#### Dictionary 요소 추가, 삭제 수정하기 \n",
    "- 요소 추가 및 삭제, 수정하기 "
   ]
  },
  {
   "cell_type": "code",
   "execution_count": 87,
   "metadata": {},
   "outputs": [
    {
     "name": "stdout",
     "output_type": "stream",
     "text": [
      "my_dict1 = {'name': '상법총칙', 'number': 346.5106, 'place': '법학도서관'}\n",
      "my_dict1 = {'name': '상법총칙', 'number': 346.5106, 'place': '법학도서관', 'novel': 800}\n",
      "my_dict1 = {'name': '상법총칙', 'number': 346.5106, 'place': '법학도서관'}\n",
      "my_dict1 = {'name': '상법총칙', 'number': 346.5106, 'place': '법학도서관', 'novel': 800}\n",
      "my_dict1 = {'name': '상법총칙', 'number': 346.5106, 'place': '법학도서관', 'novel': 900}\n"
     ]
    }
   ],
   "source": [
    "print(f'{my_dict1 = }')\n",
    "\n",
    "# 새로운 키와 값을 추가\n",
    "my_dict1[\"novel\"] = 800\n",
    "print(f'{my_dict1 = }')\n",
    "\n",
    "# 키와 값을 삭제\n",
    "del my_dict1[\"novel\"]\n",
    "print(f'{my_dict1 = }')\n",
    "\n",
    "# 키가 있으면 값을 수정, 없으면 추가\n",
    "my_dict1[\"novel\"] = 800 # 키가 없어서 추가\n",
    "print(f'{my_dict1 = }')\n",
    "\n",
    "my_dict1[\"novel\"] = 900 # 키가 있어서 수정\n",
    "print(f'{my_dict1 = }')"
   ]
  },
  {
   "cell_type": "markdown",
   "metadata": {},
   "source": [
    "- update()를 이용하여 여러 요소 한번에 수정하기 "
   ]
  },
  {
   "cell_type": "code",
   "execution_count": 88,
   "metadata": {},
   "outputs": [
    {
     "name": "stdout",
     "output_type": "stream",
     "text": [
      "my_dict1 = {'name': '헌법통치구조론', 'number': 346.5106, 'place': '법학도서관', 'novel': 900, 'author': '김주환'}\n"
     ]
    }
   ],
   "source": [
    "# key인 name의 값은 수정, 새로운 {author:'주강원'} 추가\n",
    "my_dict1.update(name='헌법통치구조론', author='김주환') # 여기서 key는 문자열 변수처럼 사용해야 함(숫자,'' 안됨)\n",
    "print(f'{my_dict1 = }')"
   ]
  },
  {
   "cell_type": "code",
   "execution_count": 89,
   "metadata": {},
   "outputs": [
    {
     "name": "stdout",
     "output_type": "stream",
     "text": [
      "my_dict1 = {'name': '헌법통치구조론', 'number': 346.5106, 'place': '예약도서목록', 'novel': 900, 'author': '김주환'}\n"
     ]
    }
   ],
   "source": [
    "# 다른 dict를 통째로 추가\n",
    "my_dict2 = {'name':'헌법통치구조론', 'place':'예약도서목록'}\n",
    "my_dict1.update(my_dict2)\n",
    "print(f'{my_dict1 = }')"
   ]
  },
  {
   "cell_type": "markdown",
   "metadata": {},
   "source": [
    "- pop()을 이용하여 요소 삭제하고 저장하기 "
   ]
  },
  {
   "cell_type": "code",
   "execution_count": 90,
   "metadata": {},
   "outputs": [
    {
     "name": "stdout",
     "output_type": "stream",
     "text": [
      "Before: my_dict1 = {'name': '헌법통치구조론', 'number': 346.5106, 'place': '예약도서목록', 'novel': 900, 'author': '김주환'}\n",
      "After: my_dict1 = {'name': '헌법통치구조론', 'number': 346.5106, 'place': '예약도서목록', 'author': '김주환'}\n"
     ]
    }
   ],
   "source": [
    "# 키와 값을 삭제\n",
    "print(f'Before: {my_dict1 = }')\n",
    "my_dict1.pop(\"novel\")\n",
    "print(f'After: {my_dict1 = }')"
   ]
  },
  {
   "cell_type": "code",
   "execution_count": 91,
   "metadata": {},
   "outputs": [
    {
     "name": "stdout",
     "output_type": "stream",
     "text": [
      "my_dict1 = {'name': '헌법통치구조론', 'number': 346.5106, 'place': '예약도서목록'}\n",
      "author = '김주환'\n"
     ]
    }
   ],
   "source": [
    "# 키와 값을 삭제하고 값을 반환\n",
    "author = my_dict1.pop('author')\n",
    "print(f'{my_dict1 = }\\n{author = }') "
   ]
  },
  {
   "cell_type": "markdown",
   "metadata": {},
   "source": [
    "- pop()의 두번째 인자로 default 값을 지정하여 에러 회피하기 "
   ]
  },
  {
   "cell_type": "code",
   "execution_count": 92,
   "metadata": {},
   "outputs": [
    {
     "name": "stdout",
     "output_type": "stream",
     "text": [
      "KeyError: 'author'\n",
      "author = 'novel'\n"
     ]
    }
   ],
   "source": [
    "try:\n",
    "    # 키가 없으면 에러발생\n",
    "    my_dict1.pop(\"author\")\n",
    "except KeyError as e:\n",
    "    print(f'KeyError: {e}')\n",
    "\n",
    "# pop()을 사용하면, 키가 없어도 에러발생하지 않음\n",
    "author = my_dict1.pop(\"author\", \"novel\")\n",
    "print(f'{author = }')"
   ]
  },
  {
   "cell_type": "markdown",
   "metadata": {},
   "source": [
    "- popitem()을 이용하여 마지막 요소 삭제하기 "
   ]
  },
  {
   "cell_type": "code",
   "execution_count": 93,
   "metadata": {},
   "outputs": [
    {
     "name": "stdout",
     "output_type": "stream",
     "text": [
      "my_dict1 = {'name': '헌법통치구조론', 'number': 346.5106, 'place': '예약도서목록'}\n",
      "my_dict1 = {'name': '헌법통치구조론', 'number': 346.5106}\n",
      "last = ('place', '예약도서목록')\n",
      "my_dict1 = {'name': '헌법통치구조론'}\n",
      "last = ('number', 346.5106)\n"
     ]
    }
   ],
   "source": [
    "print(f'{my_dict1 = }')\n",
    "\n",
    "# 마지막 키와 값을 삭제\n",
    "# 딕셔너리는 원소의 순서가 없어 임의의 키와 값을 삭제하는 것과 동일\n",
    "last = my_dict1.popitem()\n",
    "print(f'{my_dict1 = }\\n{last = }')\n",
    "\n",
    "# 임의의 키와 값을 삭제\n",
    "last = my_dict1.popitem()\n",
    "print(f'{my_dict1 = }\\n{last = }')"
   ]
  },
  {
   "cell_type": "markdown",
   "metadata": {},
   "source": [
    "- clear()을 이용하여 모든 요소 삭제하기 "
   ]
  },
  {
   "cell_type": "code",
   "execution_count": 94,
   "metadata": {},
   "outputs": [
    {
     "name": "stdout",
     "output_type": "stream",
     "text": [
      "my_dict1 = {}\n"
     ]
    }
   ],
   "source": [
    "# 모든 키와 값을 삭제\n",
    "my_dict1.clear()\n",
    "print(f'{my_dict1 = }')"
   ]
  }
 ],
 "metadata": {
  "kernelspec": {
   "display_name": "base",
   "language": "python",
   "name": "python3"
  },
  "language_info": {
   "codemirror_mode": {
    "name": "ipython",
    "version": 3
   },
   "file_extension": ".py",
   "mimetype": "text/x-python",
   "name": "python",
   "nbconvert_exporter": "python",
   "pygments_lexer": "ipython3",
   "version": "3.12.9"
  }
 },
 "nbformat": 4,
 "nbformat_minor": 2
}
