{
 "cells": [
  {
   "cell_type": "markdown",
   "id": "180a3d97",
   "metadata": {},
   "source": [
    "# **C381016 김민수**"
   ]
  },
  {
   "cell_type": "markdown",
   "id": "3af9c2b6",
   "metadata": {},
   "source": [
    "# **컴프리헨션**\n",
    "##### Comprehension 활용법\n",
    "\n",
    "### **컴프리헨션(Comprehension)**\n",
    "- 패턴이 있는 리스트, 딕셔너리, 세트를 간단하게 작성할 수 있는 파이썬만의 고유한 문법\n",
    "- 정식 for문이나 if문을 사용하지 않고 반복적인 데이터 패턴을 생성할 수 있음\n",
    "\n",
    "# **리스트 컴프리헨션**\n",
    "- 컴프리헨션을 이용하여 리스트를 생성하는 방법\n",
    "\n",
    "#### **리스트 컴프리헨션을 사용한 리스트 생성** \n",
    "- [표현식 for 항목 in 반복가능객체]"
   ]
  },
  {
   "cell_type": "code",
   "execution_count": null,
   "id": "2ee53f91",
   "metadata": {},
   "outputs": [
    {
     "name": "stdout",
     "output_type": "stream",
     "text": [
      "nums_comp = [11, 12, 13, 14, 15]\n"
     ]
    }
   ],
   "source": [
    "# 1부터 5까지 순차적으로 num에 대입하고, num+10을 리스트에 추가\n",
    "nums_comp = [num+10 for num in range(1, 6)]\n",
    "print(f'{nums_comp = }') # 리스트 출력 "
   ]
  },
  {
   "cell_type": "markdown",
   "id": "8fb6073b",
   "metadata": {},
   "source": [
    "#### for문을 이용한 리스트 생성과 비교 "
   ]
  },
  {
   "cell_type": "code",
   "execution_count": 2,
   "id": "0ae71038",
   "metadata": {},
   "outputs": [
    {
     "name": "stdout",
     "output_type": "stream",
     "text": [
      "nums_for = [11, 12, 13, 14, 15]\n"
     ]
    }
   ],
   "source": [
    "# 숫자를 담을 수 있는 빈 리스트 생성 \n",
    "nums_for = []\n",
    "\n",
    "# 1부터 5까지 순차적으로 num에 대입 \n",
    "for num in range(1,6):\n",
    "    # append() 함수로 리스트에 num+10 추가\n",
    "    nums_for.append(num+10)\n",
    "\n",
    "# 리스트 출력\n",
    "print(f'{nums_for = }') "
   ]
  },
  {
   "cell_type": "markdown",
   "id": "fdeb0e52",
   "metadata": {},
   "source": [
    "#### map 함수를 사용한 리스트 생성과 비교 \n",
    "- map 함수도 비슷한 기능을 수행할 수 있으나, 컴프리헨션은 map 함수보다 직관적임\n",
    "- map (함수, 리스트) 함수는 리스트나 튜플 자료형의 각 요소를 지정된 함수로 처리해주는 함수 "
   ]
  },
  {
   "cell_type": "code",
   "execution_count": null,
   "id": "1347cfa0",
   "metadata": {},
   "outputs": [
    {
     "data": {
      "text/plain": [
       "15"
      ]
     },
     "execution_count": 3,
     "metadata": {},
     "output_type": "execute_result"
    }
   ],
   "source": [
    "# 입력한 숫자에 10을 더하는 함수를 정의\n",
    "def add_ten(num):\n",
    "    return num + 10\n",
    "\n",
    "# 함수 테스트\n",
    "add_ten(5)"
   ]
  },
  {
   "cell_type": "code",
   "execution_count": 4,
   "id": "fe79a294",
   "metadata": {},
   "outputs": [
    {
     "data": {
      "text/plain": [
       "<map at 0x1a53446cfa0>"
      ]
     },
     "execution_count": 4,
     "metadata": {},
     "output_type": "execute_result"
    }
   ],
   "source": [
    "# map 함수의 동작 확인 -> map 객체가 반환됨\n",
    "map(add_ten, [1, 2, 3, 4, 5])"
   ]
  },
  {
   "cell_type": "code",
   "execution_count": null,
   "id": "0c55ce08",
   "metadata": {},
   "outputs": [
    {
     "data": {
      "text/plain": [
       "[11, 12, 13, 14, 15]"
      ]
     },
     "execution_count": 5,
     "metadata": {},
     "output_type": "execute_result"
    }
   ],
   "source": [
    "# map 객체를 리스트로 변환\n",
    "list(map(add_ten, [1, 2, 3, 4, 5]))"
   ]
  },
  {
   "cell_type": "code",
   "execution_count": 6,
   "id": "b523a6fb",
   "metadata": {},
   "outputs": [
    {
     "name": "stdout",
     "output_type": "stream",
     "text": [
      "nums_map = [11, 12, 13, 14, 15]\n"
     ]
    }
   ],
   "source": [
    "# map을 적용하여 컴프리헨션과 동일한 결과를 얻을 수 있음\n",
    "nums_map = list(map(add_ten, range(1, 6)))\n",
    "print(f'{nums_map = }')"
   ]
  },
  {
   "cell_type": "markdown",
   "id": "ca0cf968",
   "metadata": {},
   "source": [
    "#### 수식을 적용한 리스트 컴프리헨션 \n",
    "- 표현식에 수식을 적용할 수 있음 "
   ]
  },
  {
   "cell_type": "code",
   "execution_count": 8,
   "id": "abe298ab",
   "metadata": {},
   "outputs": [
    {
     "name": "stdout",
     "output_type": "stream",
     "text": [
      "nums_math = [2, 3, 4, 5, 6]\n"
     ]
    }
   ],
   "source": [
    "# 1부터 5까지 순차적으로 num에 대입하고, \n",
    "# num에 2를 곱하고 1을 뺀 값을 리스트에 추가\n",
    "nums_math = [num+2-1 for num in range(1,6)]\n",
    "print(f'{nums_math = }')"
   ]
  },
  {
   "cell_type": "markdown",
   "id": "020d3d09",
   "metadata": {},
   "source": [
    "#### 함수를 적용한 리스트 컴프리헨션\n",
    "- 표현식에 함수를 적용할 수 있음 "
   ]
  },
  {
   "cell_type": "code",
   "execution_count": 9,
   "id": "489f8f94",
   "metadata": {},
   "outputs": [
    {
     "name": "stdout",
     "output_type": "stream",
     "text": [
      "nums_func = ['Int_1', 'Int_2', 'Int_3', 'Int_4', 'Int_5']\n"
     ]
    }
   ],
   "source": [
    "# 입력한 데이터를 문자열로 변환하고 'Int_'를 앞에 붙이는 함수 정의 \n",
    "def addString(x):\n",
    "    return 'Int_' + str(x) \n",
    "\n",
    "# 1부터 5까지 순차적으로 num에 대입하고,\n",
    "# num을 addString() 함수에 대입한 결과를 리스트에 추가\n",
    "nums_func = [addString(num) for num in range(1,  6)]\n",
    "print(f'{nums_func = }') # 리스트 출력 "
   ]
  },
  {
   "cell_type": "markdown",
   "id": "2832d276",
   "metadata": {},
   "source": [
    "### if 조건문을 적용한 리스트 컴프리헨션\n",
    "- if문만 쓸 때는for문 오른쪽에, if else문을 쓸 때는 for문 왼쪽에 작성 "
   ]
  },
  {
   "cell_type": "code",
   "execution_count": 10,
   "id": "60032de0",
   "metadata": {},
   "outputs": [
    {
     "name": "stdout",
     "output_type": "stream",
     "text": [
      "nums_odds = [1, 3, 5]\n"
     ]
    }
   ],
   "source": [
    "# 1부터 5까지 순차적으로 num을 대입하고,\n",
    "# num이 홀수이면 리스트에 추가\n",
    "nums_odds = [num for num in range(1,6) if num % 2 == 1]\n",
    "print(f'{nums_odds = }')"
   ]
  },
  {
   "cell_type": "code",
   "execution_count": 4,
   "id": "8dd5abf3",
   "metadata": {},
   "outputs": [
    {
     "name": "stdout",
     "output_type": "stream",
     "text": [
      "nums_odds_zero = [1, 0, 3, 0, 5]\n"
     ]
    }
   ],
   "source": [
    "# 1부터 5까지 순차적으로 num을 대입하고,\n",
    "# num이 홀수이면 리스트에 추가\n",
    "nums_odds_zero = [num if num % 2 == 1 else 0 for num in range(1, 6)]\n",
    "print(f'{nums_odds_zero = }')"
   ]
  },
  {
   "cell_type": "markdown",
   "id": "abab30eb",
   "metadata": {},
   "source": [
    "- 여러개의 if 조건문을 중첩가능 "
   ]
  },
  {
   "cell_type": "code",
   "execution_count": 103,
   "id": "ec2b245f",
   "metadata": {},
   "outputs": [
    {
     "name": "stdout",
     "output_type": "stream",
     "text": [
      "nums_odds_less4 = [1, 3]\n"
     ]
    }
   ],
   "source": [
    "# 1부터  5까지 순차적으로 num에 대입하고, \n",
    "# num이 홀수이면서 4보다 작으면 리스트에 추가\n",
    "nums_odds_less4 = [num for num in range(1, 6) if num % 2 == 1 if num < 4]\n",
    "print(f'{nums_odds_less4 = }')"
   ]
  },
  {
   "cell_type": "markdown",
   "id": "e8e00b1f",
   "metadata": {},
   "source": [
    "#### 중첩된 리스트 컴프리헨션\n",
    "- 컴프리헨션은 내부에서 for 키워드와 if키워드를 몇번이고 반복할 수 있음 "
   ]
  },
  {
   "cell_type": "code",
   "execution_count": null,
   "id": "647536c2",
   "metadata": {},
   "outputs": [
    {
     "name": "stdout",
     "output_type": "stream",
     "text": [
      "nums_paris = [(1, 'a'), (1, 'b'), (1, 'c'), (2, 'a'), (2, 'b'), (2, 'c')]\n"
     ]
    }
   ],
   "source": [
    "# 1부터 2까지 순차적으로 x에 대입하고,\n",
    "# 1부터 2까지 순차적으로 y에 대입하여 (x, y)를 리스트에 추가\n",
    "# 앞의 for문이 먼저 실행되고, 뒤의 for문이 실행됨\n",
    "nums_pairs = [(x, y) for x in range(1, 3) for y in ['a', 'b', 'c']]\n",
    "print(f'{nums_pairs = }')"
   ]
  },
  {
   "cell_type": "code",
   "execution_count": 10,
   "id": "9b681c1e",
   "metadata": {},
   "outputs": [
    {
     "name": "stdout",
     "output_type": "stream",
     "text": [
      "num_pairs_sum5 = [(1, 4), (2, 3), (3, 2), (4, 1)]\n"
     ]
    }
   ],
   "source": [
    "# 1부터 5까지 순차적으로 x에 대입하고,\n",
    "# 1부터 5까지 순차적으로 y에 대입하여\n",
    "# x+y가 5이면 (x, y)를 리스트에 추가\n",
    "num_pairs_sum5 = [(x, y) for x in range(1, 6) for y in range(1, 6) if x+y==5]\n",
    "print(f'{num_pairs_sum5 = }')"
   ]
  },
  {
   "cell_type": "markdown",
   "id": "c5eb7b63",
   "metadata": {},
   "source": [
    "## 딕셔너리 컴프리헨션 \n",
    "- 리스트 컴프리헨션과 거의 동일한 방식으로 딕셔너리 컴프리헨션을 사용할 수 있음 "
   ]
  },
  {
   "cell_type": "code",
   "execution_count": 11,
   "id": "e359a551",
   "metadata": {},
   "outputs": [
    {
     "name": "stdout",
     "output_type": "stream",
     "text": [
      "students_for = {1: '최딕션', 2: '최딕션', 3: '최딕션', 4: '최딕션'}\n"
     ]
    }
   ],
   "source": [
    "ids =[1, 2, 3, 4]\n",
    "student_names = ['김홍익', '이컴프리', '박헨션', '최딕션']\n",
    "\n",
    "# 중첩된 for문으로는 정상적으로 딕셔너리를 생성할 수 없음\n",
    "students_for = {id:name for id in ids for name in student_names}\n",
    "\n",
    "# 딕셔너리 출력\n",
    "print(f'{students_for = }') "
   ]
  },
  {
   "cell_type": "code",
   "execution_count": 12,
   "id": "4a4073ac",
   "metadata": {},
   "outputs": [
    {
     "name": "stdout",
     "output_type": "stream",
     "text": [
      "{0: '김홍익', 1: '이컴프리', 2: '박헨션', 3: '최딕션'}\n"
     ]
    }
   ],
   "source": [
    "student_names = ['김홍익', '이컴프리', '박헨션', '최딕션']\n",
    "\n",
    "# enumerate() 함수로 인덱스와 값을 동시에 가져옴\n",
    "students_enumerate = {id:name for id, name in enumerate(student_names)}\n",
    "print(f'{students_enumerate}')"
   ]
  },
  {
   "cell_type": "code",
   "execution_count": 13,
   "id": "886bc188",
   "metadata": {},
   "outputs": [
    {
     "name": "stdout",
     "output_type": "stream",
     "text": [
      "students_zip = {1: '김홍익', 2: '이컴프리', 3: '박헨션', 4: '최딕션'}\n"
     ]
    }
   ],
   "source": [
    "ids = [1, 2, 3, 4]\n",
    "student_names = ['김홍익', '이컴프리', '박헨션', '최딕션']\n",
    "\n",
    "# zip() 함수로 두 리스트를 병렬로 가져옴\n",
    "students_zip = {id:name for id, name in zip(ids, student_names)}\n",
    "print(f'{students_zip = }')"
   ]
  },
  {
   "cell_type": "markdown",
   "id": "04517040",
   "metadata": {},
   "source": [
    "## set 컴프리헨션\n",
    "- 리스트 컴프리헨션과 거의 동일한 방식으로 세트 컴프리헨션을 사용할 수 있음\n",
    "- set 기호인 {}를 사용하여 세트 컴프리헨션을 작성 "
   ]
  },
  {
   "cell_type": "code",
   "execution_count": 14,
   "id": "66352201",
   "metadata": {},
   "outputs": [
    {
     "name": "stdout",
     "output_type": "stream",
     "text": [
      "sum_list = [2, 3, 4, 5, 6, 3, 4, 5, 6, 7, 4, 5, 6, 7, 8, 5, 6, 7, 8, 9, 6, 7, 8, 9, 10]\n",
      "\n",
      "sum_set = {2, 3, 4, 5, 6, 7, 8, 9, 10}\n"
     ]
    }
   ],
   "source": [
    "# 1부터 5까지 순차적으로 x에 대입하고,\n",
    "# 1부터 5까지 순차적으로 y에 대입하여 x+y에 대한 리스트 생성 \n",
    "sum_list = [x+y for x in range(1, 6) for y in range(1, 6)]\n",
    "\n",
    "# 리스트 출력. 중복된 값이 있음\n",
    "print(f'{sum_list = }\\n')\n",
    "\n",
    "# 1부터 5까지 순차적으로 x에 대입하고,\n",
    "# 1부터 5까지 순차적으로 y에 대입하여 x+y에 대한 set 생성\n",
    "sum_set = {x+y for x in range(1, 6) for y in range(1, 6)}\n",
    "\n",
    "# set 출력. 중복된 값이 없음\n",
    "print(f'{sum_set = }')"
   ]
  },
  {
   "cell_type": "markdown",
   "id": "d877b4bc",
   "metadata": {},
   "source": [
    "## tuple 컴프리헨션\n",
    "- 튜플 컴프리헨션은은 튜플로 반환되는 것이 아니라 제너레이터로 반환됨\n",
    "- 제너레이터(generator)는 이터레이터를 생성해주는 함수\n",
    "  - range() 함수와 같이 매번 다음 값을 생성해주는 함수\n",
    "- 시퀀스 객체를 통째로 메모리에 생성하지 않고, 필요한 기점에 데이터를 생성하므로 메모리를 효율적으로 사용하기 위해 사용"
   ]
  },
  {
   "cell_type": "code",
   "execution_count": null,
   "id": "5754da01",
   "metadata": {},
   "outputs": [
    {
     "name": "stdout",
     "output_type": "stream",
     "text": [
      "nums_pairs_list = [(1, 'a'), (1, 'b'), (1, 'c'), (2, 'a'), (2, 'b'), (2, 'c')]\n",
      "\n",
      "nums_pairs_tuple = <generator object <genexpr> at 0x0000025EB905C820>\n",
      "tuple(nums_pairs_tuple) = ((1, 'a'), (1, 'b'), (1, 'c'), (2, 'a'), (2, 'b'), (2, 'c'))\n",
      "\n",
      "nums_pairs_tuple2 = ((1, 'a'), (1, 'b'), (1, 'c'), (2, 'a'), (2, 'b'), (2, 'c'))\n"
     ]
    }
   ],
   "source": [
    "# 1부터 2까지 순차적으로 x에 대입하고,\n",
    "# 1부타 2까지 순차적으로 y에 대입하여 (x,y)를 리스트에 추가\n",
    "# 앞의 for문이 먼저 실행되고, 뒤의 for문이 실행됨\n",
    "nums_pairs_list = [(x, y) for x in range(1, 3) for y in ['a', 'b', 'c']]\n",
    "\n",
    "# 리스트 출력\n",
    "print(f'{nums_pairs_list = }\\n')\n",
    "\n",
    "# tuple로 컴프리헨션 적용\n",
    "nums_pairs_tuple = ((x, y) for x in range(1,  3) for y in ['a', 'b', 'c'])\n",
    "\n",
    "# 제너레이터 객체가 생성됨\n",
    "print(f'{nums_pairs_tuple = }')\n",
    "\n",
    "# 튜플로 변환\n",
    "print(f'{tuple(nums_pairs_tuple) = }\\n')\n",
    "\n",
    "# 한 번에 튜플로 컴프리헨션 적용\n",
    "nums_pairs_tuple2 = tuple((x,y) for x in range(1, 3) for y in ['a', 'b', 'c'])\n",
    "print(f'{nums_pairs_tuple2 = }')"
   ]
  },
  {
   "cell_type": "markdown",
   "id": "fda4cfb3",
   "metadata": {},
   "source": [
    "# **응용 - 컴프리헨션**"
   ]
  },
  {
   "cell_type": "markdown",
   "id": "8c0ff6b7",
   "metadata": {},
   "source": [
    "## **리스트 컴프리헨션**\n",
    "#### 리스트 컴프리헨션을 사용한 리스트 생성\n",
    "- [표현식 for 항목 in 반복가능객체]"
   ]
  },
  {
   "cell_type": "code",
   "execution_count": null,
   "id": "0863ef2e",
   "metadata": {},
   "outputs": [
    {
     "name": "stdout",
     "output_type": "stream",
     "text": [
      "bool = [False, False, False, True, True]\n"
     ]
    }
   ],
   "source": [
    "# 1부터 5까지 순차적으로 num에 대입하고, \n",
    "# (num+4)가 7보다 크면 True, 작거나 같으면 False값을 리스트에 추가\n",
    "bool = [(num+4)>7 for num in range(1, 6)]\n",
    "print(f'{bool = }') # 리스트 출력 "
   ]
  },
  {
   "cell_type": "code",
   "execution_count": 13,
   "id": "468667fa",
   "metadata": {},
   "outputs": [
    {
     "name": "stdout",
     "output_type": "stream",
     "text": [
      "nums_comp = [20, 21, 22, 80, 84, 88, 180, 189, 198, 320, 336, 352, 500, 525, 550]\n"
     ]
    }
   ],
   "source": [
    "# 1부터 5까지의 num 범위를 순회하여 num에 대입하고\n",
    "# num의 각 요소를 순회할 때마다 20부터 22까지 대입하여 리스트에 추가\n",
    "nums_comp = [num**2*num2 for num in range(1, 6) for num2 in range(20, 23)]\n",
    "print(f'{nums_comp = }') # 리스트 출력 "
   ]
  },
  {
   "cell_type": "markdown",
   "id": "301bd990",
   "metadata": {},
   "source": [
    "#### for문을 이용한 리스트 생성과 비교 "
   ]
  },
  {
   "cell_type": "code",
   "execution_count": 28,
   "id": "99ef6960",
   "metadata": {},
   "outputs": [
    {
     "name": "stdout",
     "output_type": "stream",
     "text": [
      "word_Index = [0, 1, 2]\n"
     ]
    }
   ],
   "source": [
    "# 빈 리스트 생성\n",
    "word_Index = []\n",
    "\n",
    "# 문자열값을 요소로 갖는 words 리스트 생성\n",
    "words = ['apple', 'banana', 'kiwi']\n",
    "\n",
    "# words 리스트를 순회\n",
    "for word in words:\n",
    "    # word 리스트 요소의 인덱스 번호를 반환한 값을 빈 리스트에 추가\n",
    "    word_Index.append(words.index((word)))\n",
    "\n",
    "# 리스트 출력\n",
    "print(f'{word_Index = }')"
   ]
  },
  {
   "cell_type": "code",
   "execution_count": 24,
   "id": "5e2201ff",
   "metadata": {},
   "outputs": [
    {
     "name": "stdout",
     "output_type": "stream",
     "text": [
      "sorted_nums = [1, 2, 3, 4, 5]\n"
     ]
    }
   ],
   "source": [
    "# 빈 리스트 생성\n",
    "sorted_nums = []\n",
    "\n",
    "# 5부터 1까지 역순으로 num에 대입\n",
    "for num in sorted(range(5, 0, -1)):\n",
    "    # 정렬하는 sorted 메서드와 append()함수로 리스트에 num 추가\n",
    "    sorted_nums.append(num)\n",
    "\n",
    "# 정렬되어 리스트 출력\n",
    "print(f'{sorted_nums = }') "
   ]
  },
  {
   "cell_type": "markdown",
   "id": "394a9666",
   "metadata": {},
   "source": [
    "#### map 함수를 사용한 리스트 생성과 비교 \n",
    "- map 함수도 비슷한 기능을 수행할 수 있으나, 컴프리헨션은 map 함수보다 직관적임\n",
    "- map (함수, 리스트) 함수는 리스트나 튜플 자료형의 각 요소를 지정된 함수로 처리해주는 함수 "
   ]
  },
  {
   "cell_type": "code",
   "execution_count": 47,
   "id": "0cc40d9c",
   "metadata": {},
   "outputs": [
    {
     "data": {
      "text/plain": [
       "'23살입니다'"
      ]
     },
     "execution_count": 47,
     "metadata": {},
     "output_type": "execute_result"
    }
   ],
   "source": [
    "# 문자열을 반환하는 함수를 정의\n",
    "def calcul(num):\n",
    "    return f'{num}살입니다'\n",
    "\n",
    "# 함수 테스트\n",
    "calcul(23)"
   ]
  },
  {
   "cell_type": "code",
   "execution_count": 48,
   "id": "348a3974",
   "metadata": {},
   "outputs": [
    {
     "data": {
      "text/plain": [
       "<map at 0x21cec7579a0>"
      ]
     },
     "execution_count": 48,
     "metadata": {},
     "output_type": "execute_result"
    }
   ],
   "source": [
    "# map 함수의 동작 확인 -> map 객체가 반환됨\n",
    "map(calcul, [20, 21, 22, 23, 24])"
   ]
  },
  {
   "cell_type": "code",
   "execution_count": 49,
   "id": "635b5caa",
   "metadata": {},
   "outputs": [
    {
     "data": {
      "text/plain": [
       "['20살입니다', '21살입니다', '22살입니다', '23살입니다', '24살입니다']"
      ]
     },
     "execution_count": 49,
     "metadata": {},
     "output_type": "execute_result"
    }
   ],
   "source": [
    "# map 객체를 리스트로 변환\n",
    "list(map(calcul, [20, 21, 22, 23, 24]))"
   ]
  },
  {
   "cell_type": "code",
   "execution_count": 51,
   "id": "f2d609a6",
   "metadata": {},
   "outputs": [
    {
     "name": "stdout",
     "output_type": "stream",
     "text": [
      "nums_map = ['20살입니다', '21살입니다', '22살입니다', '23살입니다', '24살입니다']\n"
     ]
    }
   ],
   "source": [
    "# map을 적용하여 컴프리헨션과 동일한 결과를 얻을 수 있음\n",
    "nums_map = list(map(calcul, range(20, 25)))\n",
    "print(f'{nums_map = }')"
   ]
  },
  {
   "cell_type": "markdown",
   "id": "4a693ef3",
   "metadata": {},
   "source": [
    "#### 수식을 적용한 리스트 컴프리헨션 \n",
    "- 표현식에 수식을 적용할 수 있음 "
   ]
  },
  {
   "cell_type": "code",
   "execution_count": 57,
   "id": "e2a6a5fd",
   "metadata": {},
   "outputs": [
    {
     "name": "stdout",
     "output_type": "stream",
     "text": [
      "nums_math = [10, 4, 0, -2, -2, 0, 4, 10, 18, 28]\n"
     ]
    }
   ],
   "source": [
    "# 0부터 10까지 순차적으로 num에 대입하고, \n",
    "# num이 x인 2차 방정식에 순차적으로 대입한 값을 리스트에 추가\n",
    "nums_math = [num**2-7*num+10 for num in range(0,10)]\n",
    "print(f'{nums_math = }')"
   ]
  },
  {
   "cell_type": "code",
   "execution_count": 68,
   "id": "3c320080",
   "metadata": {},
   "outputs": [
    {
     "name": "stdout",
     "output_type": "stream",
     "text": [
      "nums = [True, True, False, True, True, False, True, True, True, True]\n"
     ]
    }
   ],
   "source": [
    "# bool함수 안의 2차 방정식의 근을 넣을 때 False값을 리스트에 추가 \n",
    "# 근이 아니면 True값 추가\n",
    "nums = [bool(num**2-7*num+10) for num in range(0, 10)]\n",
    "print(f'{nums = }')"
   ]
  },
  {
   "cell_type": "markdown",
   "id": "78d4562c",
   "metadata": {},
   "source": [
    "#### 함수를 적용한 리스트 컴프리헨션\n",
    "- 표현식에 함수를 적용할 수 있음 "
   ]
  },
  {
   "cell_type": "code",
   "execution_count": 84,
   "id": "a195bf71",
   "metadata": {},
   "outputs": [
    {
     "name": "stdout",
     "output_type": "stream",
     "text": [
      "i = ['1번 회원 minsoo님', '2번 회원 inseong님', '3번 회원 jeongseo님']\n"
     ]
    }
   ],
   "source": [
    "# 2개의 매개변수를 갖고 값을 문자열로 반환하는 함수 정의\n",
    "def num_name(num, name):\n",
    "    return f'{num}번 회원 {name}님'\n",
    "\n",
    "# 매개변수에 대입할 리스트 생성\n",
    "names = ['minsoo', 'inseong', 'jeongseo']\n",
    "# zip() 사용하여 n에는 1부터 3을 대입하고 m에는 리스트를 대입해서 리스트에 추가 \n",
    "i = [num_name(n,m) for n, m in zip(range(1, 4), names)]\n",
    "print(f'{i = }') # 리스트 출력"
   ]
  },
  {
   "cell_type": "code",
   "execution_count": 72,
   "id": "d4283f64",
   "metadata": {},
   "outputs": [
    {
     "name": "stdout",
     "output_type": "stream",
     "text": [
      "subjects = ['math(0번 인덱스)', 'english(1번 인덱스)', 'science(2번 인덱스)']\n"
     ]
    }
   ],
   "source": [
    "# 과목 리스트 생성\n",
    "words = ['math', 'english', 'science']\n",
    "\n",
    "# 입력한 데이터와 인덱스 번호값을 문자열로 반환 \n",
    "def num_index(word):\n",
    "    return f'{word}({words.index(word)}번 인덱스)'\n",
    "\n",
    "# w를 num_index() 함수에 대입한 결과를 리스트에 추가\n",
    "subjects = [num_index(w) for w in words]\n",
    "print(f'{subjects = }') # 리스트 출력\n"
   ]
  },
  {
   "cell_type": "markdown",
   "id": "44524c0e",
   "metadata": {},
   "source": [
    "### if 조건문을 적용한 리스트 컴프리헨션\n",
    "- if문만 쓸 때는for문 오른쪽에, if else문을 쓸 때는 for문 왼쪽에 작성 "
   ]
  },
  {
   "cell_type": "code",
   "execution_count": 88,
   "id": "150dddac",
   "metadata": {},
   "outputs": [
    {
     "name": "stdout",
     "output_type": "stream",
     "text": [
      "nums_six = [12, 24, 36]\n"
     ]
    }
   ],
   "source": [
    "# 1부터 36까지 순차적으로 num을 대입하고,\n",
    "# num이 4와 6의 공배수면 리스트에 추가\n",
    "nums_six = [num for num in range(1,37) if num % 6 == 0 and num % 4 == 0]\n",
    "print(f'{nums_six = }')"
   ]
  },
  {
   "cell_type": "code",
   "execution_count": 93,
   "id": "cc4ac76e",
   "metadata": {},
   "outputs": [
    {
     "name": "stdout",
     "output_type": "stream",
     "text": [
      "nums_words = ['꽝', '기린', '꽝']\n"
     ]
    }
   ],
   "source": [
    "# 리스트 값에 순차적으로 num을 대입하고,\n",
    "# str.count(num)의 값이 2면 리스트에 값 그대로, 2가 아니면 '꽝'으로 추가\n",
    "str = '내가 그린 기린 그림은 잘 그림 기린 그림이다'\n",
    "words = ['그린', '기린', '그림']\n",
    "nums_words = [num if str.count(num) == 2 else f'꽝' for num in words]\n",
    "print(f'{nums_words = }')"
   ]
  },
  {
   "cell_type": "markdown",
   "id": "9820dbcb",
   "metadata": {},
   "source": [
    "- 여러개의 if 조건문을 중첩가능 "
   ]
  },
  {
   "cell_type": "code",
   "execution_count": 116,
   "id": "350124bb",
   "metadata": {},
   "outputs": [
    {
     "name": "stdout",
     "output_type": "stream",
     "text": [
      "nums_five = [625, 900]\n",
      "nums_five = [625, 900]\n",
      "nums_five = [25, 100, 225, 400, 441, 484, 529, 576, 625, 676, 729, 784, 841, 900]\n"
     ]
    }
   ],
   "source": [
    "# 1부터  30까지 순차적으로 num에 대입하고, \n",
    "# num이 5의 배수이면서 20보다 작으면 리스트에 추가\n",
    "nums_five = [num**2 for num in range(1, 31) if num % 5 == 0 if num > 20]\n",
    "print(f'{nums_five = }')\n",
    "\n",
    "nums_five = [num**2 for num in range(1, 31) if num % 5 == 0 and num > 20] # and\n",
    "print(f'{nums_five = }')\n",
    "\n",
    "nums_five = [num**2 for num in range(1, 31) if num % 5 == 0 or num > 20] # or\n",
    "print(f'{nums_five = }')"
   ]
  },
  {
   "cell_type": "markdown",
   "id": "61d92bc8",
   "metadata": {},
   "source": [
    "#### 중첩된 리스트 컴프리헨션\n",
    "- 컴프리헨션은 내부에서 for 키워드와 if키워드를 몇번이고 반복할 수 있음 "
   ]
  },
  {
   "cell_type": "code",
   "execution_count": null,
   "id": "5ae3ef0d",
   "metadata": {},
   "outputs": [
    {
     "name": "stdout",
     "output_type": "stream",
     "text": [
      "nums_sit = ['1C', '2A', '2B', '2C', '3C']\n"
     ]
    }
   ],
   "source": [
    "# 1부터 3까지 순차적으로 x에 대입하고,\n",
    "# 리스트를 순차적으로 y에 대입하여 x, y를 문자열로 붙여서 리스트에 추가\n",
    "# 앞의 for문이 먼저 실행되고, 뒤의 for문이 실행됨\n",
    "# x가 2거나 y가 'C'인 값만 리스트에 추가\n",
    "nums_sit = [f'{x}{y}' for x in range(1, 4) for y in ['A', 'B', 'C'] if x == 2 or y == 'C']\n",
    "print(f'{nums_sit = }')"
   ]
  },
  {
   "cell_type": "code",
   "execution_count": 128,
   "id": "3d0f63d7",
   "metadata": {},
   "outputs": [
    {
     "name": "stdout",
     "output_type": "stream",
     "text": [
      "circle_r = [(-2, 0), (0, -2), (0, 2), (2, 0)]\n"
     ]
    }
   ],
   "source": [
    "# x가 -6부터 6, y가 -6부터 6인 반경 안의 \n",
    "# 반지름이 2인 원 위에 있는 점 좌표를 리스트에 추가\n",
    "circle_r = [(x, y) for x in range(-6, 7) for y in range(-6, 7) if x**2 + y**2 == 4] \n",
    "print(f'{circle_r = }')"
   ]
  },
  {
   "cell_type": "markdown",
   "id": "1110237e",
   "metadata": {},
   "source": [
    "## 딕셔너리 컴프리헨션 \n",
    "- 리스트 컴프리헨션과 거의 동일한 방식으로 딕셔너리 컴프리헨션을 사용할 수 있음 "
   ]
  },
  {
   "cell_type": "code",
   "execution_count": 134,
   "id": "4516bba1",
   "metadata": {},
   "outputs": [
    {
     "name": "stdout",
     "output_type": "stream",
     "text": [
      "id_recommend = {'minsu': 716, 'ms': 716, 'minsa': 716, 'nninsoo': 716}\n"
     ]
    }
   ],
   "source": [
    "alpa =['minsu', 'ms', 'minsa', 'nninsoo']\n",
    "num = ['076', 1616, '06117', 716]\n",
    "\n",
    "# 중첩된 for문으로는 정상적으로 딕셔너리를 생성할 수 없음\n",
    "id_recommend = {a:n for a in alpa for n in num}\n",
    "\n",
    "# 딕셔너리 출력\n",
    "print(f'{id_recommend = }') "
   ]
  },
  {
   "cell_type": "code",
   "execution_count": 135,
   "id": "d18695da",
   "metadata": {},
   "outputs": [
    {
     "name": "stdout",
     "output_type": "stream",
     "text": [
      "id_recommend = {'minsu': '076', 'ms': 1616, 'minsa': '06117', 'nninsoo': 716}\n"
     ]
    }
   ],
   "source": [
    "# zip() 함수로 두 리스트를 병렬로 가져옴\n",
    "id_recommend = {a:n for a, n in zip(alpa, num)}\n",
    "\n",
    "# 딕셔너리 출력\n",
    "print(f'{id_recommend = }') "
   ]
  },
  {
   "cell_type": "code",
   "execution_count": 143,
   "id": "ff2d5050",
   "metadata": {},
   "outputs": [
    {
     "name": "stdout",
     "output_type": "stream",
     "text": [
      "id_recommend = {0: 'minsu076', 1: 'ms1616', 2: 'minsa06117', 3: 'nninsoo716'}\n"
     ]
    }
   ],
   "source": [
    "# enumerate()함수와 zip()함수를 이용\n",
    "# 리스트의 인덱스 번호와 두 리스트의 병렬 조합을 딕셔너리의 key와 value에 대입\n",
    "id_recommend = {i:f'{a}{n}' for i, (a, n) in enumerate(zip(alpa, num))}\n",
    "\n",
    "# 딕셔너리 출력\n",
    "print(f'{id_recommend = }')"
   ]
  },
  {
   "cell_type": "markdown",
   "id": "d83afa3a",
   "metadata": {},
   "source": [
    "## set 컴프리헨션\n",
    "- 리스트 컴프리헨션과 거의 동일한 방식으로 세트 컴프리헨션을 사용할 수 있음\n",
    "- set 기호인 {}를 사용하여 세트 컴프리헨션을 작성 "
   ]
  },
  {
   "cell_type": "code",
   "execution_count": null,
   "id": "f5cdb08b",
   "metadata": {},
   "outputs": [
    {
     "name": "stdout",
     "output_type": "stream",
     "text": [
      "sum_list = [27, 32, 35, 36, 35, 32, 27]\n",
      "\n",
      "sum_set = {32, 35, 27, 36}\n"
     ]
    }
   ],
   "source": [
    "# 1부터 9까지 x, y에 순차적으로 대입. \n",
    "# x와 y를 더한 값이 12인 경우만 리스트 x*y 형식으로 리스트에추가\n",
    "m_list = [x*y for x in range(1, 10) for y in range(1, 10) if x+y == 12]\n",
    "\n",
    "# 리스트 출력. 중복된 값이 있음\n",
    "print(f'{m_list = }\\n')\n",
    "\n",
    "# 1부터 9까지 x, y에 순차적으로 대입. \n",
    "# x와 y를 더한 값이 12인 경우만 리스트 x*y 형식으로 집합에 추가\n",
    "m_set = {x*y for x in range(1, 10) for y in range(1, 10) if x+y == 12}\n",
    "\n",
    "# set 출력. 중복된 값이 없음\n",
    "print(f'{m_set = }')"
   ]
  },
  {
   "cell_type": "code",
   "execution_count": 161,
   "id": "ece9cfdd",
   "metadata": {},
   "outputs": [
    {
     "name": "stdout",
     "output_type": "stream",
     "text": [
      "long_words = {'정말 유익한 수업입니다.', '소감을 10글자 이상 적어주세요.'}\n"
     ]
    }
   ],
   "source": [
    "# 글자수가 10자가 넘는 리스트 요소만 집합에 추가\n",
    "comment = ['정말 유익한 수업입니다.', '즐거웠습니다.', '소감을 10글자 이상 적어주세요.']\n",
    "long_words = { s for s in comment if len(s) > 10}\n",
    "print(f'{long_words = }')"
   ]
  },
  {
   "cell_type": "markdown",
   "id": "8cf6f339",
   "metadata": {},
   "source": [
    "## tuple 컴프리헨션\n",
    "- 튜플 컴프리헨션은은 튜플로 반환되는 것이 아니라 제너레이터로 반환됨"
   ]
  },
  {
   "cell_type": "code",
   "execution_count": null,
   "id": "61dc25a8",
   "metadata": {},
   "outputs": [
    {
     "name": "stdout",
     "output_type": "stream",
     "text": [
      "mbti_tuple = <generator object <genexpr> at 0x0000021CEC64E240>\n",
      "tuple(mbti_tuple) = ('ESFJ', 'ESFP', 'ENFJ', 'ENFP', 'ISTJ', 'ISTP', 'ISFJ', 'ISFP', 'INTJ', 'INTP', 'INFJ', 'INFP')\n",
      "\n",
      "mbti_tuple2 = ('ESTJ', 'ESFJ', 'ISTJ', 'ISFJ')\n"
     ]
    }
   ],
   "source": [
    "# 변수 x, y, z, v에 mbti의 자리별 알파벳을 순차적으로 대입\n",
    "# I가 들어가거나 F가 들어간 mbti조합을 튜플에 추가\n",
    "# tuple로 컴프리헨션 적용\n",
    "mbti_tuple = (f'{x}{y}{z}{v}' for x in ['E', 'I'] \n",
    "                              for y in ['S', 'N']\n",
    "                              for z in ['T', 'F']\n",
    "                              for v in ['J', 'P']\n",
    "                              if x == 'I' or z == 'F')\n",
    "\n",
    "# 제너레이터 객체 생성\n",
    "print(f'{mbti_tuple = }')\n",
    "\n",
    "# 튜플 변환, 출력\n",
    "print(f'{tuple(mbti_tuple) = }\\n')\n",
    "\n",
    "# 한 번에 튜플로 컴프리헨션 적용\n",
    "# S가 들어가거나 J가 들어간 mbti조합을 튜플에 추가\n",
    "mbti_tuple2 = tuple(f'{x}{y}{z}{v}' for x in ['E', 'I'] \n",
    "                                    for y in ['S', 'N']\n",
    "                                    for z in ['T', 'F']\n",
    "                                    for v in ['J', 'P']\n",
    "                                    if y == 'S' and v == 'J')\n",
    "print(f'{mbti_tuple2 = }')"
   ]
  }
 ],
 "metadata": {
  "kernelspec": {
   "display_name": "base",
   "language": "python",
   "name": "python3"
  },
  "language_info": {
   "codemirror_mode": {
    "name": "ipython",
    "version": 3
   },
   "file_extension": ".py",
   "mimetype": "text/x-python",
   "name": "python",
   "nbconvert_exporter": "python",
   "pygments_lexer": "ipython3",
   "version": "3.12.9"
  }
 },
 "nbformat": 4,
 "nbformat_minor": 5
}
