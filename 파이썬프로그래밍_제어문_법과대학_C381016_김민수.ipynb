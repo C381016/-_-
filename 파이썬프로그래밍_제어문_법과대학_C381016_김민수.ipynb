{
 "cells": [
  {
   "cell_type": "markdown",
   "id": "46524ca4",
   "metadata": {},
   "source": [
    "# C381016 김민수"
   ]
  },
  {
   "cell_type": "markdown",
   "id": "e432ab30",
   "metadata": {},
   "source": [
    "# 제어문 \n",
    "##### 분기문과 반복문\n",
    "\n",
    "## 제어문\n",
    "- 제어문은 코드의 실행 흐름을 제어하는 문장\n",
    "  - 분기문(branch): 조건에 따라 코드의 실행 경로를 변경\n",
    "    - if, if-else, if-elif-else\n",
    "  - 반복문(loop): 코드를 반복적으로 실행\n",
    "    - for, while\n",
    "  - 예외처리문(exception): 코드 실행 중에 발생하는 예외를 처리\n",
    "    - try-except\n",
    "- 파이썬의 예약어에는 반드시 콜론(:)이 붙음"
   ]
  },
  {
   "cell_type": "markdown",
   "id": "e1fa95d7",
   "metadata": {},
   "source": [
    "## 분기문\n",
    "  - 조건(condition)의 만족 여부에 따라 코드의 실행 경로를 변경하는 문장\n",
    "    - 조건은 True 또는 False로 구분되는 문장\n",
    "    - 파이썬은 indent로 문단을 구분함"
   ]
  },
  {
   "cell_type": "code",
   "execution_count": 1,
   "id": "7de60cc8",
   "metadata": {},
   "outputs": [
    {
     "name": "stdout",
     "output_type": "stream",
     "text": [
      "조건이 참입니다.\n",
      "조건문이 종료되었습니다.\n"
     ]
    }
   ],
   "source": [
    "# 조건이 참이면 아래의 코드 블록을 설정\n",
    "if True:   # if 문장의 범위를 지정\n",
    "    # 들여쓰기로 if 문장의 범위를 지정\n",
    "    print('조건이 참입니다.')\n",
    "# 여기 부터는 들여쓰기가 없으므로 if 문장의 범위가 아님\n",
    "print('조건문이 종료되었습니다.')"
   ]
  },
  {
   "cell_type": "code",
   "execution_count": 2,
   "id": "7a0d4f35",
   "metadata": {},
   "outputs": [
    {
     "name": "stdout",
     "output_type": "stream",
     "text": [
      "조건문이 종료되었습니다.\n"
     ]
    }
   ],
   "source": [
    "# 조건이 참이면 아래의 코드 블록을 실행 -> 조건이 거짓이므로 실행되지 않음\n",
    "if False:   # if 문장의 끝은 콜론(:)\n",
    "    print('조건이 참입니다.')\n",
    "# 여기 부터는 들여쓰기가 없으므로 if 문장의 범위가 아님\n",
    "print('조건문이 종료되었습니다.')"
   ]
  },
  {
   "cell_type": "markdown",
   "id": "a3faecc0",
   "metadata": {},
   "source": [
    "### if문\n",
    "- 조건이 참일 때 아래의 코드 블록(들여쓰기한 코드들)을 실행 "
   ]
  },
  {
   "cell_type": "code",
   "execution_count": 3,
   "id": "471739af",
   "metadata": {},
   "outputs": [
    {
     "name": "stdout",
     "output_type": "stream",
     "text": [
      "걸어간다.\n"
     ]
    }
   ],
   "source": [
    "money = 100\n",
    "\n",
    "# 조건은 (money <= 500)이고, 조건이 참이면 아래의 코드 블록을 실행\n",
    "if money <= 500:\n",
    "    # 들여쓰기로 if 문장의 범위를 지정\n",
    "    print('걸어간다.')"
   ]
  },
  {
   "cell_type": "markdown",
   "id": "b3dfac57",
   "metadata": {},
   "source": [
    "### if-else문\n",
    "- 조건이 참일 때 if 아래의 코드 블록을 실행하고, 거짓일 때는 else 이후의 코드 블록을 실행 "
   ]
  },
  {
   "cell_type": "code",
   "execution_count": 4,
   "id": "4b2f6a11",
   "metadata": {},
   "outputs": [
    {
     "name": "stdout",
     "output_type": "stream",
     "text": [
      "택시탄다.\n"
     ]
    }
   ],
   "source": [
    "money = 1000\n",
    "\n",
    "if money <= 500:   # 문장의 끝은 콜론(:)\n",
    "    print('걸어간다.') # 들여쓰기로 if 문장의 범위를 지정\n",
    "else:                 # else문장의 끝은 콜론(:)\n",
    "    print('택시탄다.') # 들여쓰기로 else 문장의 범위를 지정"
   ]
  },
  {
   "cell_type": "markdown",
   "id": "e4951b71",
   "metadata": {},
   "source": [
    "### if-elif-else문\n",
    "- 여러 조건을 순차적으로 검사하고, 참인 조건의 코드 블록을 실행 "
   ]
  },
  {
   "cell_type": "code",
   "execution_count": 6,
   "id": "39cbf51b",
   "metadata": {},
   "outputs": [
    {
     "name": "stdout",
     "output_type": "stream",
     "text": [
      "버스탄다.\n"
     ]
    }
   ],
   "source": [
    "money = 1000\n",
    "\n",
    "# 조건은 (money <= 500)이고, 조건이 참이면 아래의 코드 블록을 실행\n",
    "if money <= 500:\n",
    "    print('걸어간다.')\n",
    "# 조건은 (money <= 2500)이고, 조건이 참이면 아래의 코드 블록을 실행\n",
    "elif money <= 2500:\n",
    "    print('버스탄다.')\n",
    "# 위의 조건이 모두 거짓이면 아래의 코드를 실행\n",
    "else:\n",
    "    print('택시탄다.')"
   ]
  },
  {
   "cell_type": "markdown",
   "id": "b5daaf30",
   "metadata": {},
   "source": [
    "## 반복문\n",
    "- 조건을 만족하는 동안 코드 블록을 반복수행하는 문장\n",
    "\n",
    "### while문\n",
    "- while 뒤의 조건이 True인 동안 코드블럭을 반복수행\n",
    "- while문은 종료조건을 설정하지 않으면, 무한히 반복될 수 있으므로 주의 "
   ]
  },
  {
   "cell_type": "code",
   "execution_count": 7,
   "id": "aee4e26c",
   "metadata": {},
   "outputs": [
    {
     "name": "stdout",
     "output_type": "stream",
     "text": [
      "n= 1\n",
      "n= 2\n",
      "n= 3\n",
      "n= 4\n",
      "n= 5\n"
     ]
    }
   ],
   "source": [
    "# 종료 조건을 위한 변수 설정\n",
    "n = 0\n",
    "\n",
    "# n이 5보다 작은 동안 아래의 코드를 반복하여 실행\n",
    "# n이 5가 되면 while문을 빠져나옴(종료조건)\n",
    "while n < 5:    # while 문장의 끝은 콜론(:)\n",
    "    # 들여쓰기로 while 문장의 범위를 지정\n",
    "    # n을 1 증가. n += 1과 같은 의미.\n",
    "    n = n+1\n",
    "    print(\"n=\", n)"
   ]
  },
  {
   "cell_type": "markdown",
   "id": "d265bdc9",
   "metadata": {},
   "source": [
    "### for문\n",
    "- for 뒤의 iterable한 객체의 원소를 순차적으로 가져와서 코드 블록을 반복수행 "
   ]
  },
  {
   "cell_type": "code",
   "execution_count": 8,
   "id": "20bc38d1",
   "metadata": {},
   "outputs": [
    {
     "name": "stdout",
     "output_type": "stream",
     "text": [
      "n= 0\n",
      "n= 1\n",
      "n= 2\n",
      "n= 3\n",
      "n= 4\n",
      "n= 5\n"
     ]
    }
   ],
   "source": [
    "# n에 0부터 5까지 할당. range(0,6)은 0부터 5까지의 범위를 의미\n",
    "for n in range(0,6):\n",
    "    print(\"n=\", n)"
   ]
  },
  {
   "cell_type": "code",
   "execution_count": 9,
   "id": "f291fffc",
   "metadata": {},
   "outputs": [
    {
     "name": "stdout",
     "output_type": "stream",
     "text": [
      "item = 1\n",
      "item = 2\n",
      "item = 3\n",
      "item = 4\n",
      "item = 5\n"
     ]
    }
   ],
   "source": [
    "x_list = [1, 2, 3, 4, 5]\n",
    "\n",
    "# x_list의 원소를 item에 할당하고, item을 출력\n",
    "for item in x_list:\n",
    "    print(f'{item = }')"
   ]
  },
  {
   "cell_type": "markdown",
   "id": "d75b78a6",
   "metadata": {},
   "source": [
    "- 파이썬은 함수도 객체이므로 for문의 iterable한 객체로 사용 가능\n",
    "  - len(), range(), enumerate(), zip(), map(), filter() 등은 built-in 함수\n",
    "    - built-in함수는 파이썬에서 기본적으로 제공하는 함수 "
   ]
  },
  {
   "cell_type": "code",
   "execution_count": 11,
   "id": "b1a991f9",
   "metadata": {},
   "outputs": [
    {
     "name": "stdout",
     "output_type": "stream",
     "text": [
      "<built-in function len>(x) = 5\n",
      "<built-in function max>(x) = 50\n",
      "<built-in function sum>(x) = 150\n"
     ]
    }
   ],
   "source": [
    "x = [10, 20, 30, 40, 50]\n",
    "\n",
    "# len(x), max(x), sum(x)를 순서대로 method에 할당\n",
    "for method in [len, max, sum]:\n",
    "    # method(x)를 출력\n",
    "    print(f'{method}(x) = {method(x)}')"
   ]
  },
  {
   "cell_type": "markdown",
   "id": "22cf895b",
   "metadata": {},
   "source": [
    "#### enumerate() 함수를 이용한 for문\n",
    "- for문에서 인덱스와 값을 동시에 추출하여 사용하고자 할 때 사용 "
   ]
  },
  {
   "cell_type": "code",
   "execution_count": 12,
   "id": "99d5964e",
   "metadata": {},
   "outputs": [
    {
     "name": "stdout",
     "output_type": "stream",
     "text": [
      "item = (0, 'a')\n",
      "item = (1, 'b')\n",
      "item = (2, 'c')\n",
      "item = (3, 'd')\n",
      "item = (4, 'e')\n"
     ]
    }
   ],
   "source": [
    "# enumerate()를 이용하여 인덱스와 리스트의 튜플을 생성\n",
    "for item in enumerate(['a', 'b', 'c', 'd', 'e']):\n",
    "    print(f'{item = }')"
   ]
  },
  {
   "cell_type": "code",
   "execution_count": 13,
   "id": "48632671",
   "metadata": {},
   "outputs": [
    {
     "name": "stdout",
     "output_type": "stream",
     "text": [
      "i = 0, item = 'a'\n",
      "i = 1, item = 'b'\n",
      "i = 2, item = 'c'\n",
      "i = 3, item = 'd'\n",
      "i = 4, item = 'e'\n"
     ]
    }
   ],
   "source": [
    "# enumerate()를 이용하여 인덱스와 리스트의 튜플을 i, item에 할당\n",
    "for i, item in enumerate(['a', 'b', 'c', 'd', 'e']):\n",
    "    print(f'{i = }, {item = }')"
   ]
  },
  {
   "cell_type": "markdown",
   "id": "fc2b987b",
   "metadata": {},
   "source": [
    "#### zip()함수를 이용한 for문\n",
    "- zip() 함수는 두 개 이상의 iterable한 객체를 인덱스별로 묶어서 zip 객체로 반환\n",
    "- zip 객체는 for문에서 하나씩 불러오거니 리스트로 변환하여 사용 가능 "
   ]
  },
  {
   "cell_type": "code",
   "execution_count": 14,
   "id": "8fb97cd1",
   "metadata": {},
   "outputs": [
    {
     "data": {
      "text/plain": [
       "<zip at 0x22a7c06c840>"
      ]
     },
     "execution_count": 14,
     "metadata": {},
     "output_type": "execute_result"
    }
   ],
   "source": [
    "x_list = [1, 2, 3, 4, 5]\n",
    "y_tuple = ('a', 'b', 'c', 'd', 'e')\n",
    "z_str = 'ABCDE'\n",
    "\n",
    "# z_str 함수는 iterabale한 객체를 받아서, 같은 index끼리 묶어서 zip 객체를 반환\n",
    "zip(x_list, y_tuple, z_str)"
   ]
  },
  {
   "cell_type": "code",
   "execution_count": 15,
   "id": "b3b23458",
   "metadata": {},
   "outputs": [
    {
     "data": {
      "text/plain": [
       "[(1, 'a', 'A'), (2, 'b', 'B'), (3, 'c', 'C'), (4, 'd', 'D'), (5, 'e', 'E')]"
      ]
     },
     "execution_count": 15,
     "metadata": {},
     "output_type": "execute_result"
    }
   ],
   "source": [
    "# zip 객체를 list로 변환하여 zip() 동작 확인\n",
    "list(zip(x_list, y_tuple, z_str))"
   ]
  },
  {
   "cell_type": "code",
   "execution_count": 16,
   "id": "9137114b",
   "metadata": {},
   "outputs": [
    {
     "name": "stdout",
     "output_type": "stream",
     "text": [
      "x = 1, y = 'a', z = 'A'\n",
      "x = 2, y = 'b', z = 'B'\n",
      "x = 3, y = 'c', z = 'C'\n",
      "x = 4, y = 'd', z = 'D'\n",
      "x = 5, y = 'e', z = 'E'\n"
     ]
    }
   ],
   "source": [
    "# zip 객체를 for문으로 반복하여 출력\n",
    "for x, y, z in zip(x_list, y_tuple, z_str):\n",
    "    print(f'{x = }, {y = }, {z = }')"
   ]
  },
  {
   "cell_type": "code",
   "execution_count": 17,
   "id": "243e9383",
   "metadata": {},
   "outputs": [
    {
     "name": "stdout",
     "output_type": "stream",
     "text": [
      "i = 0, x = 1, y = 'a', z = 'A'\n",
      "i = 1, x = 2, y = 'b', z = 'B'\n",
      "i = 2, x = 3, y = 'c', z = 'C'\n",
      "i = 3, x = 4, y = 'd', z = 'D'\n",
      "i = 4, x = 5, y = 'e', z = 'E'\n"
     ]
    }
   ],
   "source": [
    "# enumerate와 zip를 함께 사용\n",
    "for i, (x, y, z) in enumerate(zip(x_list, y_tuple, z_str)):\n",
    "    print(f'{i = }, {x = }, {y = }, {z = }')"
   ]
  },
  {
   "cell_type": "markdown",
   "id": "e46a7271",
   "metadata": {},
   "source": [
    "### break, continue, pass, exit로 제어문 통제하기\n",
    "- break: 반복문을 종료하고 다음 코드로 넘어감\n",
    "- continue: 반복문의 나머지 코드를 건너뛰고 다음 코드로 넘어감\n",
    "- pass: 아무것도 하지 않고 다음 코드로 넘어감\n",
    "  - if문이나 함수 등에 아무것도 작성이 안 되어 있으면 에러가 발생하므로 pass를 사용\n",
    "- exit: 프로그램을 종료함\n",
    "  - 알고리즘을 중간에 종료할 때 사용\n",
    "  - exit(0)은 정상종료, exit(1)은 비정상종료를 의미\n",
    "  - jupyter notebook에서는 종료 시 kernel을 재시작해야 함 "
   ]
  },
  {
   "cell_type": "code",
   "execution_count": 18,
   "id": "da6aa729",
   "metadata": {},
   "outputs": [
    {
     "name": "stdout",
     "output_type": "stream",
     "text": [
      "i = 0, item = 'a'\n",
      "i = 1, item = 'b'\n"
     ]
    }
   ],
   "source": [
    "for i, item in enumerate(['a', 'b', 'c', 'd', 'e']):\n",
    "    # i가 2면\n",
    "    if i == 2:\n",
    "        # for문을 빠져나옴\n",
    "        break\n",
    "\n",
    "    # break 이후로는 이 코드는 실행되지 않음\n",
    "    print(f'{i = }, {item = }') "
   ]
  },
  {
   "cell_type": "code",
   "execution_count": null,
   "id": "8c7f8e5e",
   "metadata": {},
   "outputs": [
    {
     "name": "stdout",
     "output_type": "stream",
     "text": [
      "i = 0, item = 'a'\n",
      "i = 1, item = 'b'\n",
      "i = 3, item = 'd'\n",
      "i = 4, item = 'e'\n"
     ]
    }
   ],
   "source": [
    "for i, item in enumerate(['a', 'b', 'c', 'd', 'e']):\n",
    "    if i == 2:\n",
    "        # for문의 다음 반복으로 이동\n",
    "        continue\n",
    "\n",
    "    # continue가 실행될 때만 이 코드는 실행되지 않음\n",
    "    print(f'{i = }, {item = }')"
   ]
  },
  {
   "cell_type": "code",
   "execution_count": 20,
   "id": "129b831e",
   "metadata": {},
   "outputs": [
    {
     "name": "stdout",
     "output_type": "stream",
     "text": [
      "i = 0, item = 'a'\n",
      "i = 1, item = 'b'\n",
      "i = 2, item = 'c'\n",
      "i = 3, item = 'd'\n",
      "i = 4, item = 'e'\n"
     ]
    }
   ],
   "source": [
    "for i, item in enumerate(['a', 'b', 'c', 'd', 'e']):\n",
    "    if i == 2:\n",
    "        # 아무것도 하지 않음\n",
    "        pass\n",
    "\n",
    "    # pass문이 실행되어도 이 코드는 실행됨\n",
    "    print(f'{i = }, {item = }')"
   ]
  },
  {
   "cell_type": "code",
   "execution_count": 21,
   "id": "050957ad",
   "metadata": {},
   "outputs": [
    {
     "name": "stdout",
     "output_type": "stream",
     "text": [
      "i = 0, item = 'a'\n",
      "i = 1, item = 'b'\n",
      "여기에서 실제로는 종료됨. 편의를 위해 주석처리\n",
      "i = 2, item = 'c'\n",
      "i = 3, item = 'd'\n",
      "i = 4, item = 'e'\n"
     ]
    }
   ],
   "source": [
    "for i, item, in enumerate(['a', 'b', 'c', 'd', 'e']):\n",
    "    if i == 2:\n",
    "        # 프로그램을 종료. 0은 정상종료를 의미 \n",
    "        # exit(0)\n",
    "        print('여기에서 실제로는 종료됨. 편의를 위해 주석처리')\n",
    "    print(f'{i = }, {item = }')"
   ]
  },
  {
   "cell_type": "markdown",
   "id": "c7074494",
   "metadata": {},
   "source": [
    "### 중첩 제어문 \n",
    "- 제어문은 중첩하여 사용 가능 "
   ]
  },
  {
   "cell_type": "code",
   "execution_count": 22,
   "id": "5dd32a75",
   "metadata": {},
   "outputs": [
    {
     "name": "stdout",
     "output_type": "stream",
     "text": [
      "1x1= 1\t2x1= 2\t3x1= 3\t4x1= 4\t5x1= 5\t6x1= 6\t7x1= 7\t8x1= 8\t9x1= 9\t\n",
      "1x2= 2\t2x2= 4\t3x2= 6\t4x2= 8\t5x2=10\t6x2=12\t7x2=14\t8x2=16\t9x2=18\t\n",
      "1x3= 3\t2x3= 6\t3x3= 9\t4x3=12\t5x3=15\t6x3=18\t7x3=21\t8x3=24\t9x3=27\t\n",
      "1x4= 4\t2x4= 8\t3x4=12\t4x4=16\t5x4=20\t6x4=24\t7x4=28\t8x4=32\t9x4=36\t\n",
      "1x5= 5\t2x5=10\t3x5=15\t4x5=20\t5x5=25\t6x5=30\t7x5=35\t8x5=40\t9x5=45\t\n",
      "1x6= 6\t2x6=12\t3x6=18\t4x6=24\t5x6=30\t6x6=36\t7x6=42\t8x6=48\t9x6=54\t\n",
      "1x7= 7\t2x7=14\t3x7=21\t4x7=28\t5x7=35\t6x7=42\t7x7=49\t8x7=56\t9x7=63\t\n",
      "1x8= 8\t2x8=16\t3x8=24\t4x8=32\t5x8=40\t6x8=48\t7x8=56\t8x8=64\t9x8=72\t\n",
      "1x9= 9\t2x9=18\t3x9=27\t4x9=36\t5x9=45\t6x9=54\t7x9=63\t8x9=72\t9x9=81\t\n"
     ]
    }
   ],
   "source": [
    "# i는 1부터 9까지 반복\n",
    "for i in range(1, 10):\n",
    "    # j는 1부터 9까지 반복\n",
    "    for j in range(1, 10):\n",
    "        # end='\\t'는 출력 후 탭을 적용하고 줄바꿈은 적용하지 않음\n",
    "        print(f'{j}x{i}={j*i:>2d}', end='\\t')\n",
    "        if j == 9:\n",
    "            # 한 줄 띄움\n",
    "            print()"
   ]
  },
  {
   "cell_type": "markdown",
   "id": "10f713a6",
   "metadata": {},
   "source": [
    "# 제어문 - 응용\n",
    "\n",
    "## 분기문"
   ]
  },
  {
   "cell_type": "code",
   "execution_count": 11,
   "id": "211570f2",
   "metadata": {},
   "outputs": [
    {
     "name": "stdout",
     "output_type": "stream",
     "text": [
      "조건이 참입니다.\n",
      "조건문이 종료되었습니다.\n",
      "조건이 참입니다.\n",
      "조건문이 종료되었습니다.\n"
     ]
    }
   ],
   "source": [
    "# 조건이 참이면 아래의 코드 블록을 설정\n",
    "x = 100\n",
    "if bool(x) == True:   # 변수 x가 True인가?\n",
    "    # 들여쓰기\n",
    "    print('조건이 참입니다.')\n",
    "# 여기부턴 if 문장의 범위 아님\n",
    "print('조건문이 종료되었습니다.')\n",
    "\n",
    "# 조건이 참이면 아래의 코드 블록을 실행 -> bool(x)는 0이 아니라서 False가 아니므로 참.\n",
    "if bool(x) is not False:   \n",
    "    print('조건이 참입니다.')\n",
    "# 여기부턴 if 문장의 범위 아님\n",
    "print('조건문이 종료되었습니다.')"
   ]
  },
  {
   "cell_type": "markdown",
   "id": "a7bd9f21",
   "metadata": {},
   "source": [
    "### if문"
   ]
  },
  {
   "cell_type": "code",
   "execution_count": 7,
   "id": "218ab2a8",
   "metadata": {},
   "outputs": [
    {
     "name": "stdout",
     "output_type": "stream",
     "text": [
      "29살\n",
      "청소년입니다!\n"
     ]
    }
   ],
   "source": [
    "age = 24\n",
    "\n",
    "# if문의 조건이 참이면 그 다음 if문 실행\n",
    "if age > 20:\n",
    "    age -= 5\n",
    "    if age <= 20:\n",
    "        age += 10\n",
    "        print(f'{age}살')\n",
    "\n",
    "# 논리연산자와 비교연산자를 조건에 이용해서 실행\n",
    "if age != 0 or age >= 14 or age <= 32 :\n",
    "    print(f'청소년입니다!')"
   ]
  },
  {
   "cell_type": "code",
   "execution_count": 6,
   "id": "7fa1703c",
   "metadata": {},
   "outputs": [],
   "source": [
    "# 조건이 거짓이면 코드 블록과 하위 if문 모두 실행되지 않음\n",
    "if age < 20:\n",
    "    age += 5\n",
    "    if age == 20:\n",
    "       print(age)  "
   ]
  },
  {
   "cell_type": "code",
   "execution_count": null,
   "id": "68d756dc",
   "metadata": {},
   "outputs": [
    {
     "name": "stdout",
     "output_type": "stream",
     "text": [
      "True 입니다!\n"
     ]
    }
   ],
   "source": [
    "# 리스트 생성\n",
    "x_list = [23, 24, 25]\n",
    "\n",
    "if 23 in x_list:  # 멤버십 연산자로 23이 리스트에 있으면 실행\n",
    "    x_list.extend([26, 0])\n",
    "    if [23, 24, 25] is not x_list: # 식별 연산자로 [23, 24, 25]이 x_list 아니면 실행 \n",
    "        x_list.remove(26)\n",
    "        if bool(x_list) == True : # 불리언함수로 변환된 리스트가 True면 최종 출력\n",
    "            print('True 입니다!')"
   ]
  },
  {
   "cell_type": "markdown",
   "id": "fb356164",
   "metadata": {},
   "source": [
    "### if-else문 "
   ]
  },
  {
   "cell_type": "code",
   "execution_count": 20,
   "id": "3363e94d",
   "metadata": {},
   "outputs": [
    {
     "name": "stdout",
     "output_type": "stream",
     "text": [
      "키가 작아 탑승이 불가합니다. 다른 기구를 이용해주세요.\n"
     ]
    }
   ],
   "source": [
    "high = int(input('키를 입력하세요(cm 제외).')) # int 변환한 input함수로 high에 데이터 할당\n",
    "\n",
    "# 할당된 데이터가 150과 같거나 크면 if문 코드블럭 실행\n",
    "# 150보다 작으면 else문 실행\n",
    "if high >= 150:\n",
    "    print('놀이기구 탑승가능합니다. 입장해주세요.')\n",
    "else:\n",
    "    print('키가 작아 탑승이 불가합니다. 다른 기구를 이용해주세요.')"
   ]
  },
  {
   "cell_type": "code",
   "execution_count": 31,
   "id": "72972dc8",
   "metadata": {},
   "outputs": [
    {
     "name": "stdout",
     "output_type": "stream",
     "text": [
      "y_list = []\n"
     ]
    }
   ],
   "source": [
    "# 빈 리스트 생성 후 x, y에 데이터 할당하여 리스트에 extend 메서드로 연결\n",
    "y_list = []\n",
    "x = int(input('좋아하는 숫자를 입력하세요.'))\n",
    "y = int(input('싫어하는 숫자를 입력하세요.'))\n",
    "y_list.extend([z, y])\n",
    "\n",
    "# 리스트의 인덱스 0번의 값이 4거나, 인덱스 1번의 값이 7보다 크면 코드블록 실행\n",
    "# 조건문이 거짓이면 else문 실행\n",
    "if y_list[0] == 4 or y_list[1] > 7 : \n",
    "    y_list.pop(0)\n",
    "    y_list.insert(1, 7)\n",
    "    print(f'{y_list = }')\n",
    "else:\n",
    "    y_list.clear()\n",
    "    print(f'{y_list = }')\n",
    "    "
   ]
  },
  {
   "cell_type": "markdown",
   "id": "7621d552",
   "metadata": {},
   "source": [
    "### if-elif-else문"
   ]
  },
  {
   "cell_type": "code",
   "execution_count": 1,
   "id": "55d20caf",
   "metadata": {},
   "outputs": [
    {
     "name": "stdout",
     "output_type": "stream",
     "text": [
      "의대준비반에 배정되었습니다.\n"
     ]
    }
   ],
   "source": [
    "# test에 input함수를 이용해 데이터를 할당당\n",
    "test = int(input('반배정고사 성적을 입력하세요 (0~100점)'))\n",
    "\n",
    "# test에 할당된 데이터가 60보다 작으면 실행\n",
    "if test < 60:\n",
    "    if test <= 30: # 60보다 작으면서 30보다 작거나 같으면 실행\n",
    "        print('학원 등록이 불가능합니다.') \n",
    "    else: # 60보다 작으면서 30보다 크면 실행 \n",
    "        print('초급반에 배정되었습니다.')\n",
    "elif test > 85: # 85보다 크면 실행\n",
    "    if test >= 95: # 85보다 크면서 95보다 크거나 같으면 실행\n",
    "        print('의대준비반에 배정되었습니다.')\n",
    "    else: # 85보다 크면서 95보다 작으면 실행\n",
    "        print('상급반에 배정되었습니다.')\n",
    "else: # 위 조건이 모두 거짓이면 실행행\n",
    "    print('중급반에 배정되었습니다.')"
   ]
  },
  {
   "cell_type": "markdown",
   "id": "e9bde66b",
   "metadata": {},
   "source": [
    "## 반복문 \n",
    "\n",
    "### while문"
   ]
  },
  {
   "cell_type": "code",
   "execution_count": null,
   "id": "e725b1aa",
   "metadata": {},
   "outputs": [
    {
     "name": "stdout",
     "output_type": "stream",
     "text": [
      "상의를 장바구니에 담았습니다.\n",
      "하의를 장바구니에 담았습니다.\n",
      "상의를 장바구니에 담았습니다.\n",
      "아우터를 장바구니에 담았습니다.\n",
      "====================\n",
      "장바구니 목록\n",
      "====================\n",
      "['상의', '하의', '상의', '아우터']\n"
     ]
    }
   ],
   "source": [
    "# 빈 장바구니 리스트 생성\n",
    "cart = []\n",
    "\n",
    "# break가 나오기 전까지 아래 코드를 반복 실행\n",
    "while True:\n",
    "    wish = str(input('구매하려는 의류를 입력하세요.(아우터/상의/하의/그만담기)'))\n",
    "    if wish == '그만담기': # 입력된 데이터가 '그만두기'면 루프 종료\n",
    "        break \n",
    "    elif wish == '아우터': # 입력된 데이터가 '아우터'면 cart 리스트에 추가\n",
    "        cart.append(wish)\n",
    "        print('아우터를 장바구니에 담았습니다.')\n",
    "    elif wish == '상의': # 입력된 데이터가 '상의'면 cart 리스트에 추가\n",
    "        cart.append(wish)\n",
    "        print('상의를 장바구니에 담았습니다.')\n",
    "    elif wish == '하의': # 입력된 데이터가 '하의'면 cart 리스트에 추가\n",
    "        cart.append(wish)\n",
    "        print('하의를 장바구니에 담았습니다.')\n",
    "    else:\n",
    "        print('잘못 입력하셨습니다. 다시 입력하세요.')\n",
    "\n",
    "# 장바구니 목록 출력 \n",
    "print('='*20+'\\n'+'장바구니 목록\\n'+'='*20+f'\\n{cart}')\n",
    "    "
   ]
  },
  {
   "cell_type": "code",
   "execution_count": null,
   "id": "4b36e324",
   "metadata": {},
   "outputs": [
    {
     "name": "stdout",
     "output_type": "stream",
     "text": [
      "현재 모은 돈 = 12000\n",
      "옷을 살 수 있을 정도의 돈이 모였습니다.\n",
      "현재 모은 돈 = 22000\n",
      "옷을 살 수 있을 정도의 돈이 모였습니다.\n",
      "현재 모은 돈 = 32000\n",
      "옷을 살 수 있을 정도의 돈이 모였습니다.\n",
      "현재 모은 돈 = 42000\n",
      "옷을 살 수 있을 정도의 돈이 모였습니다.\n",
      "현재 모은 돈 = 52000\n",
      "옷을 살 수 있을 정도의 돈이 모였습니다.\n"
     ]
    }
   ],
   "source": [
    "# while문의 종료를 위한 변수 설정\n",
    "money = 2000\n",
    "\n",
    "# money가 50000이 되기 전까지 코드를 반복실행, 50000 이상이면 종료\n",
    "while money < 50000:\n",
    "    money += 10000\n",
    "    print(f'현재 모은 돈 = {money}')\n",
    "    print('옷을 살 수 있을 정도의 돈이 모였습니다.')"
   ]
  },
  {
   "cell_type": "code",
   "execution_count": 27,
   "id": "1bbbdf56",
   "metadata": {},
   "outputs": [
    {
     "name": "stdout",
     "output_type": "stream",
     "text": [
      "결제가 완료되었습니다.\n"
     ]
    }
   ],
   "source": [
    "# break가 나오기 전까지 반복실행\n",
    "while True:\n",
    "    x = str(input('장바구니에 담긴 옷들을 구매하시겠습니다? (예/아니오)'))\n",
    "    # x에 데이터를 입력하여 입력된 문자열 값에 따라 조건 실행행 \n",
    "    if x == '예':\n",
    "        print('결제가 완료되었습니다.')\n",
    "        break\n",
    "    elif x == '아니오':\n",
    "        print('결제를 보류합니다.')\n",
    "        break\n",
    "    else:\n",
    "        print('다시 입력하세요.')"
   ]
  },
  {
   "cell_type": "markdown",
   "id": "8d1b468b",
   "metadata": {},
   "source": [
    "### for문"
   ]
  },
  {
   "cell_type": "code",
   "execution_count": 31,
   "id": "396127c5",
   "metadata": {},
   "outputs": [
    {
     "name": "stdout",
     "output_type": "stream",
     "text": [
      "현재 23살입니다.\n",
      "\n",
      "24살이 되었습니다.\n",
      "25살이 되었습니다.\n",
      "26살이 되었습니다.\n",
      "27살이 되었습니다.\n",
      "28살이 되었습니다.\n",
      "29살이 되었습니다.\n",
      "30살이 되었습니다.\n",
      "31살이 되었습니다.\n",
      "32살이 되었습니다.\n",
      "33살이 되었습니다.\n",
      "34살이 되었습니다.\n",
      "35살이 되었습니다.\n",
      "36살이 되었습니다.\n",
      "37살이 되었습니다.\n",
      "38살이 되었습니다.\n",
      "39살이 되었습니다.\n",
      "40살이 되었습니다.\n",
      "41살이 되었습니다.\n",
      "42살이 되었습니다.\n",
      "43살이 되었습니다.\n",
      "44살이 되었습니다.\n",
      "45살이 되었습니다.\n",
      "46살이 되었습니다.\n",
      "47살이 되었습니다.\n",
      "48살이 되었습니다.\n",
      "49살이 되었습니다.\n",
      "50살이 되었습니다.\n",
      "51살이 되었습니다.\n",
      "52살이 되었습니다.\n",
      "53살이 되었습니다.\n",
      "54살이 되었습니다.\n",
      "55살이 되었습니다.\n",
      "56살이 되었습니다.\n",
      "57살이 되었습니다.\n",
      "58살이 되었습니다.\n",
      "59살이 되었습니다.\n",
      "60살이 되었습니다.\n",
      "61살이 되었습니다.\n",
      "62살이 되었습니다.\n",
      "63살이 되었습니다.\n",
      "64살이 되었습니다.\n",
      "65살이 되었습니다.\n",
      "66살이 되었습니다.\n",
      "67살이 되었습니다.\n",
      "68살이 되었습니다.\n",
      "69살이 되었습니다.\n",
      "70살이 되었습니다.\n",
      "71살이 되었습니다.\n",
      "72살이 되었습니다.\n",
      "73살이 되었습니다.\n",
      "74살이 되었습니다.\n",
      "75살이 되었습니다.\n",
      "76살이 되었습니다.\n",
      "77살이 되었습니다.\n",
      "78살이 되었습니다.\n",
      "79살이 되었습니다.\n",
      "80살이 되었습니다.\n",
      "81살이 되었습니다.\n",
      "82살이 되었습니다.\n",
      "83살이 되었습니다.\n",
      "84살이 되었습니다.\n",
      "85살이 되었습니다.\n",
      "86살이 되었습니다.\n",
      "87살이 되었습니다.\n",
      "88살이 되었습니다.\n",
      "89살이 되었습니다.\n",
      "90살이 되었습니다.\n",
      "91살이 되었습니다.\n",
      "92살이 되었습니다.\n",
      "93살이 되었습니다.\n",
      "94살이 되었습니다.\n",
      "95살이 되었습니다.\n",
      "96살이 되었습니다.\n",
      "97살이 되었습니다.\n",
      "98살이 되었습니다.\n",
      "99살이 되었습니다.\n",
      "\n",
      "당신의 수명은 99년입니다. 운명하셨습니다.\n"
     ]
    }
   ],
   "source": [
    "# n에 0부터 5까지 할당. range(0,6)은 0부터 5까지의 범위를 의미\n",
    "for i in range(23, 101):\n",
    "    if i == 23:\n",
    "        print(f'현재 {i}살입니다.\\n')\n",
    "    elif i == 100:\n",
    "        print(f'\\n당신의 수명은 99년입니다. 운명하셨습니다.')\n",
    "    else:\n",
    "        print(f'{i}살이 되었습니다.')"
   ]
  },
  {
   "cell_type": "code",
   "execution_count": null,
   "id": "cc9354ad",
   "metadata": {},
   "outputs": [
    {
     "name": "stdout",
     "output_type": "stream",
     "text": [
      "0번 항목의 총가격은 6000입니다.\n",
      "1번 항목의 총가격은 9000입니다.\n",
      "2번 항목의 총가격은 7500입니다.\n",
      "3번 항목의 총가격은 12000입니다.\n",
      "\n",
      "모든 항목의 총가격은 34500입니다.\n"
     ]
    }
   ],
   "source": [
    "x_list = [2000, 3000, 2500, 4000]\n",
    "\n",
    "# x_list의 원소를 item에 할당하고, item을 출력\n",
    "for item in x_list:\n",
    "    print(f'{x_list.index(item)}번 항목의 총가격은 {item*3}입니다.')\n",
    "\n",
    "#for문 밖에서 실행\n",
    "print(f'\\n모든 항목의 총가격은 {sum(x_list)*3}입니다.')"
   ]
  },
  {
   "cell_type": "code",
   "execution_count": 44,
   "id": "da1414bb",
   "metadata": {},
   "outputs": [
    {
     "name": "stdout",
     "output_type": "stream",
     "text": [
      "<class 'type'>(y) = <class 'list'>\n",
      "<built-in function sorted>(y) = [4, 10, 32, 67]\n",
      "<built-in function min>(y) = 4\n",
      "<class 'tuple'>(y) = (4, 67, 32, 10)\n",
      "<class 'set'>(y) = {32, 10, 67, 4}\n"
     ]
    }
   ],
   "source": [
    "y = [4, 67, 32, 10]\n",
    "\n",
    "# type(y), sorted(y), min(y), tuple(y), set(y)를 순서대로 method에 할당\n",
    "for method in [type, sorted, min, tuple, set]:\n",
    "    # method(y)를 출력\n",
    "    print(f'{method}(y) = {method(y)}')\n",
    "    # sorted() 메서드와 min() 메서드는 빌트인함수\n",
    "    # type(), tuple(), set() 메서드는 class 객체체"
   ]
  },
  {
   "cell_type": "markdown",
   "id": "952c1854",
   "metadata": {},
   "source": [
    "#### enumerate() 함수를 이용한 for문 "
   ]
  },
  {
   "cell_type": "code",
   "execution_count": 52,
   "id": "13426f11",
   "metadata": {},
   "outputs": [
    {
     "name": "stdout",
     "output_type": "stream",
     "text": [
      "(1) 파이썬프로그래밍\n",
      "(2) 물권각론\n",
      "(3) 상법총칙\n",
      "(4) 헌법통치구조론\n",
      "(5) 친족상속법\n",
      "(6) 교양일본어\n",
      "(7) 형법사례연습\n"
     ]
    }
   ],
   "source": [
    "# enumerate()를 이용하여 인덱스와 리스트의 튜플을 i, item에 할당\n",
    "for i, item in enumerate(['파이썬프로그래밍','물권각론','상법총칙','헌법통치구조론','친족상속법','교양일본어','형법사례연습']):\n",
    "    print(f'({i+1}) {item}')"
   ]
  },
  {
   "cell_type": "code",
   "execution_count": 64,
   "id": "0251b0bb",
   "metadata": {},
   "outputs": [
    {
     "name": "stdout",
     "output_type": "stream",
     "text": [
      "23\n",
      "27\n",
      "23\n",
      "16\n"
     ]
    }
   ],
   "source": [
    "# enumerate() 이용해서 홀수 값만 출력\n",
    "for i, item in enumerate([23, 50, 16, 27]):\n",
    "    if item % 2 == 1:\n",
    "        print(f'{item}')\n",
    "\n",
    "# enumerate() 이용해서 짝수 인덱스 번호의 값만 출력력\n",
    "for i, item in enumerate([23, 50, 16, 27]):\n",
    "    if i % 2 == 0:\n",
    "        print(f'{item}')"
   ]
  },
  {
   "cell_type": "code",
   "execution_count": 66,
   "id": "f0f16939",
   "metadata": {},
   "outputs": [
    {
     "name": "stdout",
     "output_type": "stream",
     "text": [
      "{0: 23, 1: 50, 2: 16, 3: 27}\n"
     ]
    }
   ],
   "source": [
    "# enumerate()를 딕셔너리로 변환\n",
    "# 인덱스 번호는 key에, 리스트 값들은 value에 배정정\n",
    "my_dict = dict(enumerate([23, 50, 16, 27]))\n",
    "print(my_dict)"
   ]
  },
  {
   "cell_type": "markdown",
   "id": "9995ac15",
   "metadata": {},
   "source": [
    "#### zip()함수를 이용한 for문  "
   ]
  },
  {
   "cell_type": "code",
   "execution_count": 101,
   "id": "c4441616",
   "metadata": {},
   "outputs": [
    {
     "name": "stdout",
     "output_type": "stream",
     "text": [
      "{'자켓': 59000, '나시': 12000, '팬츠': 33000, '니트': 40000, '로퍼': 28000}\n"
     ]
    }
   ],
   "source": [
    "x_tuple = ('자켓', '나시', '팬츠', '니트', '로퍼')\n",
    "y_list = [59000, 12000, 33000, 40000, 28000]\n",
    "\n",
    "# iterabale 객체를 받아서, 같은 index끼리 묶어서 zip 객체를 반환\n",
    "zip(x_tuple, y_list)\n",
    "\n",
    "# 딕셔너리로 변환해서 출력\n",
    "my_dict = dict(zip(x_tuple, y_list))\n",
    "print(my_dict)\n"
   ]
  },
  {
   "cell_type": "code",
   "execution_count": 102,
   "id": "66e578ae",
   "metadata": {},
   "outputs": [
    {
     "name": "stdout",
     "output_type": "stream",
     "text": [
      "자켓의 가격은 59000원입니다.\n",
      "나시의 가격은 12000원입니다.\n",
      "팬츠의 가격은 33000원입니다.\n",
      "니트의 가격은 40000원입니다.\n",
      "로퍼의 가격은 28000원입니다.\n"
     ]
    }
   ],
   "source": [
    "# zip 객체를 for문으로 반복하여 출력\n",
    "for x, y in zip(x_tuple, y_list):\n",
    "    print(f'{x}의 가격은 {y}원입니다.')"
   ]
  },
  {
   "cell_type": "code",
   "execution_count": 105,
   "id": "81ae225b",
   "metadata": {},
   "outputs": [
    {
     "name": "stdout",
     "output_type": "stream",
     "text": [
      "1번 품목 | 자켓  |  59000원\n",
      "2번 품목 | 나시  |  12000원\n",
      "3번 품목 | 팬츠  |  33000원\n",
      "4번 품목 | 니트  |  40000원\n",
      "5번 품목 | 로퍼  |  28000원\n"
     ]
    }
   ],
   "source": [
    "# enumerate와 zip를 함께 사용\n",
    "for i, (x, y) in enumerate(zip(x_tuple, y_list)):\n",
    "    print(f'{i+1}번 품목 | {x:<3} | {y:>6}원')"
   ]
  },
  {
   "cell_type": "markdown",
   "id": "db8be5ad",
   "metadata": {},
   "source": [
    "### break, continue, pass, exit로 제어문 통제하기 "
   ]
  },
  {
   "cell_type": "code",
   "execution_count": null,
   "id": "a54ee122",
   "metadata": {},
   "outputs": [
    {
     "name": "stdout",
     "output_type": "stream",
     "text": [
      "커피 카테고리의 1번 항목 아메리카노 메뉴 1600원 결제되셨습니다.\n",
      "커피 카테고리의 2번 항목 카페라떼 메뉴 2000원 결제되셨습니다.\n",
      "커피 카테고리의 3번 항목 콜드브루 메뉴 1700원 결제되셨습니다.\n"
     ]
    }
   ],
   "source": [
    "# 딕셔너리 생성\n",
    "my_dict1 = {'아메리카노':1600, '카페라떼':2000, '콜드브루':1700, '아샷추':2100, '밀크티':2300}\n",
    "\n",
    "# enumerate() 이용해서 딕셔너리의 인덱스 번호, key, value를 배정한 후 반복 실행하다 종료\n",
    "for i, (key, value) in enumerate(my_dict1.items()):\n",
    "    if i <= 2:\n",
    "        print(f'커피 카테고리의 {i+1}번 항목 {key} 메뉴 {value}원 결제되셨습니다.')\n",
    "    else:   \n",
    "        break"
   ]
  },
  {
   "cell_type": "code",
   "execution_count": null,
   "id": "b8de720b",
   "metadata": {},
   "outputs": [
    {
     "name": "stdout",
     "output_type": "stream",
     "text": [
      "커피 카테고리의 1번 항목 아메리카노 메뉴 1600원 결제되셨습니다.\n",
      "커피 카테고리의 2번 항목 카페라떼 메뉴 2000원 결제되셨습니다.\n",
      "커피 카테고리의 3번 항목 콜드브루 메뉴 1700원 결제되셨습니다.\n",
      "커피 카테고리의 4번 항목 아샷추 메뉴 2100원 결제되셨습니다.\n"
     ]
    }
   ],
   "source": [
    "for i, (key, value) in enumerate(my_dict1.items()):\n",
    "    if i == 4: # 인덱스 4번 건너뛰고 실행\n",
    "        continue\n",
    "    print(f'커피 카테고리의 {i+1}번 항목 {key} 메뉴 {value}원 결제되셨습니다.')"
   ]
  },
  {
   "cell_type": "code",
   "execution_count": 147,
   "id": "48c6204d",
   "metadata": {},
   "outputs": [
    {
     "name": "stdout",
     "output_type": "stream",
     "text": [
      "티 카테고리의 4번 항목 아샷추 메뉴 2100원 결제되셨습니다.\n",
      "티 카테고리의 5번 항목 밀크티 메뉴 2300원 결제되셨습니다.\n"
     ]
    }
   ],
   "source": [
    "for i, (key, value) in enumerate(my_dict1.items()):\n",
    "    if i < 3: # 해당 조건은 실행 안 하고 넘어감\n",
    "        pass\n",
    "    else:\n",
    "        print(f'티 카테고리의 {i+1}번 항목 {key} 메뉴 {value}원 결제되셨습니다.')"
   ]
  },
  {
   "cell_type": "markdown",
   "id": "544dab42",
   "metadata": {},
   "source": [
    "### 중첩 제어문 "
   ]
  },
  {
   "cell_type": "code",
   "execution_count": 170,
   "id": "d9c3be3c",
   "metadata": {},
   "outputs": [
    {
     "name": "stdout",
     "output_type": "stream",
     "text": [
      " 2x 2=  4   4x 2=  8   6x 2= 12   8x 2= 16  10x 2= 20  12x 2= 24  14x 2= 28  16x 2= 32  18x 2= 36  20x 2= 40  \n",
      " 2x 4=  8   4x 4= 16   6x 4= 24   8x 4= 32  10x 4= 40  12x 4= 48  14x 4= 56  16x 4= 64  18x 4= 72  20x 4= 80  \n",
      " 2x 6= 12   4x 6= 24   6x 6= 36   8x 6= 48  10x 6= 60  12x 6= 72  14x 6= 84  16x 6= 96  18x 6=108  20x 6=120  \n",
      " 2x 8= 16   4x 8= 32   6x 8= 48   8x 8= 64  10x 8= 80  12x 8= 96  14x 8=112  16x 8=128  18x 8=144  20x 8=160  \n",
      " 2x10= 20   4x10= 40   6x10= 60   8x10= 80  10x10=100  12x10=120  14x10=140  16x10=160  18x10=180  20x10=200  \n",
      " 2x12= 24   4x12= 48   6x12= 72   8x12= 96  10x12=120  12x12=144  14x12=168  16x12=192  18x12=216  20x12=240  \n",
      " 2x14= 28   4x14= 56   6x14= 84   8x14=112  10x14=140  12x14=168  14x14=196  16x14=224  18x14=252  20x14=280  \n",
      " 2x16= 32   4x16= 64   6x16= 96   8x16=128  10x16=160  12x16=192  14x16=224  16x16=256  18x16=288  20x16=320  \n",
      " 2x18= 36   4x18= 72   6x18=108   8x18=144  10x18=180  12x18=216  14x18=252  16x18=288  18x18=324  20x18=360  \n",
      " 2x20= 40   4x20= 80   6x20=120   8x20=160  10x20=200  12x20=240  14x20=280  16x20=320  18x20=360  20x20=400  \n"
     ]
    }
   ],
   "source": [
    "# i는 1부터 9까지 반복\n",
    "for i in range(2, 21, 2):\n",
    "    # j는 1부터 9까지 반복\n",
    "    for j in range(2, 21, 2):\n",
    "        # end='\\t'는 출력 후 탭을 적용하고 줄바꿈은 적용하지 않음\n",
    "        print(f'{j:>2d}x{i:>2d}={j*i:>3d}', end='  ')\n",
    "        if j == 20:\n",
    "            # 한 줄 띄움\n",
    "            print()"
   ]
  },
  {
   "cell_type": "code",
   "execution_count": null,
   "id": "6c1e3b5e",
   "metadata": {},
   "outputs": [
    {
     "name": "stdout",
     "output_type": "stream",
     "text": [
      "A1\tA2\tA3\tA4\tA5\tA6\tA7\t\n",
      "B1\tB2\tB3\tB4\tB5\tB6\tB7\t\n",
      "C1\tC2\tC3\tC4\tC5\tC6\tC7\t\n",
      "D1\tD2\tD3\tD4\tD5\tD6\tD7\t\n",
      "E1\tE2\tE3\tE4\tE5\tE6\tE7\t\n",
      "H1\tH2\tH3\tH4\tH5\tH6\tH7\t\n",
      "I1\tI2\tI3\tI4\tI5\tI6\tI7\t\n",
      "J1\tJ2\tJ3\tJ4\tJ5\tJ6\tJ7\t\n"
     ]
    }
   ],
   "source": [
    "h = 8  # 행수\n",
    "y = 7  # 열수\n",
    "alpa = ['A', 'B', 'C', 'D', 'E', 'H', 'I', 'J'] # 행에 표현할 알파벳들\n",
    "\n",
    "# 영화관의 좌석 배치를 출력\n",
    "for i in range(0, h):  # 행\n",
    "    for j in range(y):  # 열\n",
    "        print(f'{alpa[i]}{j+1}', end='\\t')  # 번호를 (숫자,알파벳) 형태로 출력\n",
    "    print()  "
   ]
  }
 ],
 "metadata": {
  "kernelspec": {
   "display_name": "base",
   "language": "python",
   "name": "python3"
  },
  "language_info": {
   "codemirror_mode": {
    "name": "ipython",
    "version": 3
   },
   "file_extension": ".py",
   "mimetype": "text/x-python",
   "name": "python",
   "nbconvert_exporter": "python",
   "pygments_lexer": "ipython3",
   "version": "3.12.9"
  }
 },
 "nbformat": 4,
 "nbformat_minor": 5
}
